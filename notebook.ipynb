{
 "cells": [
  {
   "cell_type": "markdown",
   "metadata": {},
   "source": [
    "Names and Ids Here"
   ]
  },
  {
   "cell_type": "code",
   "execution_count": 1,
   "metadata": {},
   "outputs": [],
   "source": [
    "#include \"Coursework1/Coursework1lib.h\"\n",
    "using namespace std;"
   ]
  },
  {
   "cell_type": "markdown",
   "metadata": {},
   "source": [
    "# Explanation of the Matrix class and its helper methods"
   ]
  },
  {
   "cell_type": "code",
   "execution_count": null,
   "metadata": {},
   "outputs": [],
   "source": []
  },
  {
   "cell_type": "markdown",
   "metadata": {},
   "source": [
    "# Explanation of the SolveGaussElimination Class, its helper methods and limitatins"
   ]
  },
  {
   "cell_type": "code",
   "execution_count": null,
   "metadata": {},
   "outputs": [],
   "source": []
  },
  {
   "cell_type": "markdown",
   "metadata": {},
   "source": [
    "# Explanation of the SolveSeidle Class, its helper methods and limitatins"
   ]
  },
  {
   "cell_type": "code",
   "execution_count": null,
   "metadata": {},
   "outputs": [],
   "source": []
  },
  {
   "cell_type": "markdown",
   "metadata": {},
   "source": [
    "# Demonstrating the two solvers with a few examples"
   ]
  },
  {
   "cell_type": "markdown",
   "metadata": {},
   "source": [
    "## Example 1"
   ]
  },
  {
   "cell_type": "code",
   "execution_count": 2,
   "metadata": {},
   "outputs": [],
   "source": [
    "vector<vector<double>> v ={{2, 1, -1}, {1, 4, 3}, {-1 ,2 ,7}};\n",
    "Matrix A = Matrix(v);\n",
    "vector<double> b = {0, 14, 30};"
   ]
  },
  {
   "cell_type": "markdown",
   "metadata": {},
   "source": [
    "### Solution using Gauss Elimination Method:"
   ]
  },
  {
   "cell_type": "code",
   "execution_count": 3,
   "metadata": {},
   "outputs": [
    {
     "name": "stdout",
     "output_type": "stream",
     "text": [
      "Matrix Rearranged\n",
      "                col 0      col 1      col 2      col 3\n",
      "\n",
      "      Row 0:          2         1        -1         0\n",
      "\n",
      "      Row 1:          1         4         3        14\n",
      "\n",
      "      Row 2:         -1         2         7        30\n",
      "\n",
      "\n",
      "\n",
      "Matrix Scaled\n",
      "                col 0      col 1      col 2      col 3\n",
      "\n",
      "      Row 0:          1       0.5      -0.5         0\n",
      "\n",
      "      Row 1:       0.25         1      0.75       3.5\n",
      "\n",
      "      Row 2:  -0.142857  0.285714         1   4.28571\n",
      "\n",
      "\n",
      "\n",
      "Matrix in Row Echelon Form\n",
      "                col 0      col 1      col 2      col 3\n",
      "\n",
      "      Row 0:          1       0.5      -0.5         0\n",
      "\n",
      "      Row 1:          0         1         1         4\n",
      "\n",
      "      Row 2:          0         0         1         5\n",
      "\n",
      "\n",
      "\n",
      "The Solution is: \n",
      "(3, -1, 5)\n"
     ]
    }
   ],
   "source": [
    "SolveGaussElimination x = SolveGaussElimination(A, b, true);"
   ]
  },
  {
   "cell_type": "markdown",
   "metadata": {},
   "source": [
    "### Solution using Gauss-Seidle Method:"
   ]
  },
  {
   "cell_type": "code",
   "execution_count": 4,
   "metadata": {},
   "outputs": [
    {
     "name": "stdout",
     "output_type": "stream",
     "text": [
      "iteration 1: \n",
      "(0, 3.5, 3.28571)\n",
      "\n",
      "\n",
      "iteration 2: \n",
      "(-0.107143, 1.0625, 3.96684)\n",
      "\n",
      "\n",
      "iteration 3: \n",
      "(1.45217, 0.16183, 4.44693)\n",
      "\n",
      "\n",
      "iteration 4: \n",
      "(2.14255, -0.370835, 4.69775)\n",
      "\n",
      "\n",
      "iteration 5: \n",
      "(2.53429, -0.656882, 4.83544)\n",
      "\n",
      "\n",
      "iteration 6: \n",
      "(2.74616, -0.813117, 4.91034)\n",
      "\n",
      "\n",
      "iteration 7: \n",
      "(2.86173, -0.898189, 4.95116)\n",
      "\n",
      "\n",
      "iteration 8: \n",
      "(2.92467, -0.944537, 4.97339)\n",
      "\n",
      "\n",
      "iteration 9: \n",
      "(2.95896, -0.969786, 4.98551)\n",
      "\n",
      "\n",
      "iteration 10: \n",
      "(2.97765, -0.98354, 4.9921)\n",
      "\n",
      "\n",
      "iteration 11: \n",
      "(2.98782, -0.991033, 4.9957)\n",
      "\n",
      "\n",
      "iteration 12: \n",
      "(2.99337, -0.995115, 4.99766)\n",
      "\n",
      "\n",
      "iteration 13: \n",
      "(2.99639, -0.997339, 4.99872)\n",
      "\n",
      "\n",
      "iteration 14: \n",
      "(2.99803, -0.99855, 4.9993)\n",
      "\n",
      "\n",
      "iteration 15: \n",
      "(2.99893, -0.99921, 4.99962)\n",
      "\n",
      "\n",
      "iteration 16: \n",
      "(2.99942, -0.99957, 4.99979)\n",
      "\n",
      "\n",
      "iteration 17: \n",
      "(2.99968, -0.999766, 4.99989)\n",
      "\n",
      "\n",
      "iteration 18: \n",
      "(2.99983, -0.999872, 4.99994)\n",
      "\n",
      "\n",
      "iteration 19: \n",
      "(2.99991, -0.99993, 4.99997)\n",
      "\n",
      "\n",
      "iteration 20: \n",
      "(2.99995, -0.999962, 4.99998)\n",
      "\n",
      "\n",
      "iteration 21: \n",
      "(2.99997, -0.999979, 4.99999)\n",
      "\n",
      "\n",
      "iteration 22: \n",
      "(2.99998, -0.999989, 4.99999)\n",
      "\n",
      "\n",
      "iteration 23: \n",
      "(2.99999, -0.999994, 5)\n",
      "\n",
      "\n",
      "iteration 24: \n",
      "(3, -0.999997, 5)\n",
      "\n",
      "\n",
      "iteration 25: \n",
      "(3, -0.999998, 5)\n",
      "\n",
      "\n",
      "iteration 26: \n",
      "(3, -0.999999, 5)\n",
      "\n",
      "\n",
      "iteration 27: \n",
      "(3, -0.999999, 5)\n",
      "\n",
      "\n",
      "iteration 28: \n",
      "(3, -1, 5)\n",
      "\n",
      "\n",
      "iteration 29: \n",
      "(3, -1, 5)\n",
      "\n",
      "\n",
      "iteration 30: \n",
      "(3, -1, 5)\n",
      "\n",
      "\n"
     ]
    }
   ],
   "source": [
    "SolveSeidle y = SolveSeidle(A, b, 30, true);"
   ]
  },
  {
   "cell_type": "markdown",
   "metadata": {},
   "source": [
    "## Example 2"
   ]
  },
  {
   "cell_type": "code",
   "execution_count": 5,
   "metadata": {},
   "outputs": [],
   "source": [
    "vector<vector<double>> v ={{2, -1, 0}, {1, -3, 1}, {-1, 1 ,-3}};\n",
    "Matrix A = Matrix(v);\n",
    "vector<double> b = {2, -2, 6};"
   ]
  },
  {
   "cell_type": "markdown",
   "metadata": {},
   "source": [
    "### Solution using Gauss Elimination Method:"
   ]
  },
  {
   "cell_type": "code",
   "execution_count": 6,
   "metadata": {},
   "outputs": [
    {
     "name": "stdout",
     "output_type": "stream",
     "text": [
      "Matrix Rearranged\n",
      "                col 0      col 1      col 2      col 3\n",
      "\n",
      "      Row 0:          2        -1         0         2\n",
      "\n",
      "      Row 1:          1        -3         1        -2\n",
      "\n",
      "      Row 2:         -1         1        -3         6\n",
      "\n",
      "\n",
      "\n",
      "Matrix Scaled\n",
      "                col 0      col 1      col 2      col 3\n",
      "\n",
      "      Row 0:          1      -0.5         0         1\n",
      "\n",
      "      Row 1:   0.333333        -1  0.333333 -0.666667\n",
      "\n",
      "      Row 2:  -0.333333  0.333333        -1         2\n",
      "\n",
      "\n",
      "\n",
      "Matrix in Row Echelon Form\n",
      "                col 0      col 1      col 2      col 3\n",
      "\n",
      "      Row 0:          1      -0.5         0         1\n",
      "\n",
      "      Row 1:          0         1      -0.4       1.2\n",
      "\n",
      "      Row 2:          0         0         1  -2.28571\n",
      "\n",
      "\n",
      "\n",
      "The Solution is: \n",
      "(1.14286, 0.285714, -2.28571)\n"
     ]
    }
   ],
   "source": [
    "SolveGaussElimination x = SolveGaussElimination(A, b, true);"
   ]
  },
  {
   "cell_type": "markdown",
   "metadata": {},
   "source": [
    "### Solution using Gauss-Seidle Method:"
   ]
  },
  {
   "cell_type": "code",
   "execution_count": 7,
   "metadata": {},
   "outputs": [
    {
     "name": "stdout",
     "output_type": "stream",
     "text": [
      "iteration 1: \n",
      "(1, 1, -2)\n",
      "\n",
      "\n",
      "iteration 2: \n",
      "(1.5, 0.5, -2.33333)\n",
      "\n",
      "\n",
      "iteration 3: \n",
      "(1.25, 0.305556, -2.31481)\n",
      "\n",
      "\n",
      "iteration 4: \n",
      "(1.15278, 0.279321, -2.29115)\n",
      "\n",
      "\n",
      "iteration 5: \n",
      "(1.13966, 0.282836, -2.28561)\n",
      "\n",
      "\n",
      "iteration 6: \n",
      "(1.14142, 0.28527, -2.28538)\n",
      "\n",
      "\n",
      "iteration 7: \n",
      "(1.14263, 0.285751, -2.28563)\n",
      "\n",
      "\n",
      "iteration 8: \n",
      "(1.14288, 0.285749, -2.28571)\n",
      "\n",
      "\n",
      "iteration 9: \n",
      "(1.14287, 0.285722, -2.28572)\n",
      "\n",
      "\n",
      "iteration 10: \n",
      "(1.14286, 0.285714, -2.28572)\n",
      "\n",
      "\n",
      "iteration 11: \n",
      "(1.14286, 0.285714, -2.28571)\n",
      "\n",
      "\n",
      "iteration 12: \n",
      "(1.14286, 0.285714, -2.28571)\n",
      "\n",
      "\n",
      "iteration 13: \n",
      "(1.14286, 0.285714, -2.28571)\n",
      "\n",
      "\n",
      "iteration 14: \n",
      "(1.14286, 0.285714, -2.28571)\n",
      "\n",
      "\n",
      "iteration 15: \n",
      "(1.14286, 0.285714, -2.28571)\n",
      "\n",
      "\n",
      "iteration 16: \n",
      "(1.14286, 0.285714, -2.28571)\n",
      "\n",
      "\n",
      "iteration 17: \n",
      "(1.14286, 0.285714, -2.28571)\n",
      "\n",
      "\n",
      "iteration 18: \n",
      "(1.14286, 0.285714, -2.28571)\n",
      "\n",
      "\n",
      "iteration 19: \n",
      "(1.14286, 0.285714, -2.28571)\n",
      "\n",
      "\n",
      "iteration 20: \n",
      "(1.14286, 0.285714, -2.28571)\n",
      "\n",
      "\n",
      "iteration 21: \n",
      "(1.14286, 0.285714, -2.28571)\n",
      "\n",
      "\n",
      "iteration 22: \n",
      "(1.14286, 0.285714, -2.28571)\n",
      "\n",
      "\n",
      "iteration 23: \n",
      "(1.14286, 0.285714, -2.28571)\n",
      "\n",
      "\n",
      "iteration 24: \n",
      "(1.14286, 0.285714, -2.28571)\n",
      "\n",
      "\n",
      "iteration 25: \n",
      "(1.14286, 0.285714, -2.28571)\n",
      "\n",
      "\n",
      "iteration 26: \n",
      "(1.14286, 0.285714, -2.28571)\n",
      "\n",
      "\n",
      "iteration 27: \n",
      "(1.14286, 0.285714, -2.28571)\n",
      "\n",
      "\n",
      "iteration 28: \n",
      "(1.14286, 0.285714, -2.28571)\n",
      "\n",
      "\n",
      "iteration 29: \n",
      "(1.14286, 0.285714, -2.28571)\n",
      "\n",
      "\n",
      "iteration 30: \n",
      "(1.14286, 0.285714, -2.28571)\n",
      "\n",
      "\n"
     ]
    }
   ],
   "source": [
    "SolveSeidle y = SolveSeidle(A, b, 30, true);"
   ]
  },
  {
   "cell_type": "markdown",
   "metadata": {},
   "source": [
    "## Example 3"
   ]
  },
  {
   "cell_type": "code",
   "execution_count": 8,
   "metadata": {},
   "outputs": [],
   "source": [
    "vector<vector<double>> v ={{5, 6, 7}, {6, 3, 9}, {7, 9, 10}};\n",
    "Matrix A = Matrix(v);\n",
    "vector<double> b = {18, 18, 26};"
   ]
  },
  {
   "cell_type": "markdown",
   "metadata": {},
   "source": [
    "### Solution using Gauss Elimination Method:"
   ]
  },
  {
   "cell_type": "code",
   "execution_count": 9,
   "metadata": {},
   "outputs": [
    {
     "name": "stdout",
     "output_type": "stream",
     "text": [
      "Matrix Rearranged\n",
      "                col 0      col 1      col 2      col 3\n",
      "\n",
      "      Row 0:          7         9        10        26\n",
      "\n",
      "      Row 1:          5         6         7        18\n",
      "\n",
      "      Row 2:          6         3         9        18\n",
      "\n",
      "\n",
      "\n",
      "Matrix Scaled\n",
      "                col 0      col 1      col 2      col 3\n",
      "\n",
      "      Row 0:        0.7       0.9         1       2.6\n",
      "\n",
      "      Row 1:   0.714286  0.857143         1   2.57143\n",
      "\n",
      "      Row 2:   0.666667  0.333333         1         2\n",
      "\n",
      "\n",
      "\n",
      "Matrix in Row Echelon Form\n",
      "                col 0      col 1      col 2      col 3\n",
      "\n",
      "      Row 0:          1   1.28571   1.42857   3.71429\n",
      "\n",
      "      Row 1:          0         1  0.333333   1.33333\n",
      "\n",
      "      Row 2:          0         0         1         1\n",
      "\n",
      "\n",
      "\n",
      "The Solution is: \n",
      "(1, 1, 1)\n"
     ]
    }
   ],
   "source": [
    "SolveGaussElimination x = SolveGaussElimination(A, b, true);"
   ]
  },
  {
   "cell_type": "markdown",
   "metadata": {},
   "source": [
    "### Solution using Gauss-Seidle Method:"
   ]
  },
  {
   "cell_type": "code",
   "execution_count": 10,
   "metadata": {},
   "outputs": [
    {
     "name": "stdout",
     "output_type": "stream",
     "text": [
      "This matrix is not in diagonally dominant form. Convergence is not guaranteed!\n",
      "iteration 1: \n",
      "(2.57143, 0.857143, 0.888889)\n",
      "\n",
      "\n",
      "iteration 6: \n",
      "(-16.2997, 6.70171, 11.5214)\n",
      "\n",
      "\n",
      "iteration 11: \n",
      "(-58.6386, 17.0658, 36.2927)\n",
      "\n",
      "\n",
      "iteration 16: \n",
      "(-141.786, 36.1943, 85.3481)\n",
      "\n",
      "\n",
      "iteration 21: \n",
      "(-299.796, 71.9214, 178.779)\n",
      "\n",
      "\n",
      "iteration 26: \n",
      "(-597.383, 138.88, 354.851)\n",
      "\n",
      "\n"
     ]
    }
   ],
   "source": [
    "SolveSeidle y = SolveSeidle(A, b, 30, false);"
   ]
  },
  {
   "cell_type": "markdown",
   "metadata": {},
   "source": [
    "## Example 4"
   ]
  },
  {
   "cell_type": "code",
   "execution_count": 11,
   "metadata": {},
   "outputs": [],
   "source": [
    "vector<vector<double>> v = {{10, 2, -1, 2}, {1, 5, 1, 0}, {1, -2, -5, 1}, {3, 0, 0, 9}};\n",
    "Matrix A = Matrix(v);\n",
    "vector<double> b = {-4, 1, 2, 10};"
   ]
  },
  {
   "cell_type": "markdown",
   "metadata": {},
   "source": [
    "### Solution using Gauss Elimination Method:"
   ]
  },
  {
   "cell_type": "code",
   "execution_count": 12,
   "metadata": {},
   "outputs": [
    {
     "name": "stdout",
     "output_type": "stream",
     "text": [
      "Matrix Rearranged\n",
      "                col 0      col 1      col 2      col 3      col 4\n",
      "\n",
      "      Row 0:         10         2        -1         2        -4\n",
      "\n",
      "      Row 1:          1         5         1         0         1\n",
      "\n",
      "      Row 2:          1        -2        -5         1         2\n",
      "\n",
      "      Row 3:          3         0         0         9        10\n",
      "\n",
      "\n",
      "\n",
      "Matrix Scaled\n",
      "                col 0      col 1      col 2      col 3      col 4\n",
      "\n",
      "      Row 0:          1       0.2      -0.1       0.2      -0.4\n",
      "\n",
      "      Row 1:        0.2         1       0.2         0       0.2\n",
      "\n",
      "      Row 2:        0.2      -0.4        -1       0.2       0.4\n",
      "\n",
      "      Row 3:   0.333333         0         0         1   1.11111\n",
      "\n",
      "\n",
      "\n",
      "Matrix in Row Echelon Form\n",
      "                col 0      col 1      col 2      col 3      col 4\n",
      "\n",
      "      Row 0:          1       0.2      -0.1       0.2      -0.4\n",
      "\n",
      "      Row 1:          0         1  0.229167-0.0416667  0.291667\n",
      "\n",
      "      Row 2:          0         0         1 -0.161137 -0.691943\n",
      "\n",
      "      Row 3:          0         0         0         1   1.38272\n",
      "\n",
      "\n",
      "\n",
      "The Solution is: \n",
      "(-0.814815, 0.45679, -0.469136, 1.38272)\n"
     ]
    }
   ],
   "source": [
    "SolveGaussElimination x = SolveGaussElimination(A, b, true);"
   ]
  },
  {
   "cell_type": "markdown",
   "metadata": {},
   "source": [
    "### Solution using Gauss-Seidle Method:"
   ]
  },
  {
   "cell_type": "code",
   "execution_count": 13,
   "metadata": {},
   "outputs": [
    {
     "name": "stdout",
     "output_type": "stream",
     "text": [
      "iteration 1: \n",
      "(-0.4, 0.28, -0.592, 1.24444)\n",
      "\n",
      "\n",
      "iteration 6: \n",
      "(-0.814909, 0.456827, -0.469136, 1.38275)\n",
      "\n",
      "\n",
      "iteration 11: \n",
      "(-0.814815, 0.45679, -0.469136, 1.38272)\n",
      "\n",
      "\n",
      "iteration 16: \n",
      "(-0.814815, 0.45679, -0.469136, 1.38272)\n",
      "\n",
      "\n",
      "iteration 21: \n",
      "(-0.814815, 0.45679, -0.469136, 1.38272)\n",
      "\n",
      "\n",
      "iteration 26: \n",
      "(-0.814815, 0.45679, -0.469136, 1.38272)\n",
      "\n",
      "\n"
     ]
    }
   ],
   "source": [
    "SolveSeidle y = SolveSeidle(A, b, 30, false);"
   ]
  },
  {
   "cell_type": "markdown",
   "metadata": {},
   "source": [
    "## Example 5"
   ]
  },
  {
   "cell_type": "code",
   "execution_count": 14,
   "metadata": {},
   "outputs": [],
   "source": [
    "vector<vector<double>> v ={{-1,1,-1,1}, {1, 1, 1, 1}, {8, 4 ,2 ,1}, {27, 9, 3, 1}};\n",
    "Matrix A = Matrix(v);\n",
    "vector<double> b = {1, 1, -2, 1};"
   ]
  },
  {
   "cell_type": "markdown",
   "metadata": {},
   "source": [
    "### Solution using Gauss Elimination Method:"
   ]
  },
  {
   "cell_type": "code",
   "execution_count": 15,
   "metadata": {},
   "outputs": [
    {
     "name": "stdout",
     "output_type": "stream",
     "text": [
      "Matrix Rearranged\n",
      "                col 0      col 1      col 2      col 3      col 4\n",
      "\n",
      "      Row 0:         27         9         3         1         1\n",
      "\n",
      "      Row 1:          8         4         2         1        -2\n",
      "\n",
      "      Row 2:          1         1         1         1         1\n",
      "\n",
      "      Row 3:         -1         1        -1         1         1\n",
      "\n",
      "\n",
      "\n",
      "Matrix Scaled\n",
      "                col 0      col 1      col 2      col 3      col 4\n",
      "\n",
      "      Row 0:          1  0.333333  0.111111  0.037037  0.037037\n",
      "\n",
      "      Row 1:          1       0.5      0.25     0.125     -0.25\n",
      "\n",
      "      Row 2:          1         1         1         1         1\n",
      "\n",
      "      Row 3:         -1         1        -1         1         1\n",
      "\n",
      "\n",
      "\n",
      "Matrix in Row Echelon Form\n",
      "                col 0      col 1      col 2      col 3      col 4\n",
      "\n",
      "      Row 0:          1  0.333333  0.111111  0.037037  0.037037\n",
      "\n",
      "      Row 1:          0         1  0.833333  0.527778  -1.72222\n",
      "\n",
      "      Row 2:          0         0         1   1.83333   6.33333\n",
      "\n",
      "      Row 3:          0         0         0         1         4\n",
      "\n",
      "\n",
      "\n",
      "The Solution is: \n",
      "(1, -3, -1, 4)\n"
     ]
    }
   ],
   "source": [
    "SolveGaussElimination x = SolveGaussElimination(A, b, true);"
   ]
  },
  {
   "cell_type": "markdown",
   "metadata": {},
   "source": [
    "### Solution using Gauss-Seidle Method:"
   ]
  },
  {
   "cell_type": "code",
   "execution_count": 16,
   "metadata": {},
   "outputs": [
    {
     "name": "stdout",
     "output_type": "stream",
     "text": [
      "This matrix is not in diagonally dominant form. Convergence is not guaranteed!\n",
      "iteration 1: \n",
      "(0.037037, 0.175926, -2.21296, -1.35185)\n",
      "\n",
      "\n",
      "iteration 6: \n",
      "(-0.61628, 2.89132, -0.919571, -3.42717)\n",
      "\n",
      "\n",
      "iteration 11: \n",
      "(-0.752839, 3.00523, -0.747436, -3.5055)\n",
      "\n",
      "\n",
      "iteration 16: \n",
      "(-0.750172, 3.00018, -0.749638, -3.49999)\n",
      "\n",
      "\n",
      "iteration 21: \n",
      "(-0.749997, 2.99999, -0.750013, -3.5)\n",
      "\n",
      "\n",
      "iteration 26: \n",
      "(-0.75, 3, -0.75, -3.5)\n",
      "\n",
      "\n"
     ]
    }
   ],
   "source": [
    "SolveSeidle y = SolveSeidle(A, b, 30, false);"
   ]
  },
  {
   "cell_type": "markdown",
   "metadata": {},
   "source": [
    "# CSVReader class"
   ]
  },
  {
   "cell_type": "code",
   "execution_count": null,
   "metadata": {},
   "outputs": [],
   "source": []
  },
  {
   "cell_type": "code",
   "execution_count": 17,
   "metadata": {},
   "outputs": [],
   "source": [
    "CSVReader csv = CSVReader(\"datasets/part_2/a/2_a_dataset_1.csv\");"
   ]
  },
  {
   "cell_type": "code",
   "execution_count": 18,
   "metadata": {},
   "outputs": [
    {
     "data": {
      "text/plain": [
       "2"
      ]
     },
     "execution_count": 18,
     "metadata": {},
     "output_type": "execute_result"
    }
   ],
   "source": [
    "csv.n_cols"
   ]
  },
  {
   "cell_type": "code",
   "execution_count": 19,
   "metadata": {},
   "outputs": [
    {
     "data": {
      "text/plain": [
       "{ \"x\", \"y\" }"
      ]
     },
     "execution_count": 19,
     "metadata": {},
     "output_type": "execute_result"
    }
   ],
   "source": [
    "csv.col_names"
   ]
  },
  {
   "cell_type": "code",
   "execution_count": 20,
   "metadata": {},
   "outputs": [
    {
     "data": {
      "text/plain": [
       "{ { 0.0000000, 1.0000000, 2.0000000, 3.0000000, 4.0000000, 5.0000000, 6.0000000, 7.0000000, 8.0000000, 9.0000000 }, { 2.7539933, 1.8948100, 5.6677209, 8.5087095, 10.926519, 13.530086, 11.835347, 17.623997, 21.183804, 23.939619 } }"
      ]
     },
     "execution_count": 20,
     "metadata": {},
     "output_type": "execute_result"
    }
   ],
   "source": [
    "csv.data"
   ]
  },
  {
   "cell_type": "markdown",
   "metadata": {},
   "source": [
    "# PolynomialRegression class"
   ]
  },
  {
   "cell_type": "code",
   "execution_count": 21,
   "metadata": {},
   "outputs": [
    {
     "name": "stdout",
     "output_type": "stream",
     "text": [
      "Matrix Rearranged\n",
      "                col 0      col 1      col 2      col 3\n",
      "\n",
      "      Row 0:        285      2025     15333   5198.74\n",
      "\n",
      "      Row 1:         45       285      2025    729.42\n",
      "\n",
      "      Row 2:         10        45       285   117.865\n",
      "\n",
      "\n",
      "\n",
      "Matrix Scaled\n",
      "                col 0      col 1      col 2      col 3\n",
      "\n",
      "      Row 0:  0.0185874  0.132068         1  0.339056\n",
      "\n",
      "      Row 1:  0.0222222  0.140741         1  0.360207\n",
      "\n",
      "      Row 2:  0.0350877  0.157895         1   0.41356\n",
      "\n",
      "\n",
      "\n",
      "Matrix in Row Echelon Form\n",
      "                col 0      col 1      col 2      col 3\n",
      "\n",
      "      Row 0:          1   7.10526      53.8   18.2412\n",
      "\n",
      "      Row 1:          0         1      11.4   2.63219\n",
      "\n",
      "      Row 2:          0         0         1 0.0915477\n",
      "\n",
      "\n",
      "\n",
      "The Solution is: \n",
      "(2.02889, 1.58855, 0.0915477)\n"
     ]
    }
   ],
   "source": [
    "PlynomialRegression P(2);\n",
    "CSVReader csv = CSVReader(\"./datasets/part_2/a/2_a_dataset_1.csv\");\n",
    "P.fit(csv.data[0], csv.data[1], 1, true);\n",
    "vector<double> y = P.predict(0, 10, 0.1);"
   ]
  },
  {
   "cell_type": "code",
   "execution_count": 22,
   "metadata": {},
   "outputs": [
    {
     "name": "stdout",
     "output_type": "stream",
     "text": [
      "Please Specify the number of iterations\n",
      "30\n",
      "This matrix is not in diagonally dominant form. Convergence is not guaranteed!\n",
      "iteration 1: \n",
      "(0.41356, 2.49407, 17.8329)\n",
      "\n",
      "\n",
      "iteration 2: \n",
      "(-976.717, 30.0705, 47.764)\n",
      "\n",
      "\n",
      "iteration 3: \n",
      "(-2782.95, 102.596, 99.6891)\n",
      "\n",
      "\n",
      "iteration 4: \n",
      "(-6091.83, 256.111, 191.551)\n",
      "\n",
      "\n",
      "iteration 5: \n",
      "(-12124.8, 555.976, 355.886)\n",
      "\n",
      "\n",
      "iteration 6: \n",
      "(-23096.6, 1120.73, 651.692)\n",
      "\n",
      "\n",
      "iteration 7: \n",
      "(-43023.7, 2165.33, 1185.95)\n",
      "\n",
      "\n",
      "iteration 8: \n",
      "(-79188.9, 4079.59, 2152.65)\n",
      "\n",
      "\n",
      "iteration 9: \n",
      "(-144799, 7570.37, 3903.58)\n",
      "\n",
      "\n",
      "iteration 10: \n",
      "(-263802, 13919.5, 7076.63)\n",
      "\n",
      "\n",
      "iteration 11: \n",
      "(-479624, 25451.3, 12828.5)\n",
      "\n",
      "\n",
      "iteration 12: \n",
      "(-871012, 46380.8, 23256.8)\n",
      "\n",
      "\n",
      "iteration 13: \n",
      "(-1.58076e+06, 84351.1, 42165)\n",
      "\n",
      "\n",
      "iteration 14: \n",
      "(-2.86781e+06, 153222, 76450.4)\n",
      "\n",
      "\n",
      "iteration 15: \n",
      "(-5.20171e+06, 278125, 138620)\n",
      "\n",
      "\n",
      "iteration 16: \n",
      "(-9.4339e+06, 504635, 251353)\n",
      "\n",
      "\n",
      "iteration 17: \n",
      "(-1.71084e+07, 915393, 455776)\n",
      "\n",
      "\n",
      "iteration 18: \n",
      "(-3.10249e+07, 1.66026e+06, 826464)\n",
      "\n",
      "\n",
      "iteration 19: \n",
      "(-5.62603e+07, 3.01097e+06, 1.49865e+06)\n",
      "\n",
      "\n",
      "iteration 20: \n",
      "(-1.02021e+08, 5.46029e+06, 2.71755e+06)\n",
      "\n",
      "\n",
      "iteration 21: \n",
      "(-1.85001e+08, 9.90178e+06, 4.92785e+06)\n",
      "\n",
      "\n",
      "iteration 22: \n",
      "(-3.35473e+08, 1.79558e+07, 8.93588e+06)\n",
      "\n",
      "\n",
      "iteration 23: \n",
      "(-6.08331e+08, 3.25604e+07, 1.62038e+07)\n",
      "\n",
      "\n",
      "iteration 24: \n",
      "(-1.10312e+09, 5.90438e+07, 2.93832e+07)\n",
      "\n",
      "\n",
      "iteration 25: \n",
      "(-2.00034e+09, 1.07067e+08, 5.32818e+07)\n",
      "\n",
      "\n",
      "iteration 26: \n",
      "(-3.62731e+09, 1.94151e+08, 9.66185e+07)\n",
      "\n",
      "\n",
      "iteration 27: \n",
      "(-6.57757e+09, 3.52064e+08, 1.75203e+08)\n",
      "\n",
      "\n",
      "iteration 28: \n",
      "(-1.19274e+10, 6.38414e+08, 3.17704e+08)\n",
      "\n",
      "\n",
      "iteration 29: \n",
      "(-2.16286e+10, 1.15767e+09, 5.76107e+08)\n",
      "\n",
      "\n",
      "iteration 30: \n",
      "(-3.92201e+10, 2.09925e+09, 1.04468e+09)\n",
      "\n",
      "\n"
     ]
    }
   ],
   "source": [
    "P.fit(csv.data[0], csv.data[1], 2, true);\n",
    "vector<double> y = P.predict(0, 10, 0.1);"
   ]
  },
  {
   "cell_type": "code",
   "execution_count": 23,
   "metadata": {},
   "outputs": [
    {
     "name": "stdout",
     "output_type": "stream",
     "text": [
      "Matrix Rearranged\n",
      "                col 0      col 1      col 2      col 3\n",
      "\n",
      "      Row 0:        285      2025     15333   13874.5\n",
      "\n",
      "      Row 1:         45       285      2025   1741.22\n",
      "\n",
      "      Row 2:         10        45       285   224.363\n",
      "\n",
      "\n",
      "\n",
      "Matrix Scaled\n",
      "                col 0      col 1      col 2      col 3\n",
      "\n",
      "      Row 0:  0.0185874  0.132068         1  0.904878\n",
      "\n",
      "      Row 1:  0.0222222  0.140741         1  0.859861\n",
      "\n",
      "      Row 2:  0.0350877  0.157895         1  0.787238\n",
      "\n",
      "\n",
      "\n",
      "Matrix in Row Echelon Form\n",
      "                col 0      col 1      col 2      col 3\n",
      "\n",
      "      Row 0:          1   7.10526      53.8   48.6824\n",
      "\n",
      "      Row 1:          0         1      11.4   12.9399\n",
      "\n",
      "      Row 2:          0         0         1   1.69675\n",
      "\n",
      "\n",
      "\n",
      "The Solution is: \n",
      "(2.89269, -6.40308, 1.69675)\n"
     ]
    }
   ],
   "source": [
    "PlynomialRegression P_2(2);\n",
    "CSVReader csv_2 = CSVReader(\"./datasets/part_2/a/2_a_dataset_2.csv\");\n",
    "P_2.fit(csv_2.data[0], csv_2.data[1], 1, true);\n",
    "vector<double> y = P_2.predict(0, 10, 1);"
   ]
  },
  {
   "cell_type": "code",
   "execution_count": 24,
   "metadata": {},
   "outputs": [
    {
     "data": {
      "text/plain": [
       "4.8140069"
      ]
     },
     "execution_count": 24,
     "metadata": {},
     "output_type": "execute_result"
    }
   ],
   "source": [
    "P_2.rmse(csv_2.data[1], y)"
   ]
  },
  {
   "cell_type": "code",
   "execution_count": 25,
   "metadata": {},
   "outputs": [
    {
     "name": "stdout",
     "output_type": "stream",
     "text": [
      "Please Specify the number of iterations\n",
      "30\n",
      "This matrix is not in diagonally dominant form. Convergence is not guaranteed!\n",
      "iteration 1: \n",
      "(0.787238, 5.98524, 47.7098)\n",
      "\n",
      "\n",
      "iteration 2: \n",
      "(-2608.52, 78.9914, 127.737)\n",
      "\n",
      "\n",
      "iteration 3: \n",
      "(-7432.73, 272.092, 266.518)\n",
      "\n",
      "\n",
      "iteration 4: \n",
      "(-16271.2, 681.561, 511.986)\n",
      "\n",
      "\n",
      "iteration 5: \n",
      "(-32386.7, 1482.01, 951.058)\n",
      "\n",
      "\n",
      "iteration 6: \n",
      "(-61696.2, 2990.1, 1741.34)\n",
      "\n",
      "\n",
      "iteration 7: \n",
      "(-114929, 5780.07, 3168.63)\n",
      "\n",
      "\n",
      "iteration 8: \n",
      "(-211540, 10893.3, 5751.16)\n",
      "\n",
      "\n",
      "iteration 9: \n",
      "(-386811, 20218.1, 10428.7)\n",
      "\n",
      "\n",
      "iteration 10: \n",
      "(-704716, 37178.7, 18905.3)\n",
      "\n",
      "\n",
      "iteration 11: \n",
      "(-1.28127e+06, 67984.5, 34271)\n",
      "\n",
      "\n",
      "iteration 12: \n",
      "(-2.32683e+06, 123895, 62129.3)\n",
      "\n",
      "\n",
      "iteration 13: \n",
      "(-4.22287e+06, 225329, 112641)\n",
      "\n",
      "\n",
      "iteration 14: \n",
      "(-7.66111e+06, 409311, 204232)\n",
      "\n",
      "\n",
      "iteration 15: \n",
      "(-1.38959e+07, 742980, 370312)\n",
      "\n",
      "\n",
      "iteration 16: \n",
      "(-2.52019e+07, 1.34808e+06, 671470)\n",
      "\n",
      "\n",
      "iteration 17: \n",
      "(-4.57036e+07, 2.44539e+06, 1.21757e+06)\n",
      "\n",
      "\n",
      "iteration 18: \n",
      "(-8.28803e+07, 4.43522e+06, 2.20783e+06)\n",
      "\n",
      "\n",
      "iteration 19: \n",
      "(-1.50295e+08, 8.04353e+06, 4.00352e+06)\n",
      "\n",
      "\n",
      "iteration 20: \n",
      "(-2.72541e+08, 1.45867e+07, 7.25971e+06)\n",
      "\n",
      "\n",
      "iteration 21: \n",
      "(-4.94215e+08, 2.64518e+07, 1.31643e+07)\n",
      "\n",
      "\n",
      "iteration 22: \n",
      "(-8.96188e+08, 4.79673e+07, 2.38714e+07)\n",
      "\n",
      "\n",
      "iteration 23: \n",
      "(-1.6251e+09, 8.69825e+07, 4.32872e+07)\n",
      "\n",
      "\n",
      "iteration 24: \n",
      "(-2.94688e+09, 1.57731e+08, 7.84946e+07)\n",
      "\n",
      "\n",
      "iteration 25: \n",
      "(-5.34373e+09, 2.86022e+08, 1.42338e+08)\n",
      "\n",
      "\n",
      "iteration 26: \n",
      "(-9.69004e+09, 5.18658e+08, 2.58108e+08)\n",
      "\n",
      "\n",
      "iteration 27: \n",
      "(-1.75714e+10, 9.40508e+08, 4.6804e+08)\n",
      "\n",
      "\n",
      "iteration 28: \n",
      "(-3.18631e+10, 1.70547e+09, 8.48719e+08)\n",
      "\n",
      "\n",
      "iteration 29: \n",
      "(-5.77789e+10, 3.09261e+09, 1.53902e+09)\n",
      "\n",
      "\n",
      "iteration 30: \n",
      "(-1.04773e+11, 5.60798e+09, 2.79078e+09)\n",
      "\n",
      "\n"
     ]
    }
   ],
   "source": [
    "P_2.fit(csv_2.data[0], csv_2.data[1], 2, true);\n",
    "vector<double> y = P_2.predict(0, 10, 1);"
   ]
  },
  {
   "cell_type": "code",
   "execution_count": 26,
   "metadata": {},
   "outputs": [],
   "source": [
    "CSVReader csv_3 = CSVReader(\"./datasets/kaggle_Housing.csv\");\n"
   ]
  },
  {
   "cell_type": "code",
   "execution_count": 27,
   "metadata": {},
   "outputs": [
    {
     "data": {
      "text/plain": [
       "6"
      ]
     },
     "execution_count": 27,
     "metadata": {},
     "output_type": "execute_result"
    }
   ],
   "source": [
    "csv_3.n_cols"
   ]
  },
  {
   "cell_type": "code",
   "execution_count": 28,
   "metadata": {},
   "outputs": [
    {
     "data": {
      "text/plain": [
       "{ \"price\", \"lotsize\", \"bedrooms\", \"bathrms\", \"stories\", \"garagepl\r",
       "\" }"
      ]
     },
     "execution_count": 28,
     "metadata": {},
     "output_type": "execute_result"
    }
   ],
   "source": [
    "csv_3.col_names"
   ]
  },
  {
   "cell_type": "code",
   "execution_count": 29,
   "metadata": {},
   "outputs": [
    {
     "name": "stdout",
     "output_type": "stream",
     "text": [
      "Matrix Rearranged\n",
      "                col 0      col 1      col 2      col 3\n",
      "\n",
      "      Row 0: 2.81204e+068.47059e+061.70448e+102.08467e+11\n",
      "\n",
      "      Row 1:       1619      50978.47059e+061.14221e+08\n",
      "\n",
      "      Row 2:        546      16192.81204e+063.71944e+07\n",
      "\n",
      "\n",
      "\n",
      "Matrix Scaled\n",
      "                col 0      col 1      col 2      col 3\n",
      "\n",
      "      Row 0: 0.000164980.000496961         1   12.2306\n",
      "\n",
      "      Row 1: 0.0001911320.000601729         1   13.4844\n",
      "\n",
      "      Row 2: 0.0001941650.000575738         1   13.2268\n",
      "\n",
      "\n",
      "\n",
      "Matrix in Row Echelon Form\n",
      "                col 0      col 1      col 2      col 3\n",
      "\n",
      "      Row 0:          1   3.01225   6061.35   74133.6\n",
      "\n",
      "      Row 1:          0         1  -6098.83    -26349\n",
      "\n",
      "      Row 2:          0         0         1   6.05302\n",
      "\n",
      "\n",
      "\n",
      "The Solution is: \n",
      "(5612.6, 10567.4, 6.05302)\n"
     ]
    }
   ],
   "source": [
    "MultipleLinearRegression M;\n",
    "M.fit(csv_3.data[2], csv_3.data[1],  csv_3.data[0], 1, true);\n",
    "vector<double> y = M.predict(csv_3.data[2], csv_3.data[1]);"
   ]
  },
  {
   "cell_type": "code",
   "execution_count": 30,
   "metadata": {},
   "outputs": [
    {
     "name": "stdout",
     "output_type": "stream",
     "text": [
      "-I/srv/conda/envs/notebook/include/python3.7m -I/srv/conda/envs/notebook/include/python3.7m\n"
     ]
    }
   ],
   "source": [
    "!python3-config --includes"
   ]
  },
  {
   "cell_type": "code",
   "execution_count": 31,
   "metadata": {},
   "outputs": [
    {
     "name": "stdout",
     "output_type": "stream",
     "text": [
      "-lpython3.7m -lcrypt -lpthread -ldl  -lutil -lrt -lm \n"
     ]
    }
   ],
   "source": [
    "!python3-config --libs"
   ]
  },
  {
   "cell_type": "code",
   "execution_count": 32,
   "metadata": {},
   "outputs": [],
   "source": [
    "#pragma cling add_include_path(\"/srv/conda/envs/notebook/include/python3.7m\")\n",
    "#pragma cling add_library_path(\"/srv/conda/envs/notebook/lib\")\n",
    "#pragma cling load(\"python3.7m\")"
   ]
  },
  {
   "cell_type": "code",
   "execution_count": 33,
   "metadata": {},
   "outputs": [],
   "source": [
    "#define WITHOUT_NUMPY 1\n",
    "#include \"Coursework1/PlottingFunctions.h\"\n"
   ]
  },
  {
   "cell_type": "code",
   "execution_count": 34,
   "metadata": {},
   "outputs": [
    {
     "name": "stdout",
     "output_type": "stream",
     "text": [
      "Matrix Rearranged\n",
      "                col 0      col 1      col 2      col 3\n",
      "\n",
      "      Row 0:        285      2025     15333   13874.5\n",
      "\n",
      "      Row 1:         45       285      2025   1741.22\n",
      "\n",
      "      Row 2:         10        45       285   224.363\n",
      "\n",
      "\n",
      "\n",
      "Matrix Scaled\n",
      "                col 0      col 1      col 2      col 3\n",
      "\n",
      "      Row 0:  0.0185874  0.132068         1  0.904878\n",
      "\n",
      "      Row 1:  0.0222222  0.140741         1  0.859861\n",
      "\n",
      "      Row 2:  0.0350877  0.157895         1  0.787238\n",
      "\n",
      "\n",
      "\n",
      "Matrix in Row Echelon Form\n",
      "                col 0      col 1      col 2      col 3\n",
      "\n",
      "      Row 0:          1   7.10526      53.8   48.6824\n",
      "\n",
      "      Row 1:          0         1      11.4   12.9399\n",
      "\n",
      "      Row 2:          0         0         1   1.69675\n",
      "\n",
      "\n",
      "\n",
      "The Solution is: \n",
      "(2.89269, -6.40308, 1.69675)\n"
     ]
    }
   ],
   "source": [
    "PlynomialRegression P_2(2);\n",
    "CSVReader csv_2 = CSVReader(\"./datasets/part_2/a/2_a_dataset_2.csv\");\n",
    "P_2.fit(csv_2.data[0], csv_2.data[1], 1, true);\n",
    "vector<double> y = P_2.predict(0, 10, 0.1);\n",
    "\n",
    "vector<double> x;\n",
    "for(double i=0; i<=10; i += 0.1) {\n",
    "    x.push_back(i);\n",
    "}\n",
    "\n",
    "PlotLineScatter Plot(x, y, csv_2.data[0], csv_2.data[1], \"chart1.png\");\n",
    "Plot.gen_plot()"
   ]
  },
  {
   "cell_type": "markdown",
   "metadata": {},
   "source": [
    "![title](chart1.png)"
   ]
  },
  {
   "cell_type": "code",
   "execution_count": 50,
   "metadata": {},
   "outputs": [
    {
     "name": "stdout",
     "output_type": "stream",
     "text": [
      "Please Specify the number of iterations\n",
      "100\n",
      "This matrix is not in diagonally dominant form. Convergence is not guaranteed!\n",
      "iteration 1: \n",
      "(0.787238, 5.98524, 47.7098)\n",
      "\n",
      "\n",
      "iteration 6: \n",
      "(-61696.2, 2990.1, 1741.34)\n",
      "\n",
      "\n",
      "iteration 11: \n",
      "(-1.28127e+06, 67984.5, 34271)\n",
      "\n",
      "\n",
      "iteration 16: \n",
      "(-2.52019e+07, 1.34808e+06, 671470)\n",
      "\n",
      "\n",
      "iteration 21: \n",
      "(-4.94215e+08, 2.64518e+07, 1.31643e+07)\n",
      "\n",
      "\n",
      "iteration 26: \n",
      "(-9.69004e+09, 5.18658e+08, 2.58108e+08)\n",
      "\n",
      "\n",
      "iteration 31: \n",
      "(-1.8999e+11, 1.01692e+10, 5.06066e+09)\n",
      "\n",
      "\n",
      "iteration 36: \n",
      "(-3.72509e+12, 1.99385e+11, 9.92231e+10)\n",
      "\n",
      "\n",
      "iteration 41: \n",
      "(-7.30369e+13, 3.9093e+12, 1.94544e+12)\n",
      "\n",
      "\n",
      "iteration 46: \n",
      "(-1.43202e+15, 7.66486e+13, 3.81438e+13)\n",
      "\n",
      "\n",
      "iteration 51: \n",
      "(-2.80772e+16, 1.50283e+15, 7.47875e+14)\n",
      "\n",
      "\n",
      "iteration 56: \n",
      "(-5.50502e+17, 2.94656e+16, 1.46634e+16)\n",
      "\n",
      "\n",
      "iteration 61: \n",
      "(-1.07936e+19, 5.77725e+17, 2.87502e+17)\n",
      "\n",
      "\n",
      "iteration 66: \n",
      "(-2.11626e+20, 1.13273e+19, 5.63697e+18)\n",
      "\n",
      "\n",
      "iteration 71: \n",
      "(-4.14931e+21, 2.22091e+20, 1.10523e+20)\n",
      "\n",
      "\n",
      "iteration 76: \n",
      "(-8.13544e+22, 4.35449e+21, 2.16699e+21)\n",
      "\n",
      "\n",
      "iteration 81: \n",
      "(-1.5951e+24, 8.53774e+22, 4.24876e+22)\n",
      "\n",
      "\n",
      "iteration 86: \n",
      "(-3.12746e+25, 1.67397e+24, 8.33044e+23)\n",
      "\n",
      "\n",
      "iteration 91: \n",
      "(-6.13194e+26, 3.28212e+25, 1.63333e+25)\n",
      "\n",
      "\n",
      "iteration 96: \n",
      "(-1.20227e+28, 6.43516e+26, 3.20242e+26)\n",
      "\n",
      "\n"
     ]
    }
   ],
   "source": [
    "PlynomialRegression P_2(2);\n",
    "CSVReader csv_2 = CSVReader(\"./datasets/part_2/a/2_a_dataset_2.csv\");\n",
    "P_2.fit(csv_2.data[0], csv_2.data[1], 2, false);\n",
    "vector<double> y = P_2.predict(0, 10, 0.1);\n",
    "\n",
    "vector<double> x;\n",
    "for(double i=0; i<=10; i += 0.1) {\n",
    "    x.push_back(i);\n",
    "}\n",
    "\n",
    "PlotLineScatter Plot(x, y, csv_2.data[0], csv_2.data[1], \"chart1-2.png\");\n",
    "Plot.gen_plot()"
   ]
  },
  {
   "cell_type": "markdown",
   "metadata": {},
   "source": [
    "![title](chart1-2.png)"
   ]
  },
  {
   "cell_type": "code",
   "execution_count": 36,
   "metadata": {},
   "outputs": [
    {
     "name": "stdout",
     "output_type": "stream",
     "text": [
      "Newton Interpolation Polynomial: 10+20x^1+1x^2-0.2x^3+1.02969e-13x^4-1.72975e-14x^5-4.80697e-15x^6-5.08368e-17x^7+4.59488e-17x^8+2.53217e-18x^9\n"
     ]
    }
   ],
   "source": [
    "std::vector<std::pair<std::string, std::vector<double>>> dataset_1 = read_csv(\"./datasets/part_3/3_dataset_1.csv\");\n",
    "std::vector<std::pair<std::string, std::vector<double>>> dataset_2 = read_csv(\"./datasets/part_3/3_dataset_2.csv\");\n",
    "\n",
    "vector<double> x1 = dataset_1.at(0).second;\n",
    "vector<double> y1 = dataset_1.at(1).second;\n",
    "vector<double> x2 = dataset_2.at(0).second;\n",
    "vector<double> y2 = dataset_2.at(1).second;\n",
    "\n",
    "NewtonInterpolator Newton;\n",
    "\n",
    "vector<double> a1 = Newton.fit(x1,y1);\n",
    "cout << \"Newton Interpolation Polynomial: \"; Newton.writeNewtonPolynomial(a1);"
   ]
  },
  {
   "cell_type": "code",
   "execution_count": 37,
   "metadata": {},
   "outputs": [
    {
     "name": "stdout",
     "output_type": "stream",
     "text": [
      "Newton Interpolation Polynomial: 1.10059+0.555967x^1-0.248617x^2-0.243468x^3-0.00947879x^4+0.0356979x^5+0.00708407x^6-0.00222214x^7-0.000773607x^8+4.02274e-05x^9+3.83602e-05x^10+2.01025e-06x^11-9.20882e-07x^12-1.17225e-07x^13+7.73236e-09x^14+2.16861e-09x^15+6.52763e-11x^16-1.25152e-11x^17-1.14218e-12x^18-2.91053e-14x^19\n"
     ]
    }
   ],
   "source": [
    "vector<double> a2 = Newton.fit(x2,y2);\n",
    "cout << \"Newton Interpolation Polynomial: \"; Newton.writeNewtonPolynomial(a2);"
   ]
  },
  {
   "cell_type": "code",
   "execution_count": 38,
   "metadata": {},
   "outputs": [],
   "source": [
    "std::vector<string> colnames(2);\n",
    "colnames[0] = \"Newton Coefficients Dataset 1\";\n",
    "colnames[1] = \"Newton Coefficients Dataset 2\";\n",
    "std::vector<vector<double>> coeff(2);\n",
    "coeff[0] = a1;\n",
    "coeff[1] = a2;\n",
    "write_csv(\"Newton Polynomial Coefficients.csv\",colnames,coeff);"
   ]
  },
  {
   "cell_type": "code",
   "execution_count": 39,
   "metadata": {},
   "outputs": [
    {
     "name": "stdout",
     "output_type": "stream",
     "text": [
      "x = -7.35324\n",
      "Newton Interpolation: -3.4766\n",
      "x = -1.27357\n",
      "Newton Interpolation: -13.4363\n",
      "x = -5.72844\n",
      "Newton Interpolation: -34.158\n",
      "x = 2.8193\n",
      "Newton Interpolation: 69.8527\n",
      "x = 7.57409\n",
      "Newton Interpolation: 131.948\n",
      "x = -0.144181\n",
      "Newton Interpolation: 7.13778\n",
      "x = -9.15543\n",
      "Newton Interpolation: 64.1983\n",
      "x = 0.0469531\n",
      "Newton Interpolation: 10.9412\n",
      "x = -9.6549\n",
      "Newton Interpolation: 90.1196\n",
      "x = -8.55566\n",
      "Newton Interpolation: 37.3398\n"
     ]
    }
   ],
   "source": [
    "vector<double> x1 = dataset_1.at(0).second;\n",
    "vector<double> y1 = dataset_1.at(1).second;\n",
    "\n",
    "std::vector<string> colnamesnewp(2);\n",
    "colnamesnewp[0] = \"X\";\n",
    "colnamesnewp[1] = \"Y\";\n",
    "\n",
    "vector<vector<double>> newPointsNewton2D1 = getPointsNewton(x1,y1,x1.size(),Newton,a1);\n",
    "write_csv(\"Newton 2 Times Dataset1.csv\",colnamesnewp,newPointsNewton2D1);\n",
    "\n",
    "PlotInterpolation Plot(x1, y1, newPointsNewton2D1[0], newPointsNewton2D1[1], \"chart2.png\");\n",
    "Plot.gen_plot()"
   ]
  },
  {
   "cell_type": "markdown",
   "metadata": {},
   "source": [
    "![title](chart2.png)"
   ]
  },
  {
   "cell_type": "code",
   "execution_count": 40,
   "metadata": {},
   "outputs": [
    {
     "name": "stdout",
     "output_type": "stream",
     "text": [
      "x = -7.35324\n",
      "Newton Interpolation: -3.4766\n",
      "x = -1.27357\n",
      "Newton Interpolation: -13.4363\n",
      "x = -5.72844\n",
      "Newton Interpolation: -34.158\n",
      "x = 2.8193\n",
      "Newton Interpolation: 69.8527\n",
      "x = 7.57409\n",
      "Newton Interpolation: 131.948\n",
      "x = -0.144181\n",
      "Newton Interpolation: 7.13778\n",
      "x = -9.15543\n",
      "Newton Interpolation: 64.1983\n",
      "x = 0.0469531\n",
      "Newton Interpolation: 10.9412\n",
      "x = -9.6549\n",
      "Newton Interpolation: 90.1196\n",
      "x = -8.55566\n",
      "Newton Interpolation: 37.3398\n",
      "x = 2.96628\n",
      "Newton Interpolation: 72.9045\n",
      "x = 7.49498\n",
      "Newton Interpolation: 131.869\n",
      "x = -0.00455605\n",
      "Newton Interpolation: 9.9089\n",
      "x = 2.35567\n",
      "Newton Interpolation: 60.0481\n",
      "x = 3.23425\n",
      "Newton Interpolation: 78.3791\n",
      "x = 4.36813\n",
      "Newton Interpolation: 99.7738\n",
      "x = -8.91581\n",
      "Newton Interpolation: 52.922\n",
      "x = -3.69746\n",
      "Newton Interpolation: -40.1683\n",
      "x = 4.26056\n",
      "Newton Interpolation: 97.8957\n",
      "x = -3.00785\n",
      "Newton Interpolation: -35.6673\n",
      "x = 8.46356\n",
      "Newton Interpolation: 129.651\n",
      "x = 4.20379\n",
      "Newton Interpolation: 96.8898\n",
      "x = -8.44705\n",
      "Newton Interpolation: 32.9556\n",
      "x = 6.64506\n",
      "Newton Interpolation: 128.373\n",
      "x = -1.6869\n",
      "Newton Interpolation: -19.9323\n",
      "x = -0.918925\n",
      "Newton Interpolation: -7.37888\n",
      "x = -4.6886\n",
      "Newton Interpolation: -41.1752\n",
      "x = -6.7033\n",
      "Newton Interpolation: -18.8902\n",
      "x = 6.88573\n",
      "Newton Interpolation: 129.833\n",
      "x = -8.67234\n",
      "Newton Interpolation: 42.2111\n"
     ]
    }
   ],
   "source": [
    "vector<double> x1 = dataset_1.at(0).second;\n",
    "vector<double> y1 = dataset_1.at(1).second;\n",
    "vector<vector<double>> newPointsNewton4D1 = getPointsNewton(x1,y1,x1.size()*3,Newton,a1);\n",
    "write_csv(\"Newton 4 Times Dataset1.csv\",colnamesnewp,newPointsNewton4D1);\n",
    "\n",
    "PlotInterpolation Plot(x1, y1, newPointsNewton4D1[0], newPointsNewton4D1[1], \"chart3.png\");\n",
    "Plot.gen_plot()"
   ]
  },
  {
   "cell_type": "markdown",
   "metadata": {},
   "source": [
    "![title](chart3.png)"
   ]
  },
  {
   "cell_type": "code",
   "execution_count": 41,
   "metadata": {},
   "outputs": [
    {
     "name": "stdout",
     "output_type": "stream",
     "text": [
      "x = -7.82099\n",
      "Newton Interpolation: 0.01227\n",
      "x = -2.40216\n",
      "Newton Interpolation: 0.147797\n",
      "x = -6.3728\n",
      "Newton Interpolation: 0.0240288\n",
      "x = 1.24584\n",
      "Newton Interpolation: 1.03316\n",
      "x = 5.4838\n",
      "Newton Interpolation: 0.050436\n",
      "x = -1.39553\n",
      "Newton Interpolation: 0.341593\n",
      "x = -9.42729\n",
      "Newton Interpolation: -0.00242728\n",
      "x = -1.22517\n",
      "Newton Interpolation: 0.403353\n",
      "x = -9.87247\n",
      "Newton Interpolation: -0.239619\n",
      "x = -8.89271\n",
      "Newton Interpolation: 0.0243353\n",
      "x = 1.37684\n",
      "Newton Interpolation: 0.920963\n",
      "x = 5.41329\n",
      "Newton Interpolation: 0.064648\n",
      "x = -1.27108\n",
      "Newton Interpolation: 0.38559\n",
      "x = 0.832597\n",
      "Newton Interpolation: 1.26192\n",
      "x = 1.61568\n",
      "Newton Interpolation: 0.685382\n",
      "x = 2.62631\n",
      "Newton Interpolation: -0.0983455\n",
      "x = -9.21372\n",
      "Newton Interpolation: 0.0468638\n",
      "x = -4.56258\n",
      "Newton Interpolation: 0.0482861\n",
      "x = 2.53044\n",
      "Newton Interpolation: -0.0704881\n",
      "x = -3.94793\n",
      "Newton Interpolation: 0.061169\n"
     ]
    }
   ],
   "source": [
    "vector<double> x2 = dataset_2.at(0).second;\n",
    "vector<double> y2 = dataset_2.at(1).second;\n",
    "vector<vector<double>> newPointsNewton2D2 = getPointsNewton(x2,y2,x2.size(),Newton,a2);\n",
    "write_csv(\"Newton 2 Times Dataset2.csv\",colnamesnewp,newPointsNewton2D2);\n",
    "\n",
    "PlotInterpolation Plot(x2, y2, newPointsNewton2D2[0], newPointsNewton2D2[1], \"chart4.png\");\n",
    "Plot.gen_plot()"
   ]
  },
  {
   "cell_type": "markdown",
   "metadata": {},
   "source": [
    "![title](chart4.png)"
   ]
  },
  {
   "cell_type": "code",
   "execution_count": 42,
   "metadata": {},
   "outputs": [
    {
     "name": "stdout",
     "output_type": "stream",
     "text": [
      "x = -7.82099\n",
      "Newton Interpolation: 0.01227\n",
      "x = -2.40216\n",
      "Newton Interpolation: 0.147797\n",
      "x = -6.3728\n",
      "Newton Interpolation: 0.0240288\n",
      "x = 1.24584\n",
      "Newton Interpolation: 1.03316\n",
      "x = 5.4838\n",
      "Newton Interpolation: 0.050436\n",
      "x = -1.39553\n",
      "Newton Interpolation: 0.341593\n",
      "x = -9.42729\n",
      "Newton Interpolation: -0.00242728\n",
      "x = -1.22517\n",
      "Newton Interpolation: 0.403353\n",
      "x = -9.87247\n",
      "Newton Interpolation: -0.239619\n",
      "x = -8.89271\n",
      "Newton Interpolation: 0.0243353\n",
      "x = 1.37684\n",
      "Newton Interpolation: 0.920963\n",
      "x = 5.41329\n",
      "Newton Interpolation: 0.064648\n",
      "x = -1.27108\n",
      "Newton Interpolation: 0.38559\n",
      "x = 0.832597\n",
      "Newton Interpolation: 1.26192\n",
      "x = 1.61568\n",
      "Newton Interpolation: 0.685382\n",
      "x = 2.62631\n",
      "Newton Interpolation: -0.0983455\n",
      "x = -9.21372\n",
      "Newton Interpolation: 0.0468638\n",
      "x = -4.56258\n",
      "Newton Interpolation: 0.0482861\n",
      "x = 2.53044\n",
      "Newton Interpolation: -0.0704881\n",
      "x = -3.94793\n",
      "Newton Interpolation: 0.061169\n",
      "x = 6.27659\n",
      "Newton Interpolation: 0.560015\n",
      "x = 2.47983\n",
      "Newton Interpolation: -0.0508226\n",
      "x = -8.79591\n",
      "Newton Interpolation: 0.0135965\n",
      "x = 4.65575\n",
      "Newton Interpolation: 0.00818451\n",
      "x = -2.77056\n",
      "Newton Interpolation: 0.115192\n",
      "x = -2.08606\n",
      "Newton Interpolation: 0.186477\n",
      "x = -5.44599\n",
      "Newton Interpolation: 0.0329312\n",
      "x = -7.2417\n",
      "Newton Interpolation: 0.0195496\n",
      "x = 4.87027\n",
      "Newton Interpolation: 0.0270976\n",
      "x = -8.99671\n",
      "Newton Interpolation: 0.0363538\n",
      "x = -1.64225\n",
      "Newton Interpolation: 0.270883\n",
      "x = -4.71501\n",
      "Newton Interpolation: 0.0453435\n",
      "x = -1.81695\n",
      "Newton Interpolation: 0.232151\n",
      "x = -8.49695\n",
      "Newton Interpolation: -0.00424079\n",
      "x = -8.7783\n",
      "Newton Interpolation: 0.0118335\n",
      "x = -3.63643\n",
      "Newton Interpolation: 0.0699557\n",
      "x = 5.13799\n",
      "Newton Interpolation: 0.0675253\n",
      "x = -2.30615\n",
      "Newton Interpolation: 0.158245\n",
      "x = -9.17033\n",
      "Newton Interpolation: 0.0479083\n",
      "x = 2.75894\n",
      "Newton Interpolation: -0.11726\n",
      "x = -7.92324\n",
      "Newton Interpolation: 0.00923891\n",
      "x = 1.40471\n",
      "Newton Interpolation: 0.895221\n",
      "x = 0.4288\n",
      "Newton Interpolation: 1.27431\n",
      "x = 2.01693\n",
      "Newton Interpolation: 0.275353\n",
      "x = 4.71978\n",
      "Newton Interpolation: 0.0110592\n",
      "x = -4.92558\n",
      "Newton Interpolation: 0.0413765\n",
      "x = -1.49728\n",
      "Newton Interpolation: 0.309915\n",
      "x = 4.01424\n",
      "Newton Interpolation: 0.0682795\n",
      "x = 3.94018\n",
      "Newton Interpolation: 0.0725632\n",
      "x = -3.11872\n",
      "Newton Interpolation: 0.0925036\n",
      "x = -2.24864\n",
      "Newton Interpolation: 0.164998\n",
      "x = -7.04588\n",
      "Newton Interpolation: 0.0201793\n",
      "x = -0.530163\n",
      "Newton Interpolation: 0.770173\n",
      "x = -9.45244\n",
      "Newton Interpolation: -0.0143489\n",
      "x = -1.74235\n",
      "Newton Interpolation: 0.247679\n",
      "x = 2.39596\n",
      "Newton Interpolation: -0.0106893\n",
      "x = 4.75565\n",
      "Newton Interpolation: 0.0137791\n",
      "x = 3.94894\n",
      "Newton Interpolation: 0.0722156\n",
      "x = -6.47563\n",
      "Newton Interpolation: 0.0232603\n",
      "x = -7.83939\n",
      "Newton Interpolation: 0.0117659\n"
     ]
    }
   ],
   "source": [
    "vector<double> x2 = dataset_2.at(0).second;\n",
    "vector<double> y2 = dataset_2.at(1).second;\n",
    "vector<vector<double>> newPointsNewton4D2 = getPointsNewton(x2,y2,x2.size()*3,Newton,a2);\n",
    "write_csv(\"Newton 4 Times Dataset2.csv\",colnamesnewp,newPointsNewton4D2);\n",
    "\n",
    "PlotInterpolation Plot(x2, y2, newPointsNewton4D2[0], newPointsNewton4D2[1], \"chart5.png\");\n",
    "Plot.gen_plot()"
   ]
  },
  {
   "cell_type": "markdown",
   "metadata": {},
   "source": [
    "![title](chart5.png)"
   ]
  },
  {
   "cell_type": "code",
   "execution_count": 43,
   "metadata": {},
   "outputs": [
    {
     "name": "stdout",
     "output_type": "stream",
     "text": [
      "x = -7.35324\n",
      "Cubic Spline Interpolation: -3.47768\n",
      "x = -1.27357\n",
      "Cubic Spline Interpolation: -13.3258\n",
      "x = -5.72844\n",
      "Cubic Spline Interpolation: -34.1737\n",
      "x = 2.8193\n",
      "Cubic Spline Interpolation: 70.1556\n",
      "x = 7.57409\n",
      "Cubic Spline Interpolation: 125.746\n",
      "x = -0.144181\n",
      "Cubic Spline Interpolation: 7.21725\n",
      "x = -9.15543\n",
      "Cubic Spline Interpolation: 65.0448\n",
      "x = 0.0469531\n",
      "Cubic Spline Interpolation: 11.0029\n",
      "x = -9.6549\n",
      "Cubic Spline Interpolation: 90.6614\n",
      "x = -8.55566\n",
      "Cubic Spline Interpolation: 37.3083\n"
     ]
    }
   ],
   "source": [
    "vector<double> x1 = dataset_1.at(0).second;\n",
    "vector<double> y1 = dataset_1.at(1).second;\n",
    "Spline s;\n",
    "vector<vector<double>> cSpline1 = s.fitSpline(x1,y1);\n",
    "\n",
    "vector<vector<double>> newPointsSpline2D1 = getPointsSpline(x1,y1,x1.size(),s);\n",
    "write_csv(\"Spline 2 Times Dataset1.csv\",colnamesnewp,newPointsSpline2D1);\n",
    "\n",
    "PlotInterpolation Plot(x1, y1, newPointsSpline2D1[0], newPointsSpline2D1[1], \"chart6.png\");\n",
    "Plot.gen_plot()"
   ]
  },
  {
   "cell_type": "markdown",
   "metadata": {},
   "source": [
    "![title](chart6.png)"
   ]
  },
  {
   "cell_type": "code",
   "execution_count": 44,
   "metadata": {},
   "outputs": [
    {
     "name": "stdout",
     "output_type": "stream",
     "text": [
      "x = -7.35324\n",
      "Cubic Spline Interpolation: -3.47768\n",
      "x = -1.27357\n",
      "Cubic Spline Interpolation: -13.3258\n",
      "x = -5.72844\n",
      "Cubic Spline Interpolation: -34.1737\n",
      "x = 2.8193\n",
      "Cubic Spline Interpolation: 70.1556\n",
      "x = 7.57409\n",
      "Cubic Spline Interpolation: 125.746\n",
      "x = -0.144181\n",
      "Cubic Spline Interpolation: 7.21725\n",
      "x = -9.15543\n",
      "Cubic Spline Interpolation: 65.0448\n",
      "x = 0.0469531\n",
      "Cubic Spline Interpolation: 11.0029\n",
      "x = -9.6549\n",
      "Cubic Spline Interpolation: 90.6614\n",
      "x = -8.55566\n",
      "Cubic Spline Interpolation: 37.3083\n",
      "x = 2.96628\n",
      "Cubic Spline Interpolation: 73.3096\n",
      "x = 7.49498\n",
      "Cubic Spline Interpolation: 125.579\n",
      "x = -0.00455605\n",
      "Cubic Spline Interpolation: 9.9758\n",
      "x = 2.35567\n",
      "Cubic Spline Interpolation: 60.0636\n",
      "x = 3.23425\n",
      "Cubic Spline Interpolation: 78.9598\n",
      "x = 4.36813\n",
      "Cubic Spline Interpolation: 100.322\n",
      "x = -8.91581\n",
      "Cubic Spline Interpolation: 53.4236\n",
      "x = -3.69746\n",
      "Cubic Spline Interpolation: -40.1641\n",
      "x = 4.26056\n",
      "Cubic Spline Interpolation: 98.5371\n",
      "x = -3.00785\n",
      "Cubic Spline Interpolation: -35.636\n",
      "x = 8.46356\n",
      "Cubic Spline Interpolation: 126.969\n",
      "x = 4.20379\n",
      "Cubic Spline Interpolation: 97.5704\n",
      "x = -8.44705\n",
      "Cubic Spline Interpolation: 32.8396\n",
      "x = 6.64506\n",
      "Cubic Spline Interpolation: 122.795\n",
      "x = -1.6869\n",
      "Cubic Spline Interpolation: -19.8334\n",
      "x = -0.918925\n",
      "Cubic Spline Interpolation: -7.26656\n",
      "x = -4.6886\n",
      "Cubic Spline Interpolation: -41.1756\n",
      "x = -6.7033\n",
      "Cubic Spline Interpolation: -18.9111\n",
      "x = 6.88573\n",
      "Cubic Spline Interpolation: 123.794\n",
      "x = -8.67234\n",
      "Cubic Spline Interpolation: 42.3205\n"
     ]
    }
   ],
   "source": [
    "vector<double> x1 = dataset_1.at(0).second;\n",
    "vector<double> y1 = dataset_1.at(1).second;\n",
    "vector<vector<double>> newPointsSpline4D1 = getPointsSpline(x1,y1,x1.size()*3,s);\n",
    "write_csv(\"Spline 4 Times Dataset1.csv\",colnamesnewp,newPointsSpline4D1);\n",
    "\n",
    "PlotInterpolation Plot(x1, y1, newPointsSpline4D1[0], newPointsSpline4D1[1], \"chart7.png\");\n",
    "Plot.gen_plot()"
   ]
  },
  {
   "cell_type": "markdown",
   "metadata": {},
   "source": [
    "![title](chart7.png)"
   ]
  },
  {
   "cell_type": "code",
   "execution_count": 45,
   "metadata": {},
   "outputs": [
    {
     "name": "stdout",
     "output_type": "stream",
     "text": [
      "x = -7.82099\n",
      "Cubic Spline Interpolation: 10.3609\n",
      "x = -2.40216\n",
      "Cubic Spline Interpolation: -29.4364\n",
      "x = -6.3728\n",
      "Cubic Spline Interpolation: -25.1027\n",
      "x = 1.24584\n",
      "Cubic Spline Interpolation: 35.9559\n",
      "x = 5.4838\n",
      "Cubic Spline Interpolation: 114.754\n",
      "x = -1.39553\n",
      "Cubic Spline Interpolation: -15.3115\n",
      "x = -9.42729\n",
      "Cubic Spline Interpolation: 78.826\n",
      "x = -1.22517\n",
      "Cubic Spline Interpolation: -12.5233\n",
      "x = -9.87247\n",
      "Cubic Spline Interpolation: 102.072\n",
      "x = -8.89271\n",
      "Cubic Spline Interpolation: 52.3368\n",
      "x = 1.37684\n",
      "Cubic Spline Interpolation: 38.7702\n",
      "x = 5.41329\n",
      "Cubic Spline Interpolation: 114.06\n",
      "x = -1.27108\n",
      "Cubic Spline Interpolation: -13.2847\n",
      "x = 0.832597\n",
      "Cubic Spline Interpolation: 27.1707\n",
      "x = 1.61568\n",
      "Cubic Spline Interpolation: 43.93\n",
      "x = 2.62631\n",
      "Cubic Spline Interpolation: 65.973\n",
      "x = -9.21372\n",
      "Cubic Spline Interpolation: 67.9547\n",
      "x = -4.56258\n",
      "Cubic Spline Interpolation: -41.4385\n",
      "x = 2.53044\n",
      "Cubic Spline Interpolation: 63.8833\n",
      "x = -3.94793\n",
      "Cubic Spline Interpolation: -41.0659\n"
     ]
    }
   ],
   "source": [
    "vector<double> x2 = dataset_2.at(0).second;\n",
    "vector<double> y2 = dataset_2.at(1).second;\n",
    "vector<vector<double>> newPointsSpline2D2 = getPointsSpline(x2,y2,x2.size(),s);\n",
    "write_csv(\"Spline 2 Times Dataset2.csv\",colnamesnewp,newPointsSpline2D2);\n",
    "\n",
    "PlotInterpolation Plot(x2, y2, newPointsSpline2D2[0], newPointsSpline2D2[1], \"chart8.png\");\n",
    "Plot.gen_plot()"
   ]
  },
  {
   "cell_type": "markdown",
   "metadata": {},
   "source": [
    "![title](chart8.png)"
   ]
  },
  {
   "cell_type": "code",
   "execution_count": 46,
   "metadata": {},
   "outputs": [
    {
     "name": "stdout",
     "output_type": "stream",
     "text": [
      "x = -7.82099\n",
      "Cubic Spline Interpolation: 10.3609\n",
      "x = -2.40216\n",
      "Cubic Spline Interpolation: -29.4364\n",
      "x = -6.3728\n",
      "Cubic Spline Interpolation: -25.1027\n",
      "x = 1.24584\n",
      "Cubic Spline Interpolation: 35.9559\n",
      "x = 5.4838\n",
      "Cubic Spline Interpolation: 114.754\n",
      "x = -1.39553\n",
      "Cubic Spline Interpolation: -15.3115\n",
      "x = -9.42729\n",
      "Cubic Spline Interpolation: 78.826\n",
      "x = -1.22517\n",
      "Cubic Spline Interpolation: -12.5233\n",
      "x = -9.87247\n",
      "Cubic Spline Interpolation: 102.072\n",
      "x = -8.89271\n",
      "Cubic Spline Interpolation: 52.3368\n",
      "x = 1.37684\n",
      "Cubic Spline Interpolation: 38.7702\n",
      "x = 5.41329\n",
      "Cubic Spline Interpolation: 114.06\n",
      "x = -1.27108\n",
      "Cubic Spline Interpolation: -13.2847\n",
      "x = 0.832597\n",
      "Cubic Spline Interpolation: 27.1707\n",
      "x = 1.61568\n",
      "Cubic Spline Interpolation: 43.93\n",
      "x = 2.62631\n",
      "Cubic Spline Interpolation: 65.973\n",
      "x = -9.21372\n",
      "Cubic Spline Interpolation: 67.9547\n",
      "x = -4.56258\n",
      "Cubic Spline Interpolation: -41.4385\n",
      "x = 2.53044\n",
      "Cubic Spline Interpolation: 63.8833\n",
      "x = -3.94793\n",
      "Cubic Spline Interpolation: -41.0659\n",
      "x = 6.27659\n",
      "Cubic Spline Interpolation: 120.869\n",
      "x = 2.47983\n",
      "Cubic Spline Interpolation: 62.7783\n",
      "x = -8.79591\n",
      "Cubic Spline Interpolation: 47.8549\n",
      "x = 4.65575\n",
      "Cubic Spline Interpolation: 104.774\n",
      "x = -2.77056\n",
      "Cubic Spline Interpolation: -33.438\n",
      "x = -2.08606\n",
      "Cubic Spline Interpolation: -25.473\n",
      "x = -5.44599\n",
      "Cubic Spline Interpolation: -36.9674\n",
      "x = -7.2417\n",
      "Cubic Spline Interpolation: -6.44405\n",
      "x = 4.87027\n",
      "Cubic Spline Interpolation: 107.761\n",
      "x = -8.99671\n",
      "Cubic Spline Interpolation: 57.2797\n",
      "x = -1.64225\n",
      "Cubic Spline Interpolation: -19.1616\n",
      "x = -4.71501\n",
      "Cubic Spline Interpolation: -41.1053\n",
      "x = -1.81695\n",
      "Cubic Spline Interpolation: -21.7444\n",
      "x = -8.49695\n",
      "Cubic Spline Interpolation: 34.8695\n",
      "x = -8.7783\n",
      "Cubic Spline Interpolation: 47.0528\n",
      "x = -3.63643\n",
      "Cubic Spline Interpolation: -39.8819\n",
      "x = 5.13799\n",
      "Cubic Spline Interpolation: 111.084\n",
      "x = -2.30615\n",
      "Cubic Spline Interpolation: -28.2823\n",
      "x = -9.17033\n",
      "Cubic Spline Interpolation: 65.7858\n",
      "x = 2.75894\n",
      "Cubic Spline Interpolation: 68.8517\n",
      "x = -7.92324\n",
      "Cubic Spline Interpolation: 13.6899\n",
      "x = 1.40471\n",
      "Cubic Spline Interpolation: 39.3705\n",
      "x = 0.4288\n",
      "Cubic Spline Interpolation: 18.7564\n",
      "x = 2.01693\n",
      "Cubic Spline Interpolation: 52.66\n",
      "x = 4.71978\n",
      "Cubic Spline Interpolation: 105.697\n",
      "x = -4.92558\n",
      "Cubic Spline Interpolation: -40.3526\n",
      "x = -1.49728\n",
      "Cubic Spline Interpolation: -16.9272\n",
      "x = 4.01424\n",
      "Cubic Spline Interpolation: 94.2279\n",
      "x = 3.94018\n",
      "Cubic Spline Interpolation: 92.8765\n",
      "x = -3.11872\n",
      "Cubic Spline Interpolation: -36.5554\n",
      "x = -2.24864\n",
      "Cubic Spline Interpolation: -27.5699\n",
      "x = -7.04588\n",
      "Cubic Spline Interpolation: -11.329\n",
      "x = -0.530163\n",
      "Cubic Spline Interpolation: -0.189342\n",
      "x = -9.45244\n",
      "Cubic Spline Interpolation: 80.124\n",
      "x = -1.74235\n",
      "Cubic Spline Interpolation: -20.6566\n",
      "x = 2.39596\n",
      "Cubic Spline Interpolation: 60.9448\n",
      "x = 4.75565\n",
      "Cubic Spline Interpolation: 106.202\n",
      "x = 3.94894\n",
      "Cubic Spline Interpolation: 93.0376\n",
      "x = -6.47563\n",
      "Cubic Spline Interpolation: -23.2917\n",
      "x = -7.83939\n",
      "Cubic Spline Interpolation: 10.9511\n"
     ]
    }
   ],
   "source": [
    "vector<double> x2 = dataset_2.at(0).second;\n",
    "vector<double> y2 = dataset_2.at(1).second;\n",
    "vector<vector<double>> newPointsSpline4D2 = getPointsSpline(x2,y2,x2.size()*3,s);\n",
    "write_csv(\"Spline 4 Times Dataset2.csv\",colnamesnewp,newPointsSpline4D2);\n",
    "\n",
    "PlotInterpolation Plot(x2, y2, newPointsSpline4D2[0], newPointsSpline4D2[1], \"chart9.png\");\n",
    "Plot.gen_plot()"
   ]
  },
  {
   "cell_type": "markdown",
   "metadata": {},
   "source": [
    "![title](chart9.png)"
   ]
  },
  {
   "cell_type": "code",
   "execution_count": 47,
   "metadata": {},
   "outputs": [],
   "source": [
    "vector<double> x1 = dataset_1.at(0).second;\n",
    "vector<double> y1 = dataset_1.at(1).second;\n",
    "vector<double> x2 = dataset_2.at(0).second;\n",
    "vector<double> y2 = dataset_2.at(1).second;\n",
    "\n",
    "std::vector<string> colnamesSpline1(5);\n",
    "colnamesSpline1[0] = \"Spline x Dataset 1\";\n",
    "colnamesSpline1[1] = \"Spline a Dataset 1\";\n",
    "colnamesSpline1[2] = \"Spline b Dataset 1\";\n",
    "colnamesSpline1[3] = \"Spline c Dataset 1\";\n",
    "colnamesSpline1[4] = \"Spline y Dataset 1\";\n",
    "\n",
    "write_csv(\"Cubic Spline Interpolator Dataset 1.csv\",colnamesSpline1,cSpline1);"
   ]
  },
  {
   "cell_type": "code",
   "execution_count": 48,
   "metadata": {},
   "outputs": [],
   "source": [
    "vector<double> x1 = dataset_1.at(0).second;\n",
    "vector<double> y1 = dataset_1.at(1).second;\n",
    "vector<double> x2 = dataset_2.at(0).second;\n",
    "vector<double> y2 = dataset_2.at(1).second;\n",
    "\n",
    "vector<vector<double>> cSpline2 = s.fitSpline(x2,y2);\n",
    "std::vector<string> colnamesSpline2(5);\n",
    "colnamesSpline2[0] = \"Spline x Dataset 2\";\n",
    "colnamesSpline2[1] = \"Spline a Dataset 2\";\n",
    "colnamesSpline2[2] = \"Spline b Dataset 2\";\n",
    "colnamesSpline2[3] = \"Spline c Dataset 2\";\n",
    "colnamesSpline2[4] = \"Spline y Dataset 2\";\n",
    "\n",
    "write_csv(\"Cubic Spline Interpolator Dataset 2.csv\",colnamesSpline2,cSpline2);"
   ]
  }
 ],
 "metadata": {
  "kernelspec": {
   "display_name": "C++11",
   "language": "C++11",
   "name": "xcpp11"
  },
  "language_info": {
   "codemirror_mode": "text/x-c++src",
   "file_extension": ".cpp",
   "mimetype": "text/x-c++src",
   "name": "c++",
   "version": "11"
  }
 },
 "nbformat": 4,
 "nbformat_minor": 4
}
