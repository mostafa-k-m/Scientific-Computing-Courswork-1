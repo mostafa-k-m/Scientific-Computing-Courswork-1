{
 "cells": [
  {
   "cell_type": "markdown",
   "metadata": {},
   "source": [
    "Names and Ids Here"
   ]
  },
  {
   "cell_type": "code",
   "execution_count": 1,
   "metadata": {},
   "outputs": [],
   "source": [
    "#include \"Coursework1/Coursework1lib.h\"\n",
    "using namespace std;"
   ]
  },
  {
   "cell_type": "markdown",
   "metadata": {},
   "source": [
    "# Explanation of the Matrix class and its helper methods"
   ]
  },
  {
   "cell_type": "code",
   "execution_count": null,
   "metadata": {},
   "outputs": [],
   "source": []
  },
  {
   "cell_type": "markdown",
   "metadata": {},
   "source": [
    "# Explanation of the SolveGaussElimination Class, its helper methods and limitatins"
   ]
  },
  {
   "cell_type": "code",
   "execution_count": null,
   "metadata": {},
   "outputs": [],
   "source": []
  },
  {
   "cell_type": "markdown",
   "metadata": {},
   "source": [
    "# Explanation of the SolveSeidle Class, its helper methods and limitatins"
   ]
  },
  {
   "cell_type": "code",
   "execution_count": null,
   "metadata": {},
   "outputs": [],
   "source": []
  },
  {
   "cell_type": "markdown",
   "metadata": {},
   "source": [
    "# Demonstrating the two solvers with a few examples"
   ]
  },
  {
   "cell_type": "markdown",
   "metadata": {},
   "source": [
    "## Example 1"
   ]
  },
  {
   "cell_type": "code",
   "execution_count": 2,
   "metadata": {},
   "outputs": [],
   "source": [
    "vector<vector<double>> v ={{2, 1, -1}, {1, 4, 3}, {-1 ,2 ,7}};\n",
    "Matrix A = Matrix(v);\n",
    "vector<double> b = {0, 14, 30};"
   ]
  },
  {
   "cell_type": "markdown",
   "metadata": {},
   "source": [
    "### Solution using Gauss Elimination Method:"
   ]
  },
  {
   "cell_type": "code",
   "execution_count": 3,
   "metadata": {},
   "outputs": [
    {
     "name": "stdout",
     "output_type": "stream",
     "text": [
      "Matrix Rearranged\n",
      "                col 0      col 1      col 2      col 3\n",
      "\n",
      "      Row 0:          2         1        -1         0\n",
      "\n",
      "      Row 1:          1         4         3        14\n",
      "\n",
      "      Row 2:         -1         2         7        30\n",
      "\n",
      "\n",
      "\n",
      "Matrix Scaled\n",
      "                col 0      col 1      col 2      col 3\n",
      "\n",
      "      Row 0:          1       0.5      -0.5         0\n",
      "\n",
      "      Row 1:       0.25         1      0.75       3.5\n",
      "\n",
      "      Row 2:  -0.142857  0.285714         1   4.28571\n",
      "\n",
      "\n",
      "\n",
      "Matrix in Row Echelon Form\n",
      "                col 0      col 1      col 2      col 3\n",
      "\n",
      "      Row 0:          1       0.5      -0.5         0\n",
      "\n",
      "      Row 1:          0         1         1         4\n",
      "\n",
      "      Row 2:          0         0         1         5\n",
      "\n",
      "\n",
      "\n",
      "The Solution is: \n",
      "(3, -1, 5)\n"
     ]
    }
   ],
   "source": [
    "SolveGaussElimination x = SolveGaussElimination(A, b, true);"
   ]
  },
  {
   "cell_type": "markdown",
   "metadata": {},
   "source": [
    "### Solution using Gauss-Seidle Method:"
   ]
  },
  {
   "cell_type": "code",
   "execution_count": 4,
   "metadata": {},
   "outputs": [
    {
     "name": "stdout",
     "output_type": "stream",
     "text": [
      "iteration 1: \n",
      "(0, 14, 26)\n",
      "\n",
      "\n",
      "iteration 2: \n",
      "(6, -7, 32.8571)\n",
      "\n",
      "\n",
      "iteration 3: \n",
      "(19.9286, -15.625, 37.3112)\n",
      "\n",
      "\n",
      "iteration 4: \n",
      "(26.4681, -20.6004, 39.667)\n",
      "\n",
      "\n",
      "iteration 5: \n",
      "(30.1337, -23.2837, 40.9573)\n",
      "\n",
      "\n",
      "iteration 6: \n",
      "(32.1205, -24.7481, 41.6595)\n",
      "\n",
      "\n",
      "iteration 7: \n",
      "(33.2038, -25.5456, 42.0421)\n",
      "\n",
      "\n",
      "iteration 8: \n",
      "(33.7939, -25.9801, 42.2506)\n",
      "\n",
      "\n",
      "iteration 9: \n",
      "(34.1153, -26.2168, 42.3641)\n",
      "\n",
      "\n",
      "iteration 10: \n",
      "(34.2904, -26.3457, 42.426)\n",
      "\n",
      "\n",
      "iteration 11: \n",
      "(34.3858, -26.4159, 42.4597)\n",
      "\n",
      "\n",
      "iteration 12: \n",
      "(34.4378, -26.4542, 42.478)\n",
      "\n",
      "\n",
      "iteration 13: \n",
      "(34.4661, -26.4751, 42.488)\n",
      "\n",
      "\n",
      "iteration 14: \n",
      "(34.4815, -26.4864, 42.4935)\n",
      "\n",
      "\n",
      "iteration 15: \n",
      "(34.4899, -26.4926, 42.4964)\n",
      "\n",
      "\n",
      "iteration 16: \n",
      "(34.4945, -26.496, 42.4981)\n",
      "\n",
      "\n",
      "iteration 17: \n",
      "(34.497, -26.4978, 42.4989)\n",
      "\n",
      "\n",
      "iteration 18: \n",
      "(34.4984, -26.4988, 42.4994)\n",
      "\n",
      "\n",
      "iteration 19: \n",
      "(34.4991, -26.4993, 42.4997)\n",
      "\n",
      "\n",
      "iteration 20: \n",
      "(34.4995, -26.4996, 42.4998)\n",
      "\n",
      "\n",
      "iteration 21: \n",
      "(34.4997, -26.4998, 42.4999)\n",
      "\n",
      "\n",
      "iteration 22: \n",
      "(34.4999, -26.4999, 42.4999)\n",
      "\n",
      "\n",
      "iteration 23: \n",
      "(34.4999, -26.4999, 42.5)\n",
      "\n",
      "\n",
      "iteration 24: \n",
      "(34.5, -26.5, 42.5)\n",
      "\n",
      "\n",
      "iteration 25: \n",
      "(34.5, -26.5, 42.5)\n",
      "\n",
      "\n",
      "iteration 26: \n",
      "(34.5, -26.5, 42.5)\n",
      "\n",
      "\n",
      "iteration 27: \n",
      "(34.5, -26.5, 42.5)\n",
      "\n",
      "\n",
      "iteration 28: \n",
      "(34.5, -26.5, 42.5)\n",
      "\n",
      "\n",
      "iteration 29: \n",
      "(34.5, -26.5, 42.5)\n",
      "\n",
      "\n",
      "iteration 30: \n",
      "(34.5, -26.5, 42.5)\n",
      "\n",
      "\n"
     ]
    }
   ],
   "source": [
    "SolveSeidle y = SolveSeidle(A, b, 30, true);"
   ]
  },
  {
   "cell_type": "markdown",
   "metadata": {},
   "source": [
    "## Example 2"
   ]
  },
  {
   "cell_type": "code",
   "execution_count": 5,
   "metadata": {},
   "outputs": [],
   "source": [
    "vector<vector<double>> v ={{2, -1, 0}, {1, -3, 1}, {-1, 1 ,-3}};\n",
    "Matrix A = Matrix(v);\n",
    "vector<double> b = {2, -2, 6};"
   ]
  },
  {
   "cell_type": "markdown",
   "metadata": {},
   "source": [
    "### Solution using Gauss Elimination Method:"
   ]
  },
  {
   "cell_type": "code",
   "execution_count": 6,
   "metadata": {},
   "outputs": [
    {
     "name": "stdout",
     "output_type": "stream",
     "text": [
      "Matrix Rearranged\n",
      "                col 0      col 1      col 2      col 3\n",
      "\n",
      "      Row 0:          2        -1         0         2\n",
      "\n",
      "      Row 1:          1        -3         1        -2\n",
      "\n",
      "      Row 2:         -1         1        -3         6\n",
      "\n",
      "\n",
      "\n",
      "Matrix Scaled\n",
      "                col 0      col 1      col 2      col 3\n",
      "\n",
      "      Row 0:          1      -0.5         0         1\n",
      "\n",
      "      Row 1:   0.333333        -1  0.333333 -0.666667\n",
      "\n",
      "      Row 2:  -0.333333  0.333333        -1         2\n",
      "\n",
      "\n",
      "\n",
      "Matrix in Row Echelon Form\n",
      "                col 0      col 1      col 2      col 3\n",
      "\n",
      "      Row 0:          1      -0.5         0         1\n",
      "\n",
      "      Row 1:          0         1      -0.4       1.2\n",
      "\n",
      "      Row 2:          0         0         1  -2.28571\n",
      "\n",
      "\n",
      "\n",
      "The Solution is: \n",
      "(1.14286, 0.285714, -2.28571)\n"
     ]
    }
   ],
   "source": [
    "SolveGaussElimination x = SolveGaussElimination(A, b, true);"
   ]
  },
  {
   "cell_type": "markdown",
   "metadata": {},
   "source": [
    "### Solution using Gauss-Seidle Method:"
   ]
  },
  {
   "cell_type": "code",
   "execution_count": 7,
   "metadata": {},
   "outputs": [
    {
     "name": "stdout",
     "output_type": "stream",
     "text": [
      "iteration 1: \n",
      "(2, 2.66667, -5.77778)\n",
      "\n",
      "\n",
      "iteration 2: \n",
      "(3.33333, 1.18519, -6.71605)\n",
      "\n",
      "\n",
      "iteration 3: \n",
      "(2.59259, 0.625514, -6.65569)\n",
      "\n",
      "\n",
      "iteration 4: \n",
      "(2.31276, 0.552355, -6.5868)\n",
      "\n",
      "\n",
      "iteration 5: \n",
      "(2.27618, 0.563126, -6.57102)\n",
      "\n",
      "\n",
      "iteration 6: \n",
      "(2.28156, 0.570182, -6.57046)\n",
      "\n",
      "\n",
      "iteration 7: \n",
      "(2.28509, 0.571544, -6.57118)\n",
      "\n",
      "\n",
      "iteration 8: \n",
      "(2.28577, 0.57153, -6.57141)\n",
      "\n",
      "\n",
      "iteration 9: \n",
      "(2.28576, 0.57145, -6.57144)\n",
      "\n",
      "\n",
      "iteration 10: \n",
      "(2.28573, 0.571429, -6.57143)\n",
      "\n",
      "\n",
      "iteration 11: \n",
      "(2.28571, 0.571427, -6.57143)\n",
      "\n",
      "\n",
      "iteration 12: \n",
      "(2.28571, 0.571428, -6.57143)\n",
      "\n",
      "\n",
      "iteration 13: \n",
      "(2.28571, 0.571429, -6.57143)\n",
      "\n",
      "\n",
      "iteration 14: \n",
      "(2.28571, 0.571429, -6.57143)\n",
      "\n",
      "\n",
      "iteration 15: \n",
      "(2.28571, 0.571429, -6.57143)\n",
      "\n",
      "\n",
      "iteration 16: \n",
      "(2.28571, 0.571429, -6.57143)\n",
      "\n",
      "\n",
      "iteration 17: \n",
      "(2.28571, 0.571429, -6.57143)\n",
      "\n",
      "\n",
      "iteration 18: \n",
      "(2.28571, 0.571429, -6.57143)\n",
      "\n",
      "\n",
      "iteration 19: \n",
      "(2.28571, 0.571429, -6.57143)\n",
      "\n",
      "\n",
      "iteration 20: \n",
      "(2.28571, 0.571429, -6.57143)\n",
      "\n",
      "\n",
      "iteration 21: \n",
      "(2.28571, 0.571429, -6.57143)\n",
      "\n",
      "\n",
      "iteration 22: \n",
      "(2.28571, 0.571429, -6.57143)\n",
      "\n",
      "\n",
      "iteration 23: \n",
      "(2.28571, 0.571429, -6.57143)\n",
      "\n",
      "\n",
      "iteration 24: \n",
      "(2.28571, 0.571429, -6.57143)\n",
      "\n",
      "\n",
      "iteration 25: \n",
      "(2.28571, 0.571429, -6.57143)\n",
      "\n",
      "\n",
      "iteration 26: \n",
      "(2.28571, 0.571429, -6.57143)\n",
      "\n",
      "\n",
      "iteration 27: \n",
      "(2.28571, 0.571429, -6.57143)\n",
      "\n",
      "\n",
      "iteration 28: \n",
      "(2.28571, 0.571429, -6.57143)\n",
      "\n",
      "\n",
      "iteration 29: \n",
      "(2.28571, 0.571429, -6.57143)\n",
      "\n",
      "\n",
      "iteration 30: \n",
      "(2.28571, 0.571429, -6.57143)\n",
      "\n",
      "\n"
     ]
    }
   ],
   "source": [
    "SolveSeidle y = SolveSeidle(A, b, 30, true);"
   ]
  },
  {
   "cell_type": "markdown",
   "metadata": {},
   "source": [
    "## Example 3"
   ]
  },
  {
   "cell_type": "code",
   "execution_count": 8,
   "metadata": {},
   "outputs": [],
   "source": [
    "vector<vector<double>> v ={{5, 6, 7}, {6, 3, 9}, {7, 9, 10}};\n",
    "Matrix A = Matrix(v);\n",
    "vector<double> b = {18, 18, 26};"
   ]
  },
  {
   "cell_type": "markdown",
   "metadata": {},
   "source": [
    "### Solution using Gauss Elimination Method:"
   ]
  },
  {
   "cell_type": "code",
   "execution_count": 9,
   "metadata": {},
   "outputs": [
    {
     "name": "stdout",
     "output_type": "stream",
     "text": [
      "Matrix Rearranged\n",
      "                col 0      col 1      col 2      col 3\n",
      "\n",
      "      Row 0:          7         9        10        26\n",
      "\n",
      "      Row 1:          5         6         7        18\n",
      "\n",
      "      Row 2:          6         3         9        18\n",
      "\n",
      "\n",
      "\n",
      "Matrix Scaled\n",
      "                col 0      col 1      col 2      col 3\n",
      "\n",
      "      Row 0:        0.7       0.9         1       2.6\n",
      "\n",
      "      Row 1:   0.714286  0.857143         1   2.57143\n",
      "\n",
      "      Row 2:   0.666667  0.333333         1         2\n",
      "\n",
      "\n",
      "\n",
      "Matrix in Row Echelon Form\n",
      "                col 0      col 1      col 2      col 3\n",
      "\n",
      "      Row 0:          1   1.28571   1.42857   3.71429\n",
      "\n",
      "      Row 1:          0         1  0.333333   1.33333\n",
      "\n",
      "      Row 2:          0         0         1         1\n",
      "\n",
      "\n",
      "\n",
      "The Solution is: \n",
      "(1, 1, 1)\n"
     ]
    }
   ],
   "source": [
    "SolveGaussElimination x = SolveGaussElimination(A, b, true);"
   ]
  },
  {
   "cell_type": "markdown",
   "metadata": {},
   "source": [
    "### Solution using Gauss-Seidle Method:"
   ]
  },
  {
   "cell_type": "code",
   "execution_count": 10,
   "metadata": {},
   "outputs": [
    {
     "name": "stdout",
     "output_type": "stream",
     "text": [
      "This matrix is not in diagonally dominant form. Convergence is not guaranteed!\n",
      "iteration 1: \n",
      "(25.7143, -0.428571, 9)\n",
      "\n",
      "\n",
      "iteration 6: \n",
      "(-29.7577, 0.148681, 45.7889)\n",
      "\n",
      "\n",
      "iteration 11: \n",
      "(-82.673, 5.70159, 79.2148)\n",
      "\n",
      "\n",
      "iteration 16: \n",
      "(-154.704, 18.5044, 122.968)\n",
      "\n",
      "\n",
      "iteration 21: \n",
      "(-275.351, 43.8008, 194.967)\n",
      "\n",
      "\n",
      "iteration 26: \n",
      "(-494.029, 91.9511, 324.702)\n",
      "\n",
      "\n"
     ]
    }
   ],
   "source": [
    "SolveSeidle y = SolveSeidle(A, b, 30, false);"
   ]
  },
  {
   "cell_type": "markdown",
   "metadata": {},
   "source": [
    "## Example 4"
   ]
  },
  {
   "cell_type": "code",
   "execution_count": 11,
   "metadata": {},
   "outputs": [],
   "source": [
    "vector<vector<double>> v = {{10, 2, -1, 2}, {1, 5, 1, 0}, {1, -2, -5, 1}, {3, 0, 0, 9}};\n",
    "Matrix A = Matrix(v);\n",
    "vector<double> b = {-4, 1, 2, 10};"
   ]
  },
  {
   "cell_type": "markdown",
   "metadata": {},
   "source": [
    "### Solution using Gauss Elimination Method:"
   ]
  },
  {
   "cell_type": "code",
   "execution_count": 12,
   "metadata": {},
   "outputs": [
    {
     "name": "stdout",
     "output_type": "stream",
     "text": [
      "Matrix Rearranged\n",
      "                col 0      col 1      col 2      col 3      col 4\n",
      "\n",
      "      Row 0:         10         2        -1         2        -4\n",
      "\n",
      "      Row 1:          1         5         1         0         1\n",
      "\n",
      "      Row 2:          1        -2        -5         1         2\n",
      "\n",
      "      Row 3:          3         0         0         9        10\n",
      "\n",
      "\n",
      "\n",
      "Matrix Scaled\n",
      "                col 0      col 1      col 2      col 3      col 4\n",
      "\n",
      "      Row 0:          1       0.2      -0.1       0.2      -0.4\n",
      "\n",
      "      Row 1:        0.2         1       0.2         0       0.2\n",
      "\n",
      "      Row 2:        0.2      -0.4        -1       0.2       0.4\n",
      "\n",
      "      Row 3:   0.333333         0         0         1   1.11111\n",
      "\n",
      "\n",
      "\n",
      "Matrix in Row Echelon Form\n",
      "                col 0      col 1      col 2      col 3      col 4\n",
      "\n",
      "      Row 0:          1       0.2      -0.1       0.2      -0.4\n",
      "\n",
      "      Row 1:          0         1  0.229167-0.0416667  0.291667\n",
      "\n",
      "      Row 2:          0         0         1 -0.161137 -0.691943\n",
      "\n",
      "      Row 3:          0         0         0         1   1.38272\n",
      "\n",
      "\n",
      "\n",
      "The Solution is: \n",
      "(-0.814815, 0.45679, -0.469136, 1.38272)\n"
     ]
    }
   ],
   "source": [
    "SolveGaussElimination x = SolveGaussElimination(A, b, true);"
   ]
  },
  {
   "cell_type": "markdown",
   "metadata": {},
   "source": [
    "### Solution using Gauss-Seidle Method:"
   ]
  },
  {
   "cell_type": "code",
   "execution_count": 13,
   "metadata": {},
   "outputs": [
    {
     "name": "stdout",
     "output_type": "stream",
     "text": [
      "iteration 1: \n",
      "(-4, 1.8, -3.52, 11.3333)\n",
      "\n",
      "\n",
      "iteration 6: \n",
      "(-7.27358, 2.87907, -2.12116, 12.4245)\n",
      "\n",
      "\n",
      "iteration 11: \n",
      "(-7.27273, 2.87879, -2.12121, 12.4242)\n",
      "\n",
      "\n",
      "iteration 16: \n",
      "(-7.27273, 2.87879, -2.12121, 12.4242)\n",
      "\n",
      "\n",
      "iteration 21: \n",
      "(-7.27273, 2.87879, -2.12121, 12.4242)\n",
      "\n",
      "\n",
      "iteration 26: \n",
      "(-7.27273, 2.87879, -2.12121, 12.4242)\n",
      "\n",
      "\n"
     ]
    }
   ],
   "source": [
    "SolveSeidle y = SolveSeidle(A, b, 30, false);"
   ]
  },
  {
   "cell_type": "markdown",
   "metadata": {},
   "source": [
    "## Example 5"
   ]
  },
  {
   "cell_type": "code",
   "execution_count": 14,
   "metadata": {},
   "outputs": [],
   "source": [
    "vector<vector<double>> v ={{-1,1,-1,1}, {1, 1, 1, 1}, {8, 4 ,2 ,1}, {27, 9, 3, 1}};\n",
    "Matrix A = Matrix(v);\n",
    "vector<double> b = {1, 1, -2, 1};"
   ]
  },
  {
   "cell_type": "markdown",
   "metadata": {},
   "source": [
    "### Solution using Gauss Elimination Method:"
   ]
  },
  {
   "cell_type": "code",
   "execution_count": 15,
   "metadata": {},
   "outputs": [
    {
     "name": "stdout",
     "output_type": "stream",
     "text": [
      "Matrix Rearranged\n",
      "                col 0      col 1      col 2      col 3      col 4\n",
      "\n",
      "      Row 0:         27         9         3         1         1\n",
      "\n",
      "      Row 1:          8         4         2         1        -2\n",
      "\n",
      "      Row 2:          1         1         1         1         1\n",
      "\n",
      "      Row 3:         -1         1        -1         1         1\n",
      "\n",
      "\n",
      "\n",
      "Matrix Scaled\n",
      "                col 0      col 1      col 2      col 3      col 4\n",
      "\n",
      "      Row 0:          1  0.333333  0.111111  0.037037  0.037037\n",
      "\n",
      "      Row 1:          1       0.5      0.25     0.125     -0.25\n",
      "\n",
      "      Row 2:          1         1         1         1         1\n",
      "\n",
      "      Row 3:         -1         1        -1         1         1\n",
      "\n",
      "\n",
      "\n",
      "Matrix in Row Echelon Form\n",
      "                col 0      col 1      col 2      col 3      col 4\n",
      "\n",
      "      Row 0:          1  0.333333  0.111111  0.037037  0.037037\n",
      "\n",
      "      Row 1:          0         1  0.833333  0.527778  -1.72222\n",
      "\n",
      "      Row 2:          0         0         1   1.83333   6.33333\n",
      "\n",
      "      Row 3:          0         0         0         1         4\n",
      "\n",
      "\n",
      "\n",
      "The Solution is: \n",
      "(1, -3, -1, 4)\n"
     ]
    }
   ],
   "source": [
    "SolveGaussElimination x = SolveGaussElimination(A, b, true);"
   ]
  },
  {
   "cell_type": "markdown",
   "metadata": {},
   "source": [
    "### Solution using Gauss-Seidle Method:"
   ]
  },
  {
   "cell_type": "code",
   "execution_count": 16,
   "metadata": {},
   "outputs": [
    {
     "name": "stdout",
     "output_type": "stream",
     "text": [
      "This matrix is not in diagonally dominant form. Convergence is not guaranteed!\n",
      "iteration 1: \n",
      "(1, 0, -3, -1)\n",
      "\n",
      "\n",
      "iteration 6: \n",
      "(0.349506, 3.33114, -1.92252, -3.90416)\n",
      "\n",
      "\n",
      "iteration 11: \n",
      "(0.163807, 3.50714, -1.66286, -4.00619)\n",
      "\n",
      "\n",
      "iteration 16: \n",
      "(0.166379, 3.50025, -1.66623, -4.0001)\n",
      "\n",
      "\n",
      "iteration 21: \n",
      "(0.166673, 3.49999, -1.66668, -3.99999)\n",
      "\n",
      "\n",
      "iteration 26: \n",
      "(0.166667, 3.5, -1.66667, -4)\n",
      "\n",
      "\n"
     ]
    }
   ],
   "source": [
    "SolveSeidle y = SolveSeidle(A, b, 30, false);"
   ]
  },
  {
   "cell_type": "markdown",
   "metadata": {},
   "source": [
    "# CSVReader class"
   ]
  },
  {
   "cell_type": "code",
   "execution_count": null,
   "metadata": {},
   "outputs": [],
   "source": []
  },
  {
   "cell_type": "code",
   "execution_count": 17,
   "metadata": {},
   "outputs": [],
   "source": [
    "CSVReader csv = CSVReader(\"datasets/part_2/a/2_a_dataset_1.csv\");"
   ]
  },
  {
   "cell_type": "code",
   "execution_count": 18,
   "metadata": {},
   "outputs": [
    {
     "data": {
      "text/plain": [
       "2"
      ]
     },
     "execution_count": 18,
     "metadata": {},
     "output_type": "execute_result"
    }
   ],
   "source": [
    "csv.n_cols"
   ]
  },
  {
   "cell_type": "code",
   "execution_count": 19,
   "metadata": {},
   "outputs": [
    {
     "data": {
      "text/plain": [
       "{ \"x\", \"y\" }"
      ]
     },
     "execution_count": 19,
     "metadata": {},
     "output_type": "execute_result"
    }
   ],
   "source": [
    "csv.col_names"
   ]
  },
  {
   "cell_type": "code",
   "execution_count": 20,
   "metadata": {},
   "outputs": [
    {
     "data": {
      "text/plain": [
       "{ { 0.0000000, 1.0000000, 2.0000000, 3.0000000, 4.0000000, 5.0000000, 6.0000000, 7.0000000, 8.0000000, 9.0000000 }, { 2.7539933, 1.8948100, 5.6677209, 8.5087095, 10.926519, 13.530086, 11.835347, 17.623997, 21.183804, 23.939619 } }"
      ]
     },
     "execution_count": 20,
     "metadata": {},
     "output_type": "execute_result"
    }
   ],
   "source": [
    "csv.data"
   ]
  },
  {
   "cell_type": "markdown",
   "metadata": {},
   "source": [
    "# PolynomialRegression class"
   ]
  },
  {
   "cell_type": "code",
   "execution_count": 21,
   "metadata": {},
   "outputs": [
    {
     "name": "stdout",
     "output_type": "stream",
     "text": [
      "Matrix Rearranged\n",
      "                col 0      col 1      col 2      col 3\n",
      "\n",
      "      Row 0:        285      2025     15333   5198.74\n",
      "\n",
      "      Row 1:         45       285      2025    729.42\n",
      "\n",
      "      Row 2:         10        45       285   117.865\n",
      "\n",
      "\n",
      "\n",
      "Matrix Scaled\n",
      "                col 0      col 1      col 2      col 3\n",
      "\n",
      "      Row 0:  0.0185874  0.132068         1  0.339056\n",
      "\n",
      "      Row 1:  0.0222222  0.140741         1  0.360207\n",
      "\n",
      "      Row 2:  0.0350877  0.157895         1   0.41356\n",
      "\n",
      "\n",
      "\n",
      "Matrix in Row Echelon Form\n",
      "                col 0      col 1      col 2      col 3\n",
      "\n",
      "      Row 0:          1   7.10526      53.8   18.2412\n",
      "\n",
      "      Row 1:          0         1      11.4   2.63219\n",
      "\n",
      "      Row 2:          0         0         1 0.0915477\n",
      "\n",
      "\n",
      "\n",
      "The Solution is: \n",
      "(2.02889, 1.58855, 0.0915477)\n"
     ]
    }
   ],
   "source": [
    "PlynomialRegression P(2);\n",
    "CSVReader csv = CSVReader(\"./datasets/part_2/a/2_a_dataset_1.csv\");\n",
    "P.fit(csv.data[0], csv.data[1], 1, true);\n",
    "vector<double> y = P.predict(0, 10, 0.1);"
   ]
  },
  {
   "cell_type": "code",
   "execution_count": 22,
   "metadata": {},
   "outputs": [
    {
     "name": "stdout",
     "output_type": "stream",
     "text": [
      "Please Specify the number of iterations\n"
     ]
    },
    {
     "name": "stdin",
     "output_type": "stream",
     "text": [
      " 30\n"
     ]
    },
    {
     "name": "stdout",
     "output_type": "stream",
     "text": [
      "This matrix is not in diagonally dominant form. Convergence is not guaranteed!\n",
      "iteration 1: \n",
      "(6341.12, 4181.49, 4316.01)\n",
      "\n",
      "\n",
      "iteration 2: \n",
      "(-255571, 14869.6, 11818.3)\n",
      "\n",
      "\n",
      "iteration 3: \n",
      "(-735136, 37284.7, 25105.9)\n",
      "\n",
      "\n",
      "iteration 4: \n",
      "(-1.60928e+06, 80894.6, 48891.7)\n",
      "\n",
      "\n",
      "iteration 5: \n",
      "(-3.19881e+06, 162870, 91721.5)\n",
      "\n",
      "\n",
      "iteration 6: \n",
      "(-6.08551e+06, 314347, 169092)\n",
      "\n",
      "\n",
      "iteration 7: \n",
      "(-1.13243e+07, 591790, 309102)\n",
      "\n",
      "\n",
      "iteration 8: \n",
      "(-2.08282e+07, 1.09759e+06, 562708)\n",
      "\n",
      "\n",
      "iteration 9: \n",
      "(-3.8066e+07, 2.01742e+06, 1.02231e+06)\n",
      "\n",
      "\n",
      "iteration 10: \n",
      "(-6.93282e+07, 3.68796e+06, 1.85546e+06)\n",
      "\n",
      "\n",
      "iteration 11: \n",
      "(-1.26021e+08, 6.71975e+06, 3.36598e+06)\n",
      "\n",
      "\n",
      "iteration 12: \n",
      "(-2.28829e+08, 1.22199e+07, 6.10483e+06)\n",
      "\n",
      "\n",
      "iteration 13: \n",
      "(-4.15259e+08, 2.2196e+07, 1.10711e+07)\n",
      "\n",
      "\n",
      "iteration 14: \n",
      "(-7.53325e+08, 4.02885e+07, 2.00763e+07)\n",
      "\n",
      "\n",
      "iteration 15: \n",
      "(-1.36636e+09, 7.30987e+07, 3.64058e+07)\n",
      "\n",
      "\n",
      "iteration 16: \n",
      "(-2.47801e+09, 1.32597e+08, 6.60165e+07)\n",
      "\n",
      "\n",
      "iteration 17: \n",
      "(-4.49382e+09, 2.40491e+08, 1.19711e+08)\n",
      "\n",
      "\n",
      "iteration 18: \n",
      "(-8.14919e+09, 4.36142e+08, 2.17077e+08)\n",
      "\n",
      "\n",
      "iteration 19: \n",
      "(-1.47776e+10, 7.90928e+08, 3.93636e+08)\n",
      "\n",
      "\n",
      "iteration 20: \n",
      "(-2.67973e+10, 1.43428e+09, 7.13797e+08)\n",
      "\n",
      "\n",
      "iteration 21: \n",
      "(-4.85932e+10, 2.6009e+09, 1.29436e+09)\n",
      "\n",
      "\n",
      "iteration 22: \n",
      "(-8.81168e+10, 4.7164e+09, 2.34713e+09)\n",
      "\n",
      "\n",
      "iteration 23: \n",
      "(-1.59787e+11, 8.55252e+09, 4.25616e+09)\n",
      "\n",
      "\n",
      "iteration 24: \n",
      "(-2.89749e+11, 1.55088e+10, 7.71789e+09)\n",
      "\n",
      "\n",
      "iteration 25: \n",
      "(-5.25416e+11, 2.81228e+10, 1.39952e+10)\n",
      "\n",
      "\n",
      "iteration 26: \n",
      "(-9.52763e+11, 5.09965e+10, 2.53782e+10)\n",
      "\n",
      "\n",
      "iteration 27: \n",
      "(-1.72769e+12, 9.24745e+10, 4.60195e+10)\n",
      "\n",
      "\n",
      "iteration 28: \n",
      "(-3.1329e+12, 1.67689e+11, 8.34494e+10)\n",
      "\n",
      "\n",
      "iteration 29: \n",
      "(-5.68105e+12, 3.04078e+11, 1.51323e+11)\n",
      "\n",
      "\n",
      "iteration 30: \n",
      "(-1.03017e+13, 5.51399e+11, 2.74401e+11)\n",
      "\n",
      "\n"
     ]
    }
   ],
   "source": [
    "P.fit(csv.data[0], csv.data[1], 2, true);\n",
    "vector<double> y = P.predict(0, 10, 0.1);"
   ]
  },
  {
   "cell_type": "code",
   "execution_count": 23,
   "metadata": {},
   "outputs": [
    {
     "name": "stdout",
     "output_type": "stream",
     "text": [
      "Matrix Rearranged\n",
      "                col 0      col 1      col 2      col 3\n",
      "\n",
      "      Row 0:        285      2025     15333   13874.5\n",
      "\n",
      "      Row 1:         45       285      2025   1741.22\n",
      "\n",
      "      Row 2:         10        45       285   224.363\n",
      "\n",
      "\n",
      "\n",
      "Matrix Scaled\n",
      "                col 0      col 1      col 2      col 3\n",
      "\n",
      "      Row 0:  0.0185874  0.132068         1  0.904878\n",
      "\n",
      "      Row 1:  0.0222222  0.140741         1  0.859861\n",
      "\n",
      "      Row 2:  0.0350877  0.157895         1  0.787238\n",
      "\n",
      "\n",
      "\n",
      "Matrix in Row Echelon Form\n",
      "                col 0      col 1      col 2      col 3\n",
      "\n",
      "      Row 0:          1   7.10526      53.8   48.6824\n",
      "\n",
      "      Row 1:          0         1      11.4   12.9399\n",
      "\n",
      "      Row 2:          0         0         1   1.69675\n",
      "\n",
      "\n",
      "\n",
      "The Solution is: \n",
      "(2.89269, -6.40308, 1.69675)\n"
     ]
    }
   ],
   "source": [
    "PlynomialRegression P_2(2);\n",
    "CSVReader csv_2 = CSVReader(\"./datasets/part_2/a/2_a_dataset_2.csv\");\n",
    "P_2.fit(csv_2.data[0], csv_2.data[1], 1, true);\n",
    "vector<double> y = P_2.predict(0, 10, 0.1);"
   ]
  },
  {
   "cell_type": "code",
   "execution_count": 25,
   "metadata": {},
   "outputs": [
    {
     "name": "stdout",
     "output_type": "stream",
     "text": [
      "Please Specify the number of iterations\n"
     ]
    },
    {
     "name": "stdin",
     "output_type": "stream",
     "text": [
      " 30\n"
     ]
    },
    {
     "name": "stdout",
     "output_type": "stream",
     "text": [
      "This matrix is not in diagonally dominant form. Convergence is not guaranteed!\n",
      "iteration 1: \n",
      "(12070.7, 10465.9, 11798.4)\n",
      "\n",
      "\n",
      "iteration 2: \n",
      "(-697049, 38601.1, 32237.4)\n",
      "\n",
      "\n",
      "iteration 3: \n",
      "(-1.99657e+06, 98564.9, 68366.8)\n",
      "\n",
      "\n",
      "iteration 4: \n",
      "(-4.36639e+06, 216038, 132970)\n",
      "\n",
      "\n",
      "iteration 5: \n",
      "(-8.67673e+06, 437594, 249227)\n",
      "\n",
      "\n",
      "iteration 6: \n",
      "(-1.65056e+07, 847690, 459172)\n",
      "\n",
      "\n",
      "iteration 7: \n",
      "(-3.07144e+07, 1.59948e+06, 839024)\n",
      "\n",
      "\n",
      "iteration 8: \n",
      "(-5.64921e+07, 2.9707e+06, 1.527e+06)\n",
      "\n",
      "\n",
      "iteration 9: \n",
      "(-1.03248e+08, 5.46497e+06, 2.77372e+06)\n",
      "\n",
      "\n",
      "iteration 10: \n",
      "(-1.88044e+08, 9.99554e+06, 5.03367e+06)\n",
      "\n",
      "\n",
      "iteration 11: \n",
      "(-3.4182e+08, 1.82185e+07, 9.13098e+06)\n",
      "\n",
      "\n",
      "iteration 12: \n",
      "(-6.20681e+08, 3.31367e+07, 1.65601e+07)\n",
      "\n",
      "\n",
      "iteration 13: \n",
      "(-1.12636e+09, 6.01958e+07, 3.00308e+07)\n",
      "\n",
      "\n",
      "iteration 14: \n",
      "(-2.04335e+09, 1.0927e+08, 5.44573e+07)\n",
      "\n",
      "\n",
      "iteration 15: \n",
      "(-3.70618e+09, 1.98266e+08, 9.87503e+07)\n",
      "\n",
      "\n",
      "iteration 16: \n",
      "(-6.72148e+09, 3.59653e+08, 1.79068e+08)\n",
      "\n",
      "\n",
      "iteration 17: \n",
      "(-1.21893e+10, 6.52309e+08, 3.24712e+08)\n",
      "\n",
      "\n",
      "iteration 18: \n",
      "(-2.21043e+10, 1.183e+09, 5.88813e+08)\n",
      "\n",
      "\n",
      "iteration 19: \n",
      "(-4.00837e+10, 2.14534e+09, 1.06772e+09)\n",
      "\n",
      "\n",
      "iteration 20: \n",
      "(-7.26866e+10, 3.89041e+09, 1.93615e+09)\n",
      "\n",
      "\n",
      "iteration 21: \n",
      "(-1.31807e+11, 7.05482e+09, 3.5109e+09)\n",
      "\n",
      "\n",
      "iteration 22: \n",
      "(-2.39013e+11, 1.2793e+10, 6.36649e+09)\n",
      "\n",
      "\n",
      "iteration 23: \n",
      "(-4.33415e+11, 2.31983e+10, 1.15446e+10)\n",
      "\n",
      "\n",
      "iteration 24: \n",
      "(-7.85932e+11, 4.20668e+10, 2.09345e+10)\n",
      "\n",
      "\n",
      "iteration 25: \n",
      "(-1.42517e+12, 7.6282e+10, 3.79614e+10)\n",
      "\n",
      "\n",
      "iteration 26: \n",
      "(-2.58433e+12, 1.38326e+11, 6.88373e+10)\n",
      "\n",
      "\n",
      "iteration 27: \n",
      "(-4.68629e+12, 2.50833e+11, 1.24826e+11)\n",
      "\n",
      "\n",
      "iteration 28: \n",
      "(-8.49787e+12, 4.54848e+11, 2.26353e+11)\n",
      "\n",
      "\n",
      "iteration 29: \n",
      "(-1.54096e+13, 8.24798e+11, 4.10456e+11)\n",
      "\n",
      "\n",
      "iteration 30: \n",
      "(-2.7943e+13, 1.49565e+12, 7.443e+11)\n",
      "\n",
      "\n"
     ]
    }
   ],
   "source": [
    "P_2.fit(csv_2.data[0], csv_2.data[1], 2, true);\n",
    "vector<double> y = P_2.predict(0, 10, 0.1);"
   ]
  },
  {
   "cell_type": "code",
   "execution_count": 2,
   "metadata": {},
   "outputs": [],
   "source": [
    "CSVReader csv_3 = CSVReader(\"./datasets/kaggle_Housing.csv\");\n"
   ]
  },
  {
   "cell_type": "code",
   "execution_count": 30,
   "metadata": {},
   "outputs": [
    {
     "data": {
      "text/plain": [
       "6"
      ]
     },
     "execution_count": 30,
     "metadata": {},
     "output_type": "execute_result"
    }
   ],
   "source": [
    "csv_3.n_cols"
   ]
  },
  {
   "cell_type": "code",
   "execution_count": 31,
   "metadata": {},
   "outputs": [
    {
     "data": {
      "text/plain": [
       "{ \"price\", \"lotsize\", \"bedrooms\", \"bathrms\", \"stories\", \"garagepl\r",
       "\" }"
      ]
     },
     "execution_count": 31,
     "metadata": {},
     "output_type": "execute_result"
    }
   ],
   "source": [
    "csv_3.col_names"
   ]
  },
  {
   "cell_type": "code",
   "execution_count": 32,
   "metadata": {},
   "outputs": [
    {
     "data": {
      "text/plain": [
       "{ { 42000.000, 38500.000, 49500.000, 60500.000, 61000.000, 66000.000, 66000.000, 69000.000, 83800.000, 88500.000, 90000.000, 30500.000, 27000.000, 36000.000, 37000.000, 37900.000, 40500.000, 40750.000, 45000.000, 45000.000, 48500.000, 65900.000, 37900.000, 38000.000, 42000.000, 42300.000, 43500.000, 44000.000, 44500.000, 44900.000, 45000.000, 48000.000, 49000.000, 51500.000, 61000.000, 61000.000, 61700.000, 67000.000, 82000.000, 54500.000, 66500.000, 70000.000, 82000.000, 92000.000, 38000.000, 44000.000, 41000.000, 43000.000, 48000.000, 54800.000, 55000.000, 57000.000, 68000.000, 95000.000, 38000.000, 25000.000, 25245.000, 56000.000, 35500.000, 30000.000, 48000.000, 48000.000, 52000.000, 54000.000, 56000.000, 60000.000, 60000.000, 67000.000, 47000.000, 70000.000, 45000.000, 51000.000, 32500.000, 34000.000, 35000.000, 36000.000, 45000.000, 47000.000, 55000.000, 63900.000, 50000.000, 35000.000, 50000.000, 43000.000, 55500.000, 57000.000, 60000.000, 78000.000, 35000.000, 44000.000, 47000.000, 58000.000, 163000.00, 128000.00, 123500.00, 39000.000, 53900.000, 59900.000, 35000.000, 43000.000, 57000.000, 79000.000, 125000.00, 132000.00, 58000.000, 43000.000, 48000.000, 58500.000, 73000.000, 63500.000, 43000.000, 46500.000, 92000.000, 75000.000, 75000.000, 85000.000, 93000.000, 94500.000, 106500.00, 116000.00, 61500.000, 80000.000, 37000.000, 59500.000, 70000.000, 95000.000, 117000.00, 122500.00, 123500.00, 127000.00, 35000.000, 44500.000, 49900.000, 50500.000, 65000.000, 90000.000, 46000.000, 35000.000, 26500.000, 43000.000, 56000.000, 40000.000, 51000.000, 51000.000, 57250.000, 44000.000, 61000.000, 62000.000, 80000.000, 50000.000, 59900.000, 35500.000, 37000.000, 42000.000, 48000.000, 60000.000, 60000.000, 60000.000, 62000.000, 63000.000, 63900.000, 130000.00, 25000.000, 50000.000, 52900.000, 62000.000, 73500.000, 38000.000, 46000.000, 48000.000, 52500.000, 32000.000, 38000.000, 46000.000, 50000.000, 57500.000, 70000.000, 69900.000, 74500.000, 42000.000, 60000.000, 50000.000, 58000.000, 63900.000, 28000.000, 54000.000, 44700.000, 47000.000, 50000.000, 57250.000, 67000.000, 52500.000, 42000.000, 57500.000, 33000.000, 34400.000, 40000.000, 40500.000, 46500.000, 52000.000, 53000.000, 53900.000, 50000.000, 55500.000, 56000.000, 60000.000, 60000.000, 69500.000, 72000.000, 92500.000, 40500.000, 42000.000, 47900.000, 52000.000, 62000.000, 41000.000, 138300.00, 42000.000, 47000.000, 64500.000, 46000.000, 58000.000, 70100.000, 78500.000, 87250.000, 70800.000, 56000.000, 48000.000, 68000.000, 79000.000, 80000.000, 87000.000, 25000.000, 32500.000, 36000.000, 42500.000, 43000.000, 50000.000, 26000.000, 30000.000, 34000.000, 52000.000, 70000.000, 27000.000, 32500.000, 37200.000, 38000.000, 42000.000, 44500.000, 45000.000, 48500.000, 52000.000, 53900.000, 60000.000, 61000.000, 64500.000, 71000.000, 75500.000, 33500.000, 41000.000, 41000.000, 46200.000, 48500.000, 48900.000, 50000.000, 51000.000, 52500.000, 52500.000, 54000.000, 59000.000, 60000.000, 63000.000, 64000.000, 64900.000, 65000.000, 66000.000, 70000.000, 65500.000, 57000.000, 52000.000, 54000.000, 74500.000, 90000.000, 45000.000, 45000.000, 65000.000, 55000.000, 62000.000, 30000.000, 34000.000, 38000.000, 39000.000, 45000.000, 47000.000, 47500.000, 49000.000, 50000.000, 50000.000, 52900.000, 53000.000, 55000.000, 56000.000, 58500.000, 59500.000, 60000.000, 64000.000, 67000.000, 68100.000, 70000.000, 72000.000, 57500.000, 69900.000, 70000.000, 75000.000, 76900.000, 78000.000, 80000.000, 82000.000, 83000.000, 83000.000, 83900.000, 88500.000, 93000.000, 98000.000, 98500.000, 99000.000, 101000.00, 110000.00, 115442.00, 120000.00, 124000.00, 175000.00, 50000.000, 55000.000, 60000.000, 61000.000, 106000.00, 155000.00, 141000.00, 62500.000, 70000.000, 73000.000, 80000.000, 80000.000, 88000.000, 49000.000, 52000.000, 59500.000, 60000.000, 64000.000, 64500.000, 68500.000, 78500.000, 86000.000, 86900.000, 75000.000, 78000.000, 95000.000, 97000.000, 107000.00, 130000.00, 145000.00, 175000.00, 72000.000, 84900.000, 99000.000, 114000.00, 120000.00, 145000.00, 79000.000, 82000.000, 85000.000, 100500.00, 122000.00, 126500.00, 133000.00, 140000.00, 190000.00, 84000.000, 97000.000, 103500.00, 112500.00, 140000.00, 74700.000, 78000.000, 78900.000, 83900.000, 85000.000, 85000.000, 86000.000, 86900.000, 94500.000, 96000.000, 106000.00, 72000.000, 74500.000, 77000.000, 80750.000, 82900.000, 85000.000, 92500.000, 76000.000, 77500.000, 80000.000, 80000.000, 86000.000, 87000.000, 87500.000, 89000.000, 89900.000, 90000.000, 95000.000, 112000.00, 31900.000, 52000.000, 90000.000, 100000.00, 91700.000, 174500.00, 94700.000, 68000.000, 80000.000, 61100.000, 62900.000, 65500.000, 66000.000, 49500.000, 50000.000, 53500.000, 58550.000, 64500.000, 65000.000, 69000.000, 73000.000, 75000.000, 75000.000, 132000.00, 60000.000, 65000.000, 69000.000, 51900.000, 57000.000, 65000.000, 79500.000, 72500.000, 104900.00, 114900.00, 120000.00, 58000.000, 67000.000, 67000.000, 69000.000, 73000.000, 73500.000, 74900.000, 75000.000, 79500.000, 120900.00, 44555.000, 47000.000, 47600.000, 49000.000, 49000.000, 49000.000, 49500.000, 52000.000, 54000.000, 55000.000, 55000.000, 56000.000, 60000.000, 60500.000, 50000.000, 64900.000, 93000.000, 85000.000, 61500.000, 88500.000, 88000.000, 89000.000, 89500.000, 95000.000, 95500.000, 51500.000, 62900.000, 118500.00, 42900.000, 44100.000, 47000.000, 50000.000, 50000.000, 53000.000, 53000.000, 54000.000, 58500.000, 59000.000, 60000.000, 62900.000, 64000.000, 65000.000, 67900.000, 68500.000, 70000.000, 70500.000, 71500.000, 71900.000, 75000.000, 75000.000, 87000.000, 64000.000, 70000.000, 47500.000, 62600.000, 66000.000, 58900.000, 53000.000, 95000.000, 96500.000, 101000.00, 102000.00, 103000.00, 105000.00, 108000.00, 110000.00, 113000.00, 120000.00, 105000.00, 106000.00, 107500.00, 108000.00, 113750.00, 120000.00, 70000.000, 71000.000, 82000.000, 82000.000, 82500.000, 83000.000, 84000.000, 85000.000, 85000.000, 91500.000, 94000.000, 103000.00, 105000.00, 105000.00 }, { 5850.0000, 4000.0000, 3060.0000, 6650.0000, 6360.0000, 4160.0000, 3880.0000, 4160.0000, 4800.0000, 5500.0000, 7200.0000, 3000.0000, 1700.0000, 2880.0000, 3600.0000, 3185.0000, 3300.0000, 5200.0000, 3450.0000, 3986.0000, 4785.0000, 4510.0000, 4000.0000, 3934.0000, 4960.0000, 3000.0000, 3800.0000, 4960.0000, 3000.0000, 4500.0000, 3500.0000, 3500.0000, 4000.0000, 4500.0000, 6360.0000, 4500.0000, 4032.0000, 5170.0000, 5400.0000, 3150.0000, 3745.0000, 4520.0000, 4640.0000, 8580.0000, 2000.0000, 2160.0000, 3040.0000, 3090.0000, 4960.0000, 3350.0000, 5300.0000, 4100.0000, 9166.0000, 4040.0000, 3630.0000, 3620.0000, 2400.0000, 7260.0000, 4400.0000, 2400.0000, 4120.0000, 4750.0000, 4280.0000, 4820.0000, 5500.0000, 5500.0000, 5040.0000, 6000.0000, 2500.0000, 4095.0000, 4095.0000, 3150.0000, 1836.0000, 2475.0000, 3210.0000, 3180.0000, 1650.0000, 3180.0000, 3180.0000, 6360.0000, 4240.0000, 3240.0000, 3650.0000, 3240.0000, 3780.0000, 6480.0000, 5850.0000, 3150.0000, 3000.0000, 3090.0000, 6060.0000, 5900.0000, 7420.0000, 8500.0000, 8050.0000, 6800.0000, 8250.0000, 8250.0000, 3500.0000, 2835.0000, 4500.0000, 3300.0000, 4320.0000, 3500.0000, 4992.0000, 4600.0000, 3720.0000, 3680.0000, 3000.0000, 3750.0000, 5076.0000, 4500.0000, 5000.0000, 4260.0000, 6540.0000, 3700.0000, 3760.0000, 4000.0000, 4300.0000, 6840.0000, 4400.0000, 10500.000, 4400.0000, 4840.0000, 4120.0000, 4260.0000, 5960.0000, 8800.0000, 4560.0000, 4600.0000, 4840.0000, 3850.0000, 4900.0000, 3850.0000, 3760.0000, 6000.0000, 4370.0000, 7700.0000, 2990.0000, 3750.0000, 3000.0000, 2650.0000, 4500.0000, 4500.0000, 4500.0000, 4500.0000, 2175.0000, 4500.0000, 4800.0000, 4600.0000, 3450.0000, 3000.0000, 3600.0000, 3600.0000, 3750.0000, 2610.0000, 2953.0000, 2747.0000, 1905.0000, 3968.0000, 3162.0000, 6000.0000, 2910.0000, 2135.0000, 3120.0000, 4075.0000, 3410.0000, 2800.0000, 2684.0000, 3100.0000, 3630.0000, 1950.0000, 2430.0000, 4320.0000, 3036.0000, 3630.0000, 5400.0000, 3420.0000, 3180.0000, 3660.0000, 4410.0000, 3990.0000, 4340.0000, 3510.0000, 3420.0000, 3420.0000, 5495.0000, 3480.0000, 7424.0000, 3460.0000, 3630.0000, 3630.0000, 3480.0000, 3460.0000, 3180.0000, 3635.0000, 3960.0000, 4350.0000, 3930.0000, 3570.0000, 3600.0000, 2520.0000, 3480.0000, 3180.0000, 3290.0000, 4000.0000, 2325.0000, 4350.0000, 3540.0000, 3960.0000, 2640.0000, 2700.0000, 2700.0000, 3180.0000, 3500.0000, 3630.0000, 6000.0000, 3150.0000, 3792.0000, 3510.0000, 3120.0000, 3000.0000, 4200.0000, 2817.0000, 3240.0000, 2800.0000, 3816.0000, 3185.0000, 6321.0000, 3650.0000, 4700.0000, 6615.0000, 3850.0000, 3970.0000, 3000.0000, 4352.0000, 3630.0000, 3600.0000, 3000.0000, 3000.0000, 2787.0000, 3000.0000, 4770.0000, 3649.0000, 3970.0000, 2910.0000, 3480.0000, 6615.0000, 3500.0000, 3450.0000, 3450.0000, 3520.0000, 6930.0000, 4600.0000, 4360.0000, 3450.0000, 4410.0000, 4600.0000, 3640.0000, 6000.0000, 5400.0000, 3640.0000, 3640.0000, 4040.0000, 3640.0000, 3640.0000, 5640.0000, 3600.0000, 3600.0000, 4632.0000, 3640.0000, 4900.0000, 4510.0000, 4100.0000, 3640.0000, 5680.0000, 6300.0000, 4000.0000, 3960.0000, 5960.0000, 5830.0000, 4500.0000, 4100.0000, 6750.0000, 9000.0000, 2550.0000, 7152.0000, 6450.0000, 3360.0000, 3264.0000, 4000.0000, 4000.0000, 3069.0000, 4040.0000, 4040.0000, 3185.0000, 5900.0000, 3120.0000, 5450.0000, 4040.0000, 4080.0000, 8080.0000, 4040.0000, 4080.0000, 5800.0000, 5885.0000, 9667.0000, 3420.0000, 5800.0000, 7600.0000, 5400.0000, 4995.0000, 3000.0000, 5500.0000, 6450.0000, 6210.0000, 5000.0000, 5000.0000, 5828.0000, 5200.0000, 5500.0000, 6350.0000, 8250.0000, 6000.0000, 7700.0000, 8880.0000, 8880.0000, 6480.0000, 7000.0000, 8875.0000, 7155.0000, 8960.0000, 7350.0000, 3850.0000, 7000.0000, 7770.0000, 7440.0000, 7500.0000, 8100.0000, 3900.0000, 2970.0000, 3000.0000, 10500.000, 5500.0000, 4500.0000, 3850.0000, 4130.0000, 4046.0000, 4079.0000, 4000.0000, 9860.0000, 7000.0000, 7980.0000, 6800.0000, 4300.0000, 10269.000, 6100.0000, 6420.0000, 12090.000, 6600.0000, 6600.0000, 8580.0000, 9960.0000, 10700.000, 15600.000, 13200.000, 9000.0000, 7950.0000, 16200.000, 6100.0000, 6360.0000, 6420.0000, 6360.0000, 6540.0000, 6420.0000, 6550.0000, 5750.0000, 7420.0000, 7160.0000, 4000.0000, 9000.0000, 6550.0000, 13200.000, 7085.0000, 6600.0000, 6900.0000, 11460.000, 7020.0000, 6540.0000, 8000.0000, 9620.0000, 10500.000, 5020.0000, 7440.0000, 6600.0000, 7200.0000, 6710.0000, 6660.0000, 7000.0000, 7231.0000, 7410.0000, 7800.0000, 6825.0000, 6360.0000, 6600.0000, 6900.0000, 6600.0000, 6420.0000, 6600.0000, 6600.0000, 9000.0000, 6500.0000, 6360.0000, 5300.0000, 2850.0000, 6400.0000, 11175.000, 6750.0000, 7500.0000, 6000.0000, 10240.000, 5136.0000, 3400.0000, 2880.0000, 3840.0000, 2870.0000, 5320.0000, 3512.0000, 3480.0000, 3600.0000, 3520.0000, 5320.0000, 6040.0000, 11410.000, 8400.0000, 5300.0000, 7800.0000, 3520.0000, 5360.0000, 6862.0000, 3520.0000, 4050.0000, 3520.0000, 4400.0000, 5720.0000, 11440.000, 7482.0000, 5500.0000, 4320.0000, 5400.0000, 4320.0000, 4815.0000, 6100.0000, 7980.0000, 6050.0000, 3800.0000, 5400.0000, 6000.0000, 2398.0000, 2145.0000, 2145.0000, 2145.0000, 2610.0000, 1950.0000, 2145.0000, 2275.0000, 2856.0000, 2015.0000, 2176.0000, 2145.0000, 2145.0000, 2787.0000, 9500.0000, 4990.0000, 6670.0000, 6254.0000, 10360.000, 5500.0000, 5450.0000, 5500.0000, 6000.0000, 5700.0000, 6600.0000, 4000.0000, 4880.0000, 4880.0000, 8050.0000, 8100.0000, 5880.0000, 5880.0000, 12944.000, 6020.0000, 4050.0000, 8400.0000, 5600.0000, 5985.0000, 4500.0000, 4920.0000, 8250.0000, 8400.0000, 6440.0000, 8100.0000, 6720.0000, 5948.0000, 8150.0000, 4800.0000, 9800.0000, 8520.0000, 8372.0000, 4040.0000, 4646.0000, 4775.0000, 4950.0000, 5010.0000, 6060.0000, 3584.0000, 6000.0000, 6000.0000, 6240.0000, 6000.0000, 7680.0000, 6000.0000, 6000.0000, 6000.0000, 6000.0000, 7475.0000, 5150.0000, 6325.0000, 6000.0000, 6000.0000, 6000.0000, 7000.0000, 12900.000, 7686.0000, 5000.0000, 5800.0000, 6000.0000, 4800.0000, 6500.0000, 7320.0000, 6525.0000, 4800.0000, 6000.0000, 6000.0000, 6000.0000, 6000.0000 }, { 3.0000000, 2.0000000, 3.0000000, 3.0000000, 2.0000000, 3.0000000, 3.0000000, 3.0000000, 3.0000000, 3.0000000, 3.0000000, 2.0000000, 3.0000000, 3.0000000, 2.0000000, 2.0000000, 3.0000000, 4.0000000, 1.0000000, 2.0000000, 3.0000000, 4.0000000, 3.0000000, 2.0000000, 2.0000000, 2.0000000, 2.0000000, 2.0000000, 3.0000000, 3.0000000, 2.0000000, 4.0000000, 2.0000000, 2.0000000, 2.0000000, 2.0000000, 2.0000000, 3.0000000, 4.0000000, 2.0000000, 3.0000000, 3.0000000, 4.0000000, 5.0000000, 2.0000000, 3.0000000, 2.0000000, 3.0000000, 4.0000000, 3.0000000, 5.0000000, 4.0000000, 2.0000000, 3.0000000, 3.0000000, 2.0000000, 3.0000000, 3.0000000, 3.0000000, 3.0000000, 2.0000000, 2.0000000, 2.0000000, 3.0000000, 4.0000000, 3.0000000, 3.0000000, 2.0000000, 2.0000000, 3.0000000, 2.0000000, 3.0000000, 2.0000000, 3.0000000, 3.0000000, 3.0000000, 3.0000000, 4.0000000, 2.0000000, 2.0000000, 3.0000000, 2.0000000, 3.0000000, 3.0000000, 2.0000000, 3.0000000, 2.0000000, 3.0000000, 2.0000000, 2.0000000, 3.0000000, 4.0000000, 4.0000000, 3.0000000, 3.0000000, 2.0000000, 3.0000000, 3.0000000, 2.0000000, 2.0000000, 3.0000000, 3.0000000, 3.0000000, 4.0000000, 3.0000000, 2.0000000, 2.0000000, 3.0000000, 3.0000000, 2.0000000, 3.0000000, 2.0000000, 3.0000000, 4.0000000, 4.0000000, 4.0000000, 3.0000000, 3.0000000, 3.0000000, 5.0000000, 2.0000000, 4.0000000, 2.0000000, 3.0000000, 2.0000000, 4.0000000, 3.0000000, 3.0000000, 3.0000000, 3.0000000, 2.0000000, 3.0000000, 3.0000000, 3.0000000, 3.0000000, 4.0000000, 3.0000000, 2.0000000, 2.0000000, 3.0000000, 3.0000000, 3.0000000, 4.0000000, 2.0000000, 3.0000000, 2.0000000, 3.0000000, 3.0000000, 5.0000000, 4.0000000, 3.0000000, 3.0000000, 2.0000000, 3.0000000, 3.0000000, 4.0000000, 3.0000000, 4.0000000, 5.0000000, 3.0000000, 3.0000000, 4.0000000, 3.0000000, 3.0000000, 3.0000000, 3.0000000, 3.0000000, 3.0000000, 2.0000000, 3.0000000, 2.0000000, 3.0000000, 3.0000000, 3.0000000, 3.0000000, 3.0000000, 4.0000000, 4.0000000, 3.0000000, 4.0000000, 2.0000000, 3.0000000, 3.0000000, 3.0000000, 5.0000000, 2.0000000, 3.0000000, 4.0000000, 3.0000000, 4.0000000, 3.0000000, 2.0000000, 3.0000000, 3.0000000, 2.0000000, 2.0000000, 3.0000000, 3.0000000, 2.0000000, 3.0000000, 3.0000000, 5.0000000, 3.0000000, 4.0000000, 2.0000000, 4.0000000, 3.0000000, 2.0000000, 2.0000000, 3.0000000, 2.0000000, 2.0000000, 3.0000000, 3.0000000, 4.0000000, 2.0000000, 4.0000000, 3.0000000, 4.0000000, 3.0000000, 3.0000000, 4.0000000, 3.0000000, 4.0000000, 4.0000000, 3.0000000, 2.0000000, 2.0000000, 3.0000000, 3.0000000, 4.0000000, 4.0000000, 3.0000000, 1.0000000, 2.0000000, 4.0000000, 4.0000000, 6.0000000, 2.0000000, 4.0000000, 4.0000000, 2.0000000, 3.0000000, 2.0000000, 3.0000000, 2.0000000, 2.0000000, 3.0000000, 2.0000000, 3.0000000, 3.0000000, 2.0000000, 4.0000000, 3.0000000, 4.0000000, 3.0000000, 4.0000000, 2.0000000, 2.0000000, 2.0000000, 4.0000000, 4.0000000, 2.0000000, 2.0000000, 2.0000000, 2.0000000, 2.0000000, 2.0000000, 2.0000000, 4.0000000, 3.0000000, 2.0000000, 4.0000000, 2.0000000, 3.0000000, 3.0000000, 3.0000000, 3.0000000, 3.0000000, 3.0000000, 2.0000000, 4.0000000, 3.0000000, 2.0000000, 3.0000000, 3.0000000, 3.0000000, 4.0000000, 2.0000000, 2.0000000, 3.0000000, 3.0000000, 2.0000000, 2.0000000, 2.0000000, 2.0000000, 2.0000000, 3.0000000, 2.0000000, 2.0000000, 2.0000000, 3.0000000, 2.0000000, 3.0000000, 3.0000000, 2.0000000, 4.0000000, 4.0000000, 2.0000000, 4.0000000, 3.0000000, 4.0000000, 3.0000000, 3.0000000, 3.0000000, 4.0000000, 3.0000000, 3.0000000, 4.0000000, 3.0000000, 3.0000000, 3.0000000, 3.0000000, 3.0000000, 3.0000000, 3.0000000, 2.0000000, 3.0000000, 3.0000000, 3.0000000, 3.0000000, 4.0000000, 2.0000000, 2.0000000, 3.0000000, 2.0000000, 3.0000000, 3.0000000, 4.0000000, 3.0000000, 3.0000000, 3.0000000, 2.0000000, 3.0000000, 3.0000000, 3.0000000, 3.0000000, 3.0000000, 3.0000000, 3.0000000, 3.0000000, 3.0000000, 3.0000000, 2.0000000, 6.0000000, 3.0000000, 3.0000000, 3.0000000, 4.0000000, 3.0000000, 4.0000000, 4.0000000, 3.0000000, 3.0000000, 3.0000000, 2.0000000, 4.0000000, 5.0000000, 5.0000000, 3.0000000, 3.0000000, 3.0000000, 4.0000000, 4.0000000, 3.0000000, 4.0000000, 3.0000000, 4.0000000, 3.0000000, 3.0000000, 4.0000000, 3.0000000, 3.0000000, 3.0000000, 4.0000000, 3.0000000, 3.0000000, 3.0000000, 3.0000000, 3.0000000, 3.0000000, 3.0000000, 3.0000000, 3.0000000, 3.0000000, 3.0000000, 3.0000000, 4.0000000, 3.0000000, 3.0000000, 3.0000000, 3.0000000, 3.0000000, 3.0000000, 4.0000000, 3.0000000, 3.0000000, 3.0000000, 3.0000000, 3.0000000, 3.0000000, 3.0000000, 3.0000000, 3.0000000, 3.0000000, 3.0000000, 3.0000000, 2.0000000, 4.0000000, 3.0000000, 2.0000000, 3.0000000, 3.0000000, 3.0000000, 3.0000000, 2.0000000, 2.0000000, 2.0000000, 2.0000000, 3.0000000, 2.0000000, 3.0000000, 3.0000000, 2.0000000, 3.0000000, 4.0000000, 3.0000000, 3.0000000, 3.0000000, 3.0000000, 3.0000000, 2.0000000, 3.0000000, 4.0000000, 2.0000000, 4.0000000, 3.0000000, 4.0000000, 3.0000000, 2.0000000, 3.0000000, 2.0000000, 3.0000000, 3.0000000, 3.0000000, 3.0000000, 5.0000000, 3.0000000, 3.0000000, 3.0000000, 3.0000000, 3.0000000, 3.0000000, 3.0000000, 3.0000000, 3.0000000, 3.0000000, 3.0000000, 2.0000000, 4.0000000, 3.0000000, 3.0000000, 3.0000000, 4.0000000, 3.0000000, 4.0000000, 2.0000000, 3.0000000, 4.0000000, 3.0000000, 4.0000000, 3.0000000, 2.0000000, 2.0000000, 3.0000000, 4.0000000, 2.0000000, 2.0000000, 3.0000000, 2.0000000, 3.0000000, 3.0000000, 2.0000000, 2.0000000, 2.0000000, 3.0000000, 3.0000000, 3.0000000, 3.0000000, 4.0000000, 2.0000000, 4.0000000, 3.0000000, 3.0000000, 3.0000000, 2.0000000, 4.0000000, 3.0000000, 3.0000000, 3.0000000, 3.0000000, 4.0000000, 4.0000000, 3.0000000, 2.0000000, 2.0000000, 3.0000000, 4.0000000, 4.0000000, 3.0000000, 4.0000000, 4.0000000, 4.0000000, 4.0000000, 4.0000000, 3.0000000, 3.0000000, 3.0000000, 3.0000000, 3.0000000, 3.0000000, 3.0000000, 3.0000000, 3.0000000, 3.0000000, 3.0000000, 3.0000000, 3.0000000, 3.0000000, 4.0000000, 3.0000000, 3.0000000, 3.0000000, 3.0000000, 3.0000000, 3.0000000 }, { 1.0000000, 1.0000000, 1.0000000, 1.0000000, 1.0000000, 1.0000000, 2.0000000, 1.0000000, 1.0000000, 2.0000000, 2.0000000, 1.0000000, 1.0000000, 1.0000000, 1.0000000, 1.0000000, 1.0000000, 1.0000000, 1.0000000, 2.0000000, 1.0000000, 2.0000000, 1.0000000, 1.0000000, 1.0000000, 1.0000000, 1.0000000, 1.0000000, 1.0000000, 1.0000000, 1.0000000, 1.0000000, 1.0000000, 1.0000000, 1.0000000, 1.0000000, 1.0000000, 1.0000000, 2.0000000, 2.0000000, 1.0000000, 1.0000000, 1.0000000, 3.0000000, 1.0000000, 1.0000000, 1.0000000, 1.0000000, 1.0000000, 1.0000000, 2.0000000, 1.0000000, 1.0000000, 1.0000000, 3.0000000, 1.0000000, 1.0000000, 2.0000000, 1.0000000, 1.0000000, 1.0000000, 1.0000000, 1.0000000, 1.0000000, 1.0000000, 1.0000000, 1.0000000, 1.0000000, 1.0000000, 1.0000000, 1.0000000, 1.0000000, 1.0000000, 1.0000000, 1.0000000, 1.0000000, 1.0000000, 1.0000000, 2.0000000, 1.0000000, 1.0000000, 1.0000000, 1.0000000, 1.0000000, 1.0000000, 1.0000000, 1.0000000, 2.0000000, 1.0000000, 1.0000000, 1.0000000, 2.0000000, 1.0000000, 2.0000000, 1.0000000, 1.0000000, 1.0000000, 1.0000000, 1.0000000, 1.0000000, 2.0000000, 3.0000000, 1.0000000, 2.0000000, 2.0000000, 1.0000000, 1.0000000, 2.0000000, 2.0000000, 1.0000000, 1.0000000, 1.0000000, 1.0000000, 1.0000000, 2.0000000, 1.0000000, 1.0000000, 2.0000000, 2.0000000, 1.0000000, 1.0000000, 2.0000000, 1.0000000, 1.0000000, 1.0000000, 2.0000000, 3.0000000, 2.0000000, 2.0000000, 2.0000000, 1.0000000, 1.0000000, 1.0000000, 1.0000000, 1.0000000, 2.0000000, 1.0000000, 1.0000000, 1.0000000, 1.0000000, 1.0000000, 1.0000000, 2.0000000, 1.0000000, 1.0000000, 1.0000000, 1.0000000, 2.0000000, 2.0000000, 1.0000000, 1.0000000, 1.0000000, 2.0000000, 1.0000000, 1.0000000, 3.0000000, 1.0000000, 2.0000000, 1.0000000, 1.0000000, 1.0000000, 1.0000000, 1.0000000, 2.0000000, 1.0000000, 1.0000000, 1.0000000, 1.0000000, 1.0000000, 1.0000000, 1.0000000, 1.0000000, 1.0000000, 1.0000000, 1.0000000, 2.0000000, 1.0000000, 2.0000000, 2.0000000, 1.0000000, 1.0000000, 1.0000000, 1.0000000, 1.0000000, 1.0000000, 1.0000000, 1.0000000, 1.0000000, 1.0000000, 1.0000000, 1.0000000, 1.0000000, 1.0000000, 2.0000000, 1.0000000, 1.0000000, 1.0000000, 1.0000000, 1.0000000, 1.0000000, 1.0000000, 2.0000000, 1.0000000, 2.0000000, 1.0000000, 2.0000000, 1.0000000, 1.0000000, 1.0000000, 1.0000000, 1.0000000, 1.0000000, 1.0000000, 1.0000000, 1.0000000, 1.0000000, 3.0000000, 1.0000000, 1.0000000, 1.0000000, 1.0000000, 1.0000000, 1.0000000, 2.0000000, 1.0000000, 2.0000000, 1.0000000, 1.0000000, 1.0000000, 2.0000000, 1.0000000, 2.0000000, 1.0000000, 1.0000000, 1.0000000, 1.0000000, 1.0000000, 1.0000000, 1.0000000, 1.0000000, 2.0000000, 1.0000000, 1.0000000, 1.0000000, 1.0000000, 1.0000000, 1.0000000, 1.0000000, 1.0000000, 1.0000000, 1.0000000, 2.0000000, 1.0000000, 2.0000000, 1.0000000, 1.0000000, 3.0000000, 2.0000000, 1.0000000, 1.0000000, 1.0000000, 1.0000000, 1.0000000, 1.0000000, 1.0000000, 1.0000000, 1.0000000, 1.0000000, 1.0000000, 1.0000000, 2.0000000, 1.0000000, 1.0000000, 2.0000000, 1.0000000, 1.0000000, 1.0000000, 1.0000000, 1.0000000, 1.0000000, 1.0000000, 2.0000000, 2.0000000, 1.0000000, 1.0000000, 1.0000000, 1.0000000, 1.0000000, 1.0000000, 1.0000000, 1.0000000, 1.0000000, 1.0000000, 1.0000000, 1.0000000, 1.0000000, 1.0000000, 1.0000000, 1.0000000, 1.0000000, 1.0000000, 1.0000000, 1.0000000, 1.0000000, 1.0000000, 1.0000000, 2.0000000, 2.0000000, 1.0000000, 1.0000000, 1.0000000, 2.0000000, 1.0000000, 2.0000000, 2.0000000, 1.0000000, 1.0000000, 1.0000000, 1.0000000, 1.0000000, 1.0000000, 2.0000000, 2.0000000, 1.0000000, 2.0000000, 2.0000000, 1.0000000, 2.0000000, 2.0000000, 1.0000000, 2.0000000, 4.0000000, 1.0000000, 1.0000000, 1.0000000, 1.0000000, 2.0000000, 3.0000000, 1.0000000, 1.0000000, 1.0000000, 1.0000000, 1.0000000, 2.0000000, 1.0000000, 1.0000000, 2.0000000, 1.0000000, 1.0000000, 1.0000000, 1.0000000, 1.0000000, 1.0000000, 1.0000000, 2.0000000, 1.0000000, 1.0000000, 2.0000000, 2.0000000, 1.0000000, 2.0000000, 3.0000000, 2.0000000, 1.0000000, 1.0000000, 1.0000000, 2.0000000, 2.0000000, 3.0000000, 2.0000000, 1.0000000, 1.0000000, 2.0000000, 2.0000000, 2.0000000, 2.0000000, 2.0000000, 2.0000000, 1.0000000, 2.0000000, 2.0000000, 1.0000000, 1.0000000, 1.0000000, 2.0000000, 1.0000000, 1.0000000, 1.0000000, 1.0000000, 1.0000000, 1.0000000, 2.0000000, 1.0000000, 2.0000000, 1.0000000, 1.0000000, 2.0000000, 2.0000000, 1.0000000, 1.0000000, 1.0000000, 1.0000000, 1.0000000, 1.0000000, 2.0000000, 2.0000000, 1.0000000, 1.0000000, 2.0000000, 2.0000000, 1.0000000, 2.0000000, 2.0000000, 1.0000000, 2.0000000, 1.0000000, 1.0000000, 1.0000000, 2.0000000, 1.0000000, 1.0000000, 1.0000000, 1.0000000, 1.0000000, 1.0000000, 1.0000000, 1.0000000, 1.0000000, 1.0000000, 1.0000000, 1.0000000, 1.0000000, 1.0000000, 1.0000000, 1.0000000, 2.0000000, 2.0000000, 1.0000000, 1.0000000, 1.0000000, 1.0000000, 1.0000000, 1.0000000, 1.0000000, 1.0000000, 1.0000000, 2.0000000, 2.0000000, 1.0000000, 1.0000000, 1.0000000, 1.0000000, 1.0000000, 1.0000000, 1.0000000, 1.0000000, 1.0000000, 2.0000000, 1.0000000, 1.0000000, 1.0000000, 1.0000000, 1.0000000, 2.0000000, 1.0000000, 1.0000000, 1.0000000, 1.0000000, 1.0000000, 2.0000000, 1.0000000, 1.0000000, 1.0000000, 2.0000000, 1.0000000, 2.0000000, 1.0000000, 2.0000000, 2.0000000, 1.0000000, 1.0000000, 1.0000000, 2.0000000, 1.0000000, 1.0000000, 2.0000000, 1.0000000, 1.0000000, 1.0000000, 1.0000000, 1.0000000, 1.0000000, 1.0000000, 1.0000000, 1.0000000, 1.0000000, 1.0000000, 1.0000000, 1.0000000, 1.0000000, 1.0000000, 1.0000000, 1.0000000, 1.0000000, 2.0000000, 1.0000000, 2.0000000, 1.0000000, 1.0000000, 1.0000000, 1.0000000, 1.0000000, 1.0000000, 1.0000000, 1.0000000, 1.0000000, 2.0000000, 2.0000000, 2.0000000, 2.0000000, 2.0000000, 2.0000000, 2.0000000, 2.0000000, 2.0000000, 2.0000000, 2.0000000, 1.0000000, 2.0000000, 2.0000000, 1.0000000, 1.0000000, 1.0000000, 1.0000000, 1.0000000, 2.0000000, 2.0000000, 1.0000000, 2.0000000, 2.0000000, 2.0000000, 2.0000000, 2.0000000, 2.0000000, 2.0000000, 1.0000000 }, { 2.0000000, 1.0000000, 1.0000000, 2.0000000, 1.0000000, 1.0000000, 2.0000000, 3.0000000, 1.0000000, 4.0000000, 1.0000000, 1.0000000, 2.0000000, 1.0000000, 1.0000000, 1.0000000, 2.0000000, 3.0000000, 1.0000000, 1.0000000, 2.0000000, 2.0000000, 2.0000000, 1.0000000, 1.0000000, 2.0000000, 1.0000000, 1.0000000, 1.0000000, 2.0000000, 1.0000000, 2.0000000, 1.0000000, 1.0000000, 2.0000000, 1.0000000, 1.0000000, 4.0000000, 2.0000000, 1.0000000, 2.0000000, 2.0000000, 2.0000000, 2.0000000, 2.0000000, 2.0000000, 1.0000000, 2.0000000, 3.0000000, 2.0000000, 2.0000000, 1.0000000, 1.0000000, 2.0000000, 2.0000000, 1.0000000, 1.0000000, 1.0000000, 2.0000000, 2.0000000, 2.0000000, 1.0000000, 1.0000000, 2.0000000, 2.0000000, 2.0000000, 2.0000000, 1.0000000, 1.0000000, 2.0000000, 1.0000000, 2.0000000, 1.0000000, 2.0000000, 2.0000000, 1.0000000, 2.0000000, 2.0000000, 1.0000000, 1.0000000, 2.0000000, 1.0000000, 2.0000000, 2.0000000, 2.0000000, 2.0000000, 1.0000000, 1.0000000, 1.0000000, 1.0000000, 1.0000000, 2.0000000, 2.0000000, 4.0000000, 1.0000000, 1.0000000, 1.0000000, 1.0000000, 1.0000000, 1.0000000, 2.0000000, 2.0000000, 2.0000000, 2.0000000, 2.0000000, 1.0000000, 1.0000000, 2.0000000, 2.0000000, 1.0000000, 1.0000000, 1.0000000, 2.0000000, 2.0000000, 2.0000000, 2.0000000, 2.0000000, 2.0000000, 2.0000000, 2.0000000, 1.0000000, 2.0000000, 1.0000000, 2.0000000, 1.0000000, 2.0000000, 2.0000000, 2.0000000, 2.0000000, 2.0000000, 2.0000000, 2.0000000, 2.0000000, 1.0000000, 1.0000000, 4.0000000, 2.0000000, 1.0000000, 1.0000000, 2.0000000, 2.0000000, 2.0000000, 2.0000000, 1.0000000, 2.0000000, 2.0000000, 2.0000000, 3.0000000, 3.0000000, 2.0000000, 2.0000000, 2.0000000, 2.0000000, 2.0000000, 1.0000000, 2.0000000, 2.0000000, 2.0000000, 2.0000000, 2.0000000, 2.0000000, 2.0000000, 1.0000000, 2.0000000, 2.0000000, 1.0000000, 2.0000000, 1.0000000, 1.0000000, 2.0000000, 1.0000000, 1.0000000, 1.0000000, 1.0000000, 2.0000000, 2.0000000, 2.0000000, 2.0000000, 2.0000000, 2.0000000, 1.0000000, 2.0000000, 1.0000000, 2.0000000, 2.0000000, 2.0000000, 1.0000000, 2.0000000, 1.0000000, 2.0000000, 2.0000000, 1.0000000, 2.0000000, 1.0000000, 1.0000000, 1.0000000, 1.0000000, 2.0000000, 1.0000000, 2.0000000, 1.0000000, 1.0000000, 1.0000000, 2.0000000, 1.0000000, 2.0000000, 2.0000000, 1.0000000, 1.0000000, 1.0000000, 1.0000000, 1.0000000, 1.0000000, 2.0000000, 2.0000000, 1.0000000, 2.0000000, 2.0000000, 2.0000000, 3.0000000, 2.0000000, 3.0000000, 2.0000000, 2.0000000, 3.0000000, 2.0000000, 1.0000000, 1.0000000, 2.0000000, 2.0000000, 2.0000000, 2.0000000, 2.0000000, 1.0000000, 2.0000000, 2.0000000, 2.0000000, 2.0000000, 1.0000000, 2.0000000, 2.0000000, 2.0000000, 1.0000000, 1.0000000, 2.0000000, 1.0000000, 1.0000000, 2.0000000, 1.0000000, 2.0000000, 1.0000000, 1.0000000, 2.0000000, 2.0000000, 2.0000000, 2.0000000, 2.0000000, 1.0000000, 1.0000000, 1.0000000, 2.0000000, 2.0000000, 1.0000000, 1.0000000, 1.0000000, 1.0000000, 1.0000000, 1.0000000, 1.0000000, 2.0000000, 2.0000000, 2.0000000, 2.0000000, 1.0000000, 2.0000000, 2.0000000, 1.0000000, 2.0000000, 2.0000000, 2.0000000, 1.0000000, 1.0000000, 3.0000000, 1.0000000, 2.0000000, 2.0000000, 2.0000000, 2.0000000, 1.0000000, 1.0000000, 1.0000000, 2.0000000, 1.0000000, 1.0000000, 1.0000000, 1.0000000, 1.0000000, 2.0000000, 1.0000000, 1.0000000, 1.0000000, 1.0000000, 2.0000000, 2.0000000, 1.0000000, 1.0000000, 2.0000000, 2.0000000, 1.0000000, 2.0000000, 1.0000000, 1.0000000, 2.0000000, 1.0000000, 1.0000000, 4.0000000, 4.0000000, 3.0000000, 4.0000000, 3.0000000, 3.0000000, 3.0000000, 3.0000000, 1.0000000, 1.0000000, 2.0000000, 1.0000000, 4.0000000, 4.0000000, 1.0000000, 1.0000000, 4.0000000, 1.0000000, 1.0000000, 1.0000000, 1.0000000, 1.0000000, 1.0000000, 2.0000000, 2.0000000, 3.0000000, 2.0000000, 1.0000000, 2.0000000, 4.0000000, 1.0000000, 2.0000000, 2.0000000, 3.0000000, 2.0000000, 1.0000000, 2.0000000, 1.0000000, 1.0000000, 2.0000000, 1.0000000, 3.0000000, 3.0000000, 2.0000000, 4.0000000, 2.0000000, 4.0000000, 2.0000000, 2.0000000, 1.0000000, 1.0000000, 4.0000000, 2.0000000, 2.0000000, 1.0000000, 1.0000000, 1.0000000, 3.0000000, 2.0000000, 2.0000000, 2.0000000, 4.0000000, 3.0000000, 1.0000000, 2.0000000, 4.0000000, 2.0000000, 2.0000000, 1.0000000, 2.0000000, 1.0000000, 3.0000000, 1.0000000, 1.0000000, 1.0000000, 1.0000000, 1.0000000, 4.0000000, 4.0000000, 1.0000000, 2.0000000, 2.0000000, 2.0000000, 1.0000000, 2.0000000, 1.0000000, 1.0000000, 1.0000000, 3.0000000, 1.0000000, 1.0000000, 1.0000000, 3.0000000, 1.0000000, 3.0000000, 1.0000000, 3.0000000, 4.0000000, 1.0000000, 2.0000000, 1.0000000, 1.0000000, 1.0000000, 2.0000000, 2.0000000, 1.0000000, 2.0000000, 2.0000000, 2.0000000, 2.0000000, 2.0000000, 1.0000000, 1.0000000, 1.0000000, 1.0000000, 2.0000000, 2.0000000, 1.0000000, 2.0000000, 2.0000000, 1.0000000, 2.0000000, 2.0000000, 2.0000000, 2.0000000, 1.0000000, 2.0000000, 1.0000000, 2.0000000, 2.0000000, 2.0000000, 3.0000000, 2.0000000, 2.0000000, 2.0000000, 1.0000000, 1.0000000, 1.0000000, 1.0000000, 1.0000000, 2.0000000, 2.0000000, 4.0000000, 1.0000000, 2.0000000, 2.0000000, 3.0000000, 2.0000000, 2.0000000, 3.0000000, 3.0000000, 3.0000000, 2.0000000, 2.0000000, 1.0000000, 3.0000000, 1.0000000, 2.0000000, 2.0000000, 3.0000000, 1.0000000, 1.0000000, 1.0000000, 1.0000000, 3.0000000, 3.0000000, 1.0000000, 4.0000000, 1.0000000, 1.0000000, 2.0000000, 1.0000000, 1.0000000, 1.0000000, 1.0000000, 1.0000000, 1.0000000, 1.0000000, 1.0000000, 1.0000000, 1.0000000, 1.0000000, 2.0000000, 1.0000000, 4.0000000, 1.0000000, 4.0000000, 1.0000000, 2.0000000, 1.0000000, 1.0000000, 2.0000000, 1.0000000, 3.0000000, 2.0000000, 2.0000000, 2.0000000, 2.0000000, 2.0000000, 1.0000000, 1.0000000, 3.0000000, 4.0000000, 2.0000000, 2.0000000, 4.0000000, 4.0000000, 4.0000000, 4.0000000, 4.0000000, 4.0000000, 4.0000000, 4.0000000, 4.0000000, 3.0000000, 4.0000000, 4.0000000, 1.0000000, 1.0000000, 3.0000000, 4.0000000, 4.0000000, 3.0000000, 3.0000000, 2.0000000, 4.0000000, 4.0000000, 4.0000000, 4.0000000, 2.0000000, 2.0000000 }, { 1.0000000, 0.0000000, 0.0000000, 0.0000000, 0.0000000, 0.0000000, 2.0000000, 0.0000000, 0.0000000, 1.0000000, 3.0000000, 0.0000000, 0.0000000, 0.0000000, 0.0000000, 0.0000000, 1.0000000, 0.0000000, 0.0000000, 1.0000000, 1.0000000, 0.0000000, 0.0000000, 0.0000000, 0.0000000, 0.0000000, 0.0000000, 0.0000000, 0.0000000, 0.0000000, 0.0000000, 2.0000000, 0.0000000, 0.0000000, 0.0000000, 2.0000000, 0.0000000, 0.0000000, 2.0000000, 0.0000000, 0.0000000, 0.0000000, 1.0000000, 2.0000000, 0.0000000, 0.0000000, 0.0000000, 0.0000000, 0.0000000, 0.0000000, 0.0000000, 0.0000000, 2.0000000, 1.0000000, 0.0000000, 0.0000000, 0.0000000, 3.0000000, 0.0000000, 0.0000000, 0.0000000, 0.0000000, 2.0000000, 0.0000000, 0.0000000, 0.0000000, 0.0000000, 1.0000000, 0.0000000, 0.0000000, 2.0000000, 0.0000000, 0.0000000, 0.0000000, 0.0000000, 0.0000000, 0.0000000, 0.0000000, 2.0000000, 1.0000000, 0.0000000, 1.0000000, 0.0000000, 2.0000000, 0.0000000, 1.0000000, 2.0000000, 0.0000000, 1.0000000, 0.0000000, 0.0000000, 1.0000000, 2.0000000, 2.0000000, 1.0000000, 0.0000000, 2.0000000, 3.0000000, 0.0000000, 0.0000000, 0.0000000, 0.0000000, 2.0000000, 2.0000000, 2.0000000, 0.0000000, 0.0000000, 0.0000000, 0.0000000, 0.0000000, 0.0000000, 0.0000000, 0.0000000, 0.0000000, 0.0000000, 0.0000000, 2.0000000, 1.0000000, 1.0000000, 1.0000000, 1.0000000, 1.0000000, 0.0000000, 1.0000000, 1.0000000, 0.0000000, 1.0000000, 2.0000000, 1.0000000, 2.0000000, 0.0000000, 0.0000000, 0.0000000, 2.0000000, 2.0000000, 1.0000000, 0.0000000, 0.0000000, 1.0000000, 0.0000000, 0.0000000, 1.0000000, 2.0000000, 0.0000000, 0.0000000, 1.0000000, 0.0000000, 1.0000000, 0.0000000, 0.0000000, 1.0000000, 0.0000000, 1.0000000, 1.0000000, 0.0000000, 0.0000000, 0.0000000, 0.0000000, 0.0000000, 0.0000000, 1.0000000, 2.0000000, 0.0000000, 0.0000000, 0.0000000, 2.0000000, 0.0000000, 0.0000000, 1.0000000, 0.0000000, 0.0000000, 0.0000000, 0.0000000, 1.0000000, 0.0000000, 2.0000000, 0.0000000, 2.0000000, 2.0000000, 0.0000000, 1.0000000, 0.0000000, 0.0000000, 0.0000000, 0.0000000, 1.0000000, 0.0000000, 1.0000000, 0.0000000, 0.0000000, 2.0000000, 0.0000000, 1.0000000, 1.0000000, 0.0000000, 0.0000000, 0.0000000, 1.0000000, 0.0000000, 0.0000000, 1.0000000, 1.0000000, 0.0000000, 0.0000000, 1.0000000, 0.0000000, 0.0000000, 0.0000000, 0.0000000, 2.0000000, 1.0000000, 0.0000000, 0.0000000, 0.0000000, 2.0000000, 0.0000000, 2.0000000, 0.0000000, 0.0000000, 0.0000000, 0.0000000, 2.0000000, 1.0000000, 1.0000000, 1.0000000, 1.0000000, 2.0000000, 2.0000000, 1.0000000, 2.0000000, 1.0000000, 1.0000000, 0.0000000, 0.0000000, 0.0000000, 1.0000000, 3.0000000, 1.0000000, 2.0000000, 0.0000000, 0.0000000, 0.0000000, 0.0000000, 0.0000000, 0.0000000, 0.0000000, 1.0000000, 0.0000000, 0.0000000, 0.0000000, 2.0000000, 0.0000000, 1.0000000, 1.0000000, 0.0000000, 1.0000000, 2.0000000, 2.0000000, 0.0000000, 0.0000000, 0.0000000, 0.0000000, 0.0000000, 0.0000000, 1.0000000, 0.0000000, 0.0000000, 0.0000000, 0.0000000, 0.0000000, 0.0000000, 0.0000000, 2.0000000, 0.0000000, 0.0000000, 1.0000000, 2.0000000, 1.0000000, 0.0000000, 0.0000000, 2.0000000, 2.0000000, 2.0000000, 0.0000000, 2.0000000, 0.0000000, 0.0000000, 0.0000000, 1.0000000, 0.0000000, 0.0000000, 1.0000000, 1.0000000, 0.0000000, 1.0000000, 2.0000000, 1.0000000, 1.0000000, 0.0000000, 0.0000000, 0.0000000, 2.0000000, 1.0000000, 2.0000000, 2.0000000, 1.0000000, 1.0000000, 0.0000000, 0.0000000, 2.0000000, 3.0000000, 0.0000000, 0.0000000, 0.0000000, 0.0000000, 0.0000000, 0.0000000, 0.0000000, 0.0000000, 0.0000000, 1.0000000, 0.0000000, 0.0000000, 1.0000000, 2.0000000, 1.0000000, 1.0000000, 2.0000000, 2.0000000, 1.0000000, 2.0000000, 3.0000000, 1.0000000, 0.0000000, 3.0000000, 1.0000000, 0.0000000, 2.0000000, 2.0000000, 0.0000000, 0.0000000, 0.0000000, 1.0000000, 1.0000000, 0.0000000, 0.0000000, 2.0000000, 1.0000000, 0.0000000, 2.0000000, 0.0000000, 0.0000000, 2.0000000, 2.0000000, 0.0000000, 1.0000000, 0.0000000, 0.0000000, 2.0000000, 3.0000000, 1.0000000, 2.0000000, 2.0000000, 0.0000000, 2.0000000, 1.0000000, 2.0000000, 2.0000000, 0.0000000, 2.0000000, 2.0000000, 0.0000000, 2.0000000, 2.0000000, 1.0000000, 1.0000000, 1.0000000, 2.0000000, 2.0000000, 0.0000000, 1.0000000, 0.0000000, 2.0000000, 2.0000000, 0.0000000, 0.0000000, 2.0000000, 2.0000000, 2.0000000, 2.0000000, 2.0000000, 1.0000000, 0.0000000, 1.0000000, 0.0000000, 1.0000000, 1.0000000, 1.0000000, 2.0000000, 0.0000000, 2.0000000, 2.0000000, 0.0000000, 0.0000000, 0.0000000, 0.0000000, 2.0000000, 0.0000000, 0.0000000, 0.0000000, 1.0000000, 0.0000000, 0.0000000, 0.0000000, 0.0000000, 1.0000000, 1.0000000, 2.0000000, 3.0000000, 1.0000000, 2.0000000, 0.0000000, 2.0000000, 0.0000000, 1.0000000, 0.0000000, 1.0000000, 1.0000000, 0.0000000, 0.0000000, 0.0000000, 0.0000000, 2.0000000, 0.0000000, 2.0000000, 0.0000000, 0.0000000, 0.0000000, 2.0000000, 2.0000000, 2.0000000, 0.0000000, 0.0000000, 2.0000000, 0.0000000, 1.0000000, 1.0000000, 1.0000000, 2.0000000, 0.0000000, 0.0000000, 0.0000000, 0.0000000, 1.0000000, 0.0000000, 1.0000000, 0.0000000, 0.0000000, 0.0000000, 0.0000000, 0.0000000, 0.0000000, 0.0000000, 0.0000000, 0.0000000, 0.0000000, 0.0000000, 0.0000000, 0.0000000, 0.0000000, 1.0000000, 0.0000000, 3.0000000, 0.0000000, 0.0000000, 1.0000000, 1.0000000, 2.0000000, 0.0000000, 1.0000000, 0.0000000, 2.0000000, 0.0000000, 0.0000000, 2.0000000, 1.0000000, 0.0000000, 1.0000000, 1.0000000, 0.0000000, 0.0000000, 0.0000000, 0.0000000, 1.0000000, 0.0000000, 0.0000000, 0.0000000, 1.0000000, 0.0000000, 3.0000000, 3.0000000, 2.0000000, 0.0000000, 0.0000000, 0.0000000, 0.0000000, 2.0000000, 2.0000000, 2.0000000, 1.0000000, 2.0000000, 0.0000000, 0.0000000, 0.0000000, 1.0000000, 0.0000000, 0.0000000, 0.0000000, 1.0000000, 1.0000000, 1.0000000, 1.0000000, 1.0000000, 2.0000000, 1.0000000, 2.0000000, 2.0000000, 1.0000000, 1.0000000, 0.0000000, 2.0000000, 2.0000000, 2.0000000, 0.0000000, 0.0000000, 0.0000000, 0.0000000, 0.0000000, 0.0000000, 0.0000000, 1.0000000, 0.0000000, 0.0000000, 1.0000000, 1.0000000, 1.0000000 } }"
      ]
     },
     "execution_count": 32,
     "metadata": {},
     "output_type": "execute_result"
    }
   ],
   "source": [
    "csv_3.data"
   ]
  },
  {
   "cell_type": "code",
   "execution_count": null,
   "metadata": {},
   "outputs": [],
   "source": [
    "MultipleLinearRegression M;\n",
    "M.fit(csv_3.data[2], csv_3.data[1],  csv_3.data[0], 1, true);\n",
    "vector<double> y = M.predict(csv_3.data[2], csv_3.data[1]);"
   ]
  },
  {
   "cell_type": "code",
   "execution_count": 2,
   "metadata": {},
   "outputs": [
    {
     "name": "stdout",
     "output_type": "stream",
     "text": [
      "-I/srv/conda/envs/notebook/include/python3.7m -I/srv/conda/envs/notebook/include/python3.7m\n"
     ]
    }
   ],
   "source": [
    "!python3-config --includes"
   ]
  },
  {
   "cell_type": "code",
   "execution_count": 3,
   "metadata": {},
   "outputs": [
    {
     "name": "stdout",
     "output_type": "stream",
     "text": [
      "-lpython3.7m -lcrypt -lpthread -ldl  -lutil -lrt -lm \n"
     ]
    }
   ],
   "source": [
    "!python3-config --libs"
   ]
  },
  {
   "cell_type": "code",
   "execution_count": 4,
   "metadata": {},
   "outputs": [],
   "source": [
    "#pragma cling add_include_path(\"/srv/conda/envs/notebook/include/python3.7m\")\n",
    "#pragma cling add_library_path(\"/srv/conda/envs/notebook/lib\")\n",
    "#pragma cling load(\"python3.7m\")"
   ]
  },
  {
   "cell_type": "code",
   "execution_count": 5,
   "metadata": {},
   "outputs": [],
   "source": [
    "#define WITHOUT_NUMPY 1\n",
    "#include \"Coursework1/PlottingFunctions.h\"\n"
   ]
  },
  {
   "cell_type": "code",
   "execution_count": 6,
   "metadata": {},
   "outputs": [
    {
     "name": "stdout",
     "output_type": "stream",
     "text": [
      "Matrix Rearranged\n",
      "                col 0      col 1      col 2      col 3\n",
      "\n",
      "      Row 0:        285      2025     15333   13874.5\n",
      "\n",
      "      Row 1:         45       285      2025   1741.22\n",
      "\n",
      "      Row 2:         10        45       285   224.363\n",
      "\n",
      "\n",
      "\n",
      "Matrix Scaled\n",
      "                col 0      col 1      col 2      col 3\n",
      "\n",
      "      Row 0:  0.0185874  0.132068         1  0.904878\n",
      "\n",
      "      Row 1:  0.0222222  0.140741         1  0.859861\n",
      "\n",
      "      Row 2:  0.0350877  0.157895         1  0.787238\n",
      "\n",
      "\n",
      "\n",
      "Matrix in Row Echelon Form\n",
      "                col 0      col 1      col 2      col 3\n",
      "\n",
      "      Row 0:          1   7.10526      53.8   48.6824\n",
      "\n",
      "      Row 1:          0         1      11.4   12.9399\n",
      "\n",
      "      Row 2:          0         0         1   1.69675\n",
      "\n",
      "\n",
      "\n",
      "The Solution is: \n",
      "(2.89269, -6.40308, 1.69675)\n"
     ]
    }
   ],
   "source": [
    "PlynomialRegression P_2(2);\n",
    "CSVReader csv_2 = CSVReader(\"./datasets/part_2/a/2_a_dataset_2.csv\");\n",
    "P_2.fit(csv_2.data[0], csv_2.data[1], 1, true);\n",
    "vector<double> y = P_2.predict(0, 10, 0.1);\n",
    "\n",
    "vector<double> x;\n",
    "for(double i=0; i<=10; i += 0.1) {\n",
    "    x.push_back(i);\n",
    "}\n",
    "\n",
    "PlotLineScatter Plot(x, y, csv_2.data[0], csv_2.data[1], \"basic.png\");\n",
    "Plot.gen_plot()"
   ]
  },
  {
   "cell_type": "code",
   "execution_count": null,
   "metadata": {},
   "outputs": [],
   "source": [
    "// Now in a MARKDOWN cell paste this to display the plot:\n",
    "// ![title](basic.png)"
   ]
  },
  {
   "cell_type": "markdown",
   "metadata": {},
   "source": [
    "![title](basic.png)"
   ]
  },
  {
   "cell_type": "code",
   "execution_count": null,
   "metadata": {},
   "outputs": [],
   "source": []
  }
 ],
 "metadata": {
  "kernelspec": {
   "display_name": "C++11",
   "language": "C++11",
   "name": "xcpp11"
  },
  "language_info": {
   "codemirror_mode": "text/x-c++src",
   "file_extension": ".cpp",
   "mimetype": "text/x-c++src",
   "name": "c++",
   "version": "11"
  }
 },
 "nbformat": 4,
 "nbformat_minor": 4
}
