{
 "cells": [
  {
   "cell_type": "markdown",
   "metadata": {},
   "source": [
    "Names and Ids Here"
   ]
  },
  {
   "cell_type": "code",
   "execution_count": 1,
   "metadata": {},
   "outputs": [],
   "source": [
    "#include \"Coursework1/Coursework1lib.h\"\n",
    "using namespace std;"
   ]
  },
  {
   "cell_type": "markdown",
   "metadata": {},
   "source": [
    "# Explanation of the Matrix class and its helper methods"
   ]
  },
  {
   "cell_type": "code",
   "execution_count": null,
   "metadata": {},
   "outputs": [],
   "source": []
  },
  {
   "cell_type": "markdown",
   "metadata": {},
   "source": [
    "# Explanation of the SolveGaussElimination Class, its helper methods and limitatins"
   ]
  },
  {
   "cell_type": "code",
   "execution_count": null,
   "metadata": {},
   "outputs": [],
   "source": []
  },
  {
   "cell_type": "markdown",
   "metadata": {},
   "source": [
    "# Explanation of the SolveSeidle Class, its helper methods and limitatins"
   ]
  },
  {
   "cell_type": "code",
   "execution_count": null,
   "metadata": {},
   "outputs": [],
   "source": []
  },
  {
   "cell_type": "markdown",
   "metadata": {},
   "source": [
    "# Demonstrating the two solvers with a few examples"
   ]
  },
  {
   "cell_type": "markdown",
   "metadata": {},
   "source": [
    "## Example 1"
   ]
  },
  {
   "cell_type": "code",
   "execution_count": 2,
   "metadata": {},
   "outputs": [],
   "source": [
    "vector<vector<double>> v ={{2, 1, -1}, {1, 4, 3}, {-1 ,2 ,7}};\n",
    "Matrix A = Matrix(v);\n",
    "vector<double> b = {0, 14, 30};"
   ]
  },
  {
   "cell_type": "markdown",
   "metadata": {},
   "source": [
    "### Solution using Gauss Elimination Method:"
   ]
  },
  {
   "cell_type": "code",
   "execution_count": 3,
   "metadata": {},
   "outputs": [
    {
     "name": "stdout",
     "output_type": "stream",
     "text": [
      "Matrix Rearranged\n",
      "                col 0      col 1      col 2      col 3\n",
      "\n",
      "      Row 0:          2         1        -1         0\n",
      "\n",
      "      Row 1:          1         4         3        14\n",
      "\n",
      "      Row 2:         -1         2         7        30\n",
      "\n",
      "\n",
      "\n",
      "Matrix Scaled\n",
      "                col 0      col 1      col 2      col 3\n",
      "\n",
      "      Row 0:          1       0.5      -0.5         0\n",
      "\n",
      "      Row 1:       0.25         1      0.75       3.5\n",
      "\n",
      "      Row 2:  -0.142857  0.285714         1   4.28571\n",
      "\n",
      "\n",
      "\n",
      "Matrix in Row Echelon Form\n",
      "                col 0      col 1      col 2      col 3\n",
      "\n",
      "      Row 0:          1       0.5      -0.5         0\n",
      "\n",
      "      Row 1:          0         1         1         4\n",
      "\n",
      "      Row 2:          0         0         1         5\n",
      "\n",
      "\n",
      "\n",
      "The Solution is: \n",
      "(3, -1, 5)\n"
     ]
    }
   ],
   "source": [
    "SolveGaussElimination x = SolveGaussElimination(A, b, true);"
   ]
  },
  {
   "cell_type": "markdown",
   "metadata": {},
   "source": [
    "### Solution using Gauss-Seidle Method:"
   ]
  },
  {
   "cell_type": "code",
   "execution_count": 4,
   "metadata": {},
   "outputs": [
    {
     "name": "stdout",
     "output_type": "stream",
     "text": [
      "iteration 1: \n",
      "(0, 3.5, 3.28571)\n",
      "\n",
      "\n",
      "iteration 2: \n",
      "(-0.107143, 1.0625, 3.96684)\n",
      "\n",
      "\n",
      "iteration 3: \n",
      "(1.45217, 0.16183, 4.44693)\n",
      "\n",
      "\n",
      "iteration 4: \n",
      "(2.14255, -0.370834, 4.69775)\n",
      "\n",
      "\n",
      "iteration 5: \n",
      "(2.53429, -0.656882, 4.83544)\n",
      "\n",
      "\n",
      "iteration 6: \n",
      "(2.74616, -0.813117, 4.91034)\n",
      "\n",
      "\n",
      "iteration 7: \n",
      "(2.86173, -0.898188, 4.95116)\n",
      "\n",
      "\n",
      "iteration 8: \n",
      "(2.92467, -0.944536, 4.97339)\n",
      "\n",
      "\n",
      "iteration 9: \n",
      "(2.95896, -0.969785, 4.9855)\n",
      "\n",
      "\n",
      "iteration 10: \n",
      "(2.97764, -0.98354, 4.9921)\n",
      "\n",
      "\n",
      "iteration 11: \n",
      "(2.98782, -0.991033, 4.9957)\n",
      "\n",
      "\n",
      "iteration 12: \n",
      "(2.99337, -0.995115, 4.99766)\n",
      "\n",
      "\n",
      "iteration 13: \n",
      "(2.99639, -0.997339, 4.99872)\n",
      "\n",
      "\n",
      "iteration 14: \n",
      "(2.99803, -0.99855, 4.9993)\n",
      "\n",
      "\n",
      "iteration 15: \n",
      "(2.99893, -0.999211, 4.99962)\n",
      "\n",
      "\n",
      "iteration 16: \n",
      "(2.99942, -0.99957, 4.99979)\n",
      "\n",
      "\n",
      "iteration 17: \n",
      "(2.99968, -0.999765, 4.99989)\n",
      "\n",
      "\n",
      "iteration 18: \n",
      "(2.99983, -0.999872, 4.99994)\n",
      "\n",
      "\n",
      "iteration 19: \n",
      "(2.99991, -0.99993, 4.99997)\n",
      "\n",
      "\n",
      "iteration 20: \n",
      "(2.99995, -0.999962, 4.99998)\n",
      "\n",
      "\n",
      "iteration 21: \n",
      "(2.99997, -0.999979, 4.99999)\n",
      "\n",
      "\n",
      "iteration 22: \n",
      "(2.99998, -0.999989, 4.99999)\n",
      "\n",
      "\n",
      "iteration 23: \n",
      "(2.99999, -0.999994, 5)\n",
      "\n",
      "\n",
      "iteration 24: \n",
      "(3, -0.999996, 5)\n",
      "\n",
      "\n",
      "iteration 25: \n",
      "(3, -0.999998, 5)\n",
      "\n",
      "\n",
      "iteration 26: \n",
      "(3, -0.999999, 5)\n",
      "\n",
      "\n",
      "iteration 27: \n",
      "(3, -0.999999, 5)\n",
      "\n",
      "\n",
      "iteration 28: \n",
      "(3, -1, 5)\n",
      "\n",
      "\n",
      "iteration 29: \n",
      "(3, -1, 5)\n",
      "\n",
      "\n",
      "iteration 30: \n",
      "(3, -1, 5)\n",
      "\n",
      "\n"
     ]
    }
   ],
   "source": [
    "SolveSeidle y = SolveSeidle(A, b, 30, true);"
   ]
  },
  {
   "cell_type": "markdown",
   "metadata": {},
   "source": [
    "## Example 2"
   ]
  },
  {
   "cell_type": "code",
   "execution_count": 5,
   "metadata": {},
   "outputs": [],
   "source": [
    "vector<vector<double>> v ={{2, -1, 0}, {1, -3, 1}, {-1, 1 ,-3}};\n",
    "Matrix A = Matrix(v);\n",
    "vector<double> b = {2, -2, 6};"
   ]
  },
  {
   "cell_type": "markdown",
   "metadata": {},
   "source": [
    "### Solution using Gauss Elimination Method:"
   ]
  },
  {
   "cell_type": "code",
   "execution_count": 6,
   "metadata": {},
   "outputs": [
    {
     "name": "stdout",
     "output_type": "stream",
     "text": [
      "Matrix Rearranged\n",
      "                col 0      col 1      col 2      col 3\n",
      "\n",
      "      Row 0:          2        -1         0         2\n",
      "\n",
      "      Row 1:          1        -3         1        -2\n",
      "\n",
      "      Row 2:         -1         1        -3         6\n",
      "\n",
      "\n",
      "\n",
      "Matrix Scaled\n",
      "                col 0      col 1      col 2      col 3\n",
      "\n",
      "      Row 0:          1      -0.5         0         1\n",
      "\n",
      "      Row 1:   0.333333        -1  0.333333 -0.666667\n",
      "\n",
      "      Row 2:  -0.333333  0.333333        -1         2\n",
      "\n",
      "\n",
      "\n",
      "Matrix in Row Echelon Form\n",
      "                col 0      col 1      col 2      col 3\n",
      "\n",
      "      Row 0:          1      -0.5         0         1\n",
      "\n",
      "      Row 1:          0         1      -0.4       1.2\n",
      "\n",
      "      Row 2:          0         0         1  -2.28571\n",
      "\n",
      "\n",
      "\n",
      "The Solution is: \n",
      "(1.14286, 0.285714, -2.28571)\n"
     ]
    }
   ],
   "source": [
    "SolveGaussElimination x = SolveGaussElimination(A, b, true);"
   ]
  },
  {
   "cell_type": "markdown",
   "metadata": {},
   "source": [
    "### Solution using Gauss-Seidle Method:"
   ]
  },
  {
   "cell_type": "code",
   "execution_count": 7,
   "metadata": {},
   "outputs": [
    {
     "name": "stdout",
     "output_type": "stream",
     "text": [
      "iteration 1: \n",
      "(1, 1, -2)\n",
      "\n",
      "\n",
      "iteration 2: \n",
      "(1.5, 0.5, -2.33333)\n",
      "\n",
      "\n",
      "iteration 3: \n",
      "(1.25, 0.305556, -2.31481)\n",
      "\n",
      "\n",
      "iteration 4: \n",
      "(1.15278, 0.279321, -2.29115)\n",
      "\n",
      "\n",
      "iteration 5: \n",
      "(1.13966, 0.282836, -2.28561)\n",
      "\n",
      "\n",
      "iteration 6: \n",
      "(1.14142, 0.28527, -2.28538)\n",
      "\n",
      "\n",
      "iteration 7: \n",
      "(1.14263, 0.285751, -2.28563)\n",
      "\n",
      "\n",
      "iteration 8: \n",
      "(1.14288, 0.285749, -2.28571)\n",
      "\n",
      "\n",
      "iteration 9: \n",
      "(1.14287, 0.285722, -2.28572)\n",
      "\n",
      "\n",
      "iteration 10: \n",
      "(1.14286, 0.285714, -2.28572)\n",
      "\n",
      "\n",
      "iteration 11: \n",
      "(1.14286, 0.285714, -2.28571)\n",
      "\n",
      "\n",
      "iteration 12: \n",
      "(1.14286, 0.285714, -2.28571)\n",
      "\n",
      "\n",
      "iteration 13: \n",
      "(1.14286, 0.285714, -2.28571)\n",
      "\n",
      "\n",
      "iteration 14: \n",
      "(1.14286, 0.285714, -2.28571)\n",
      "\n",
      "\n",
      "iteration 15: \n",
      "(1.14286, 0.285714, -2.28571)\n",
      "\n",
      "\n",
      "iteration 16: \n",
      "(1.14286, 0.285714, -2.28571)\n",
      "\n",
      "\n",
      "iteration 17: \n",
      "(1.14286, 0.285714, -2.28571)\n",
      "\n",
      "\n",
      "iteration 18: \n",
      "(1.14286, 0.285714, -2.28571)\n",
      "\n",
      "\n",
      "iteration 19: \n",
      "(1.14286, 0.285714, -2.28571)\n",
      "\n",
      "\n",
      "iteration 20: \n",
      "(1.14286, 0.285714, -2.28571)\n",
      "\n",
      "\n",
      "iteration 21: \n",
      "(1.14286, 0.285714, -2.28571)\n",
      "\n",
      "\n",
      "iteration 22: \n",
      "(1.14286, 0.285714, -2.28571)\n",
      "\n",
      "\n",
      "iteration 23: \n",
      "(1.14286, 0.285714, -2.28571)\n",
      "\n",
      "\n",
      "iteration 24: \n",
      "(1.14286, 0.285714, -2.28571)\n",
      "\n",
      "\n",
      "iteration 25: \n",
      "(1.14286, 0.285714, -2.28571)\n",
      "\n",
      "\n",
      "iteration 26: \n",
      "(1.14286, 0.285714, -2.28571)\n",
      "\n",
      "\n",
      "iteration 27: \n",
      "(1.14286, 0.285714, -2.28571)\n",
      "\n",
      "\n",
      "iteration 28: \n",
      "(1.14286, 0.285714, -2.28571)\n",
      "\n",
      "\n",
      "iteration 29: \n",
      "(1.14286, 0.285714, -2.28571)\n",
      "\n",
      "\n",
      "iteration 30: \n",
      "(1.14286, 0.285714, -2.28571)\n",
      "\n",
      "\n"
     ]
    }
   ],
   "source": [
    "SolveSeidle y = SolveSeidle(A, b, 30, true);"
   ]
  },
  {
   "cell_type": "markdown",
   "metadata": {},
   "source": [
    "## Example 3"
   ]
  },
  {
   "cell_type": "code",
   "execution_count": 8,
   "metadata": {},
   "outputs": [],
   "source": [
    "vector<vector<double>> v ={{5, 6, 7}, {6, 3, 9}, {7, 9, 10}};\n",
    "Matrix A = Matrix(v);\n",
    "vector<double> b = {18, 18, 26};"
   ]
  },
  {
   "cell_type": "markdown",
   "metadata": {},
   "source": [
    "### Solution using Gauss Elimination Method:"
   ]
  },
  {
   "cell_type": "code",
   "execution_count": 9,
   "metadata": {},
   "outputs": [
    {
     "name": "stdout",
     "output_type": "stream",
     "text": [
      "Matrix Rearranged\n",
      "                col 0      col 1      col 2      col 3\n",
      "\n",
      "      Row 0:          7         9        10        26\n",
      "\n",
      "      Row 1:          5         6         7        18\n",
      "\n",
      "      Row 2:          6         3         9        18\n",
      "\n",
      "\n",
      "\n",
      "Matrix Scaled\n",
      "                col 0      col 1      col 2      col 3\n",
      "\n",
      "      Row 0:        0.7       0.9         1       2.6\n",
      "\n",
      "      Row 1:   0.714286  0.857143         1   2.57143\n",
      "\n",
      "      Row 2:   0.666667  0.333333         1         2\n",
      "\n",
      "\n",
      "\n",
      "Matrix in Row Echelon Form\n",
      "                col 0      col 1      col 2      col 3\n",
      "\n",
      "      Row 0:          1   1.28571   1.42857   3.71429\n",
      "\n",
      "      Row 1: -9.73543e-07         1  0.333333   1.33333\n",
      "\n",
      "      Row 2: -2.29478e-06         0         1         1\n",
      "\n",
      "\n",
      "\n",
      "The Solution is: \n",
      "(1, 1, 1)\n"
     ]
    }
   ],
   "source": [
    "SolveGaussElimination x = SolveGaussElimination(A, b, true);"
   ]
  },
  {
   "cell_type": "markdown",
   "metadata": {},
   "source": [
    "### Solution using Gauss-Seidle Method:"
   ]
  },
  {
   "cell_type": "code",
   "execution_count": 10,
   "metadata": {},
   "outputs": [
    {
     "name": "stdout",
     "output_type": "stream",
     "text": [
      "This matrix is not in diagonally dominant form. Convergence is not guaranteed!\n",
      "iteration 1: \n",
      "(2.57143, 0.857143, 0.888889)\n",
      "\n",
      "\n",
      "iteration 6: \n",
      "(-16.2997, 6.70171, 11.5214)\n",
      "\n",
      "\n",
      "iteration 11: \n",
      "(-58.6386, 17.0658, 36.2927)\n",
      "\n",
      "\n",
      "iteration 16: \n",
      "(-141.786, 36.1943, 85.3481)\n",
      "\n",
      "\n",
      "iteration 21: \n",
      "(-299.796, 71.9214, 178.779)\n",
      "\n",
      "\n",
      "iteration 26: \n",
      "(-597.384, 138.88, 354.851)\n",
      "\n",
      "\n"
     ]
    }
   ],
   "source": [
    "SolveSeidle y = SolveSeidle(A, b, 30, false);"
   ]
  },
  {
   "cell_type": "markdown",
   "metadata": {},
   "source": [
    "## Example 4"
   ]
  },
  {
   "cell_type": "code",
   "execution_count": 11,
   "metadata": {},
   "outputs": [],
   "source": [
    "vector<vector<double>> v = {{10, 2, -1, 2}, {1, 5, 1, 0}, {1, -2, -5, 1}, {3, 0, 0, 9}};\n",
    "Matrix A = Matrix(v);\n",
    "vector<double> b = {-4, 1, 2, 10};"
   ]
  },
  {
   "cell_type": "markdown",
   "metadata": {},
   "source": [
    "### Solution using Gauss Elimination Method:"
   ]
  },
  {
   "cell_type": "code",
   "execution_count": 12,
   "metadata": {},
   "outputs": [
    {
     "name": "stdout",
     "output_type": "stream",
     "text": [
      "Matrix Rearranged\n",
      "                col 0      col 1      col 2      col 3      col 4\n",
      "\n",
      "      Row 0:         10         2        -1         2        -4\n",
      "\n",
      "      Row 1:          1         5         1         0         1\n",
      "\n",
      "      Row 2:          1        -2        -5         1         2\n",
      "\n",
      "      Row 3:          3         0         0         9        10\n",
      "\n",
      "\n",
      "\n",
      "Matrix Scaled\n",
      "                col 0      col 1      col 2      col 3      col 4\n",
      "\n",
      "      Row 0:          1       0.2      -0.1       0.2      -0.4\n",
      "\n",
      "      Row 1:        0.2         1       0.2         0       0.2\n",
      "\n",
      "      Row 2:        0.2      -0.4        -1       0.2       0.4\n",
      "\n",
      "      Row 3:   0.333333         0         0         1   1.11111\n",
      "\n",
      "\n",
      "\n",
      "Matrix in Row Echelon Form\n",
      "                col 0      col 1      col 2      col 3      col 4\n",
      "\n",
      "      Row 0:          1       0.2      -0.1       0.2      -0.4\n",
      "\n",
      "      Row 1:          0         1  0.229167-0.0416667  0.291667\n",
      "\n",
      "      Row 2:          0         0         1 -0.161137 -0.691943\n",
      "\n",
      "      Row 3:          0         0         0         1   1.38272\n",
      "\n",
      "\n",
      "\n",
      "The Solution is: \n",
      "(-0.814815, 0.45679, -0.469136, 1.38272)\n"
     ]
    }
   ],
   "source": [
    "SolveGaussElimination x = SolveGaussElimination(A, b, true);"
   ]
  },
  {
   "cell_type": "markdown",
   "metadata": {},
   "source": [
    "### Solution using Gauss-Seidle Method:"
   ]
  },
  {
   "cell_type": "code",
   "execution_count": 13,
   "metadata": {},
   "outputs": [
    {
     "name": "stdout",
     "output_type": "stream",
     "text": [
      "iteration 1: \n",
      "(-0.4, 0.28, -0.592, 1.24444)\n",
      "\n",
      "\n",
      "iteration 6: \n",
      "(-0.814909, 0.456827, -0.469137, 1.38275)\n",
      "\n",
      "\n",
      "iteration 11: \n",
      "(-0.814815, 0.45679, -0.469136, 1.38272)\n",
      "\n",
      "\n",
      "iteration 16: \n",
      "(-0.814815, 0.45679, -0.469136, 1.38272)\n",
      "\n",
      "\n",
      "iteration 21: \n",
      "(-0.814815, 0.45679, -0.469136, 1.38272)\n",
      "\n",
      "\n",
      "iteration 26: \n",
      "(-0.814815, 0.45679, -0.469136, 1.38272)\n",
      "\n",
      "\n"
     ]
    }
   ],
   "source": [
    "SolveSeidle y = SolveSeidle(A, b, 30, false);"
   ]
  },
  {
   "cell_type": "markdown",
   "metadata": {},
   "source": [
    "## Example 5"
   ]
  },
  {
   "cell_type": "code",
   "execution_count": 14,
   "metadata": {},
   "outputs": [],
   "source": [
    "vector<vector<double>> v ={{-1,1,-1,1}, {1, 1, 1, 1}, {8, 4 ,2 ,1}, {27, 9, 3, 1}};\n",
    "Matrix A = Matrix(v);\n",
    "vector<double> b = {1, 1, -2, 1};"
   ]
  },
  {
   "cell_type": "markdown",
   "metadata": {},
   "source": [
    "### Solution using Gauss Elimination Method:"
   ]
  },
  {
   "cell_type": "code",
   "execution_count": 15,
   "metadata": {},
   "outputs": [
    {
     "name": "stdout",
     "output_type": "stream",
     "text": [
      "Matrix Rearranged\n",
      "                col 0      col 1      col 2      col 3      col 4\n",
      "\n",
      "      Row 0:         27         9         3         1         1\n",
      "\n",
      "      Row 1:          8         4         2         1        -2\n",
      "\n",
      "      Row 2:          1         1         1         1         1\n",
      "\n",
      "      Row 3:         -1         1        -1         1         1\n",
      "\n",
      "\n",
      "\n",
      "Matrix Scaled\n",
      "                col 0      col 1      col 2      col 3      col 4\n",
      "\n",
      "      Row 0:          1  0.333333  0.111111  0.037037  0.037037\n",
      "\n",
      "      Row 1:          1       0.5      0.25     0.125     -0.25\n",
      "\n",
      "      Row 2:          1         1         1         1         1\n",
      "\n",
      "      Row 3:         -1         1        -1         1         1\n",
      "\n",
      "\n",
      "\n",
      "Matrix in Row Echelon Form\n",
      "                col 0      col 1      col 2      col 3      col 4\n",
      "\n",
      "      Row 0:          1  0.333333  0.111111  0.037037  0.037037\n",
      "\n",
      "      Row 1:          0         1  0.833333  0.527778  -1.72222\n",
      "\n",
      "      Row 2:          0         0         1   1.83333   6.33333\n",
      "\n",
      "      Row 3:          0         0         0         1         4\n",
      "\n",
      "\n",
      "\n",
      "The Solution is: \n",
      "(1, -3, -1, 4)\n"
     ]
    }
   ],
   "source": [
    "SolveGaussElimination x = SolveGaussElimination(A, b, true);"
   ]
  },
  {
   "cell_type": "markdown",
   "metadata": {},
   "source": [
    "### Solution using Gauss-Seidle Method:"
   ]
  },
  {
   "cell_type": "code",
   "execution_count": 16,
   "metadata": {},
   "outputs": [
    {
     "name": "stdout",
     "output_type": "stream",
     "text": [
      "This matrix is not in diagonally dominant form. Convergence is not guaranteed!\n",
      "iteration 1: \n",
      "(0.037037, 0.175926, -2.21296, -1.35185)\n",
      "\n",
      "\n",
      "iteration 6: \n",
      "(-0.61628, 2.89132, -0.919571, -3.42717)\n",
      "\n",
      "\n",
      "iteration 11: \n",
      "(-0.752839, 3.00523, -0.747436, -3.5055)\n",
      "\n",
      "\n",
      "iteration 16: \n",
      "(-0.750173, 3.00018, -0.749638, -3.49999)\n",
      "\n",
      "\n",
      "iteration 21: \n",
      "(-0.749997, 2.99999, -0.750013, -3.5)\n",
      "\n",
      "\n",
      "iteration 26: \n",
      "(-0.75, 3, -0.75, -3.5)\n",
      "\n",
      "\n"
     ]
    }
   ],
   "source": [
    "SolveSeidle y = SolveSeidle(A, b, 30, false);"
   ]
  },
  {
   "cell_type": "markdown",
   "metadata": {},
   "source": [
    "# CSVReader class"
   ]
  },
  {
   "cell_type": "code",
   "execution_count": null,
   "metadata": {},
   "outputs": [],
   "source": []
  },
  {
   "cell_type": "code",
   "execution_count": 17,
   "metadata": {},
   "outputs": [],
   "source": [
    "CSVReader csv = CSVReader(\"datasets/part_2/a/2_a_dataset_1.csv\");"
   ]
  },
  {
   "cell_type": "code",
   "execution_count": 18,
   "metadata": {},
   "outputs": [
    {
     "data": {
      "text/plain": [
       "2"
      ]
     },
     "execution_count": 18,
     "metadata": {},
     "output_type": "execute_result"
    }
   ],
   "source": [
    "csv.n_cols"
   ]
  },
  {
   "cell_type": "code",
   "execution_count": 19,
   "metadata": {},
   "outputs": [
    {
     "data": {
      "text/plain": [
       "{ \"x\", \"y\" }"
      ]
     },
     "execution_count": 19,
     "metadata": {},
     "output_type": "execute_result"
    }
   ],
   "source": [
    "csv.col_names"
   ]
  },
  {
   "cell_type": "code",
   "execution_count": 20,
   "metadata": {},
   "outputs": [
    {
     "data": {
      "text/plain": [
       "{ { 0.00000f, 1.00000f, 2.00000f, 3.00000f, 4.00000f, 5.00000f, 6.00000f, 7.00000f, 8.00000f, 9.00000f }, { 2.75399f, 1.89481f, 5.66772f, 8.50871f, 10.9265f, 13.5301f, 11.8353f, 17.6240f, 21.1838f, 23.9396f } }"
      ]
     },
     "execution_count": 20,
     "metadata": {},
     "output_type": "execute_result"
    }
   ],
   "source": [
    "csv.data"
   ]
  },
  {
   "cell_type": "markdown",
   "metadata": {},
   "source": [
    "# PolynomialRegression class"
   ]
  },
  {
   "cell_type": "code",
   "execution_count": 21,
   "metadata": {},
   "outputs": [
    {
     "name": "stdout",
     "output_type": "stream",
     "text": [
      "Matrix Rearranged\n",
      "                col 0      col 1      col 2      col 3\n",
      "\n",
      "      Row 0:        285      2025     15333   5198.74\n",
      "\n",
      "      Row 1:         45       285      2025    729.42\n",
      "\n",
      "      Row 2:         10        45       285   117.865\n",
      "\n",
      "\n",
      "\n",
      "Matrix Scaled\n",
      "                col 0      col 1      col 2      col 3\n",
      "\n",
      "      Row 0:  0.0185874  0.132068         1  0.339056\n",
      "\n",
      "      Row 1:  0.0222222  0.140741         1  0.360207\n",
      "\n",
      "      Row 2:  0.0350877  0.157895         1   0.41356\n",
      "\n",
      "\n",
      "\n",
      "Matrix in Row Echelon Form\n",
      "                col 0      col 1      col 2      col 3\n",
      "\n",
      "      Row 0:          1   7.10526      53.8   18.2412\n",
      "\n",
      "      Row 1:          0         1      11.4   2.63219\n",
      "\n",
      "      Row 2:          0         0         1 0.0915479\n",
      "\n",
      "\n",
      "\n",
      "The Solution is: \n",
      "(2.0289, 1.58854, 0.0915479)\n"
     ]
    }
   ],
   "source": [
    "PlynomialRegression P(2);\n",
    "CSVReader csv = CSVReader(\"./datasets/part_2/a/2_a_dataset_1.csv\");\n",
    "P.fit(csv.data[0], csv.data[1], 1, true);\n",
    "vector<double> y = P.predict(0, 10, 0.1);"
   ]
  },
  {
   "cell_type": "code",
   "execution_count": 22,
   "metadata": {},
   "outputs": [
    {
     "name": "stdout",
     "output_type": "stream",
     "text": [
      "Please Specify the number of iterations\n"
     ]
    },
    {
     "name": "stdin",
     "output_type": "stream",
     "text": [
      " \n",
      " 50\n"
     ]
    },
    {
     "name": "stdout",
     "output_type": "stream",
     "text": [
      "This matrix is not in diagonally dominant form. Convergence is not guaranteed!\n",
      "iteration 1: \n",
      "(0.41356, 2.49407, 17.8329)\n",
      "\n",
      "\n",
      "iteration 2: \n",
      "(-976.717, 30.0704, 47.764)\n",
      "\n",
      "\n",
      "iteration 3: \n",
      "(-2782.95, 102.596, 99.6891)\n",
      "\n",
      "\n",
      "iteration 4: \n",
      "(-6091.83, 256.11, 191.551)\n",
      "\n",
      "\n",
      "iteration 5: \n",
      "(-12124.8, 555.975, 355.886)\n",
      "\n",
      "\n",
      "iteration 6: \n",
      "(-23096.6, 1120.73, 651.692)\n",
      "\n",
      "\n",
      "iteration 7: \n",
      "(-43023.7, 2165.33, 1185.95)\n",
      "\n",
      "\n",
      "iteration 8: \n",
      "(-79188.9, 4079.59, 2152.65)\n",
      "\n",
      "\n",
      "iteration 9: \n",
      "(-144799, 7570.37, 3903.58)\n",
      "\n",
      "\n",
      "iteration 10: \n",
      "(-263802, 13919.5, 7076.63)\n",
      "\n",
      "\n",
      "iteration 11: \n",
      "(-479624, 25451.3, 12828.5)\n",
      "\n",
      "\n",
      "iteration 12: \n",
      "(-871012, 46380.8, 23256.8)\n",
      "\n",
      "\n",
      "iteration 13: \n",
      "(-1.58076e+06, 84351.1, 42165)\n",
      "\n",
      "\n",
      "iteration 14: \n",
      "(-2.86781e+06, 153222, 76450.4)\n",
      "\n",
      "\n",
      "iteration 15: \n",
      "(-5.20171e+06, 278125, 138620)\n",
      "\n",
      "\n",
      "iteration 16: \n",
      "(-9.4339e+06, 504635, 251353)\n",
      "\n",
      "\n",
      "iteration 17: \n",
      "(-1.71084e+07, 915393, 455776)\n",
      "\n",
      "\n",
      "iteration 18: \n",
      "(-3.10249e+07, 1.66026e+06, 826464)\n",
      "\n",
      "\n",
      "iteration 19: \n",
      "(-5.62603e+07, 3.01097e+06, 1.49865e+06)\n",
      "\n",
      "\n",
      "iteration 20: \n",
      "(-1.02021e+08, 5.46029e+06, 2.71755e+06)\n",
      "\n",
      "\n",
      "iteration 21: \n",
      "(-1.85001e+08, 9.90178e+06, 4.92785e+06)\n",
      "\n",
      "\n",
      "iteration 22: \n",
      "(-3.35473e+08, 1.79558e+07, 8.93588e+06)\n",
      "\n",
      "\n",
      "iteration 23: \n",
      "(-6.08331e+08, 3.25604e+07, 1.62038e+07)\n",
      "\n",
      "\n",
      "iteration 24: \n",
      "(-1.10312e+09, 5.90438e+07, 2.93832e+07)\n",
      "\n",
      "\n",
      "iteration 25: \n",
      "(-2.00034e+09, 1.07067e+08, 5.32819e+07)\n",
      "\n",
      "\n",
      "iteration 26: \n",
      "(-3.62731e+09, 1.94151e+08, 9.66185e+07)\n",
      "\n",
      "\n",
      "iteration 27: \n",
      "(-6.57757e+09, 3.52063e+08, 1.75203e+08)\n",
      "\n",
      "\n",
      "iteration 28: \n",
      "(-1.19274e+10, 6.38414e+08, 3.17704e+08)\n",
      "\n",
      "\n",
      "iteration 29: \n",
      "(-2.16286e+10, 1.15767e+09, 5.76108e+08)\n",
      "\n",
      "\n",
      "iteration 30: \n",
      "(-3.92201e+10, 2.09925e+09, 1.04468e+09)\n",
      "\n",
      "\n",
      "iteration 31: \n",
      "(-7.11197e+10, 3.80668e+09, 1.89437e+09)\n",
      "\n",
      "\n",
      "iteration 32: \n",
      "(-1.28965e+11, 6.90283e+09, 3.43516e+09)\n",
      "\n",
      "\n",
      "iteration 33: \n",
      "(-2.33858e+11, 1.25172e+10, 6.22914e+09)\n",
      "\n",
      "\n",
      "iteration 34: \n",
      "(-4.24066e+11, 2.26981e+10, 1.12956e+10)\n",
      "\n",
      "\n",
      "iteration 35: \n",
      "(-7.68979e+11, 4.11596e+10, 2.04828e+10)\n",
      "\n",
      "\n",
      "iteration 36: \n",
      "(-1.39443e+12, 7.46366e+10, 3.71425e+10)\n",
      "\n",
      "\n",
      "iteration 37: \n",
      "(-2.52858e+12, 1.35342e+11, 6.73523e+10)\n",
      "\n",
      "\n",
      "iteration 38: \n",
      "(-4.58519e+12, 2.45422e+11, 1.22133e+11)\n",
      "\n",
      "\n",
      "iteration 39: \n",
      "(-8.31455e+12, 4.45036e+11, 2.2147e+11)\n",
      "\n",
      "\n",
      "iteration 40: \n",
      "(-1.50772e+13, 8.07005e+11, 4.01602e+11)\n",
      "\n",
      "\n",
      "iteration 41: \n",
      "(-2.73402e+13, 1.46338e+12, 7.28244e+11)\n",
      "\n",
      "\n",
      "iteration 42: \n",
      "(-4.95772e+13, 2.65362e+12, 1.32056e+12)\n",
      "\n",
      "\n",
      "iteration 43: \n",
      "(-8.99008e+13, 4.81193e+12, 2.39463e+12)\n",
      "\n",
      "\n",
      "iteration 44: \n",
      "(-1.63021e+14, 8.72571e+12, 4.3423e+12)\n",
      "\n",
      "\n",
      "iteration 45: \n",
      "(-2.95614e+14, 1.58227e+13, 7.87411e+12)\n",
      "\n",
      "\n",
      "iteration 46: \n",
      "(-5.36052e+14, 2.86921e+13, 1.42785e+13)\n",
      "\n",
      "\n",
      "iteration 47: \n",
      "(-9.72048e+14, 5.20288e+13, 2.58919e+13)\n",
      "\n",
      "\n",
      "iteration 48: \n",
      "(-1.76266e+15, 9.43464e+13, 4.6951e+13)\n",
      "\n",
      "\n",
      "iteration 49: \n",
      "(-3.19632e+15, 1.71083e+14, 8.51384e+13)\n",
      "\n",
      "\n",
      "iteration 50: \n",
      "(-5.79604e+15, 3.10233e+14, 1.54386e+14)\n",
      "\n",
      "\n"
     ]
    }
   ],
   "source": [
    "P.fit(csv.data[0], csv.data[1], 2, true);\n",
    "vector<double> y = P.predict(0, 10, 0.1);"
   ]
  },
  {
   "cell_type": "code",
   "execution_count": 23,
   "metadata": {},
   "outputs": [
    {
     "name": "stdout",
     "output_type": "stream",
     "text": [
      "Matrix Rearranged\n",
      "                col 0      col 1      col 2      col 3\n",
      "\n",
      "      Row 0:        285      2025     15333   13874.5\n",
      "\n",
      "      Row 1:         45       285      2025   1741.22\n",
      "\n",
      "      Row 2:         10        45       285   224.363\n",
      "\n",
      "\n",
      "\n",
      "Matrix Scaled\n",
      "                col 0      col 1      col 2      col 3\n",
      "\n",
      "      Row 0:  0.0185874  0.132068         1  0.904878\n",
      "\n",
      "      Row 1:  0.0222222  0.140741         1  0.859861\n",
      "\n",
      "      Row 2:  0.0350877  0.157895         1  0.787238\n",
      "\n",
      "\n",
      "\n",
      "Matrix in Row Echelon Form\n",
      "                col 0      col 1      col 2      col 3\n",
      "\n",
      "      Row 0:          1   7.10526      53.8   48.6824\n",
      "\n",
      "      Row 1:          0         1      11.4   12.9399\n",
      "\n",
      "      Row 2:          0         0         1   1.69675\n",
      "\n",
      "\n",
      "\n",
      "The Solution is: \n",
      "(2.89266, -6.40306, 1.69675)\n"
     ]
    }
   ],
   "source": [
    "PlynomialRegression P_2(2);\n",
    "CSVReader csv_2 = CSVReader(\"./datasets/part_2/a/2_a_dataset_2.csv\");\n",
    "P_2.fit(csv_2.data[0], csv_2.data[1], 1, true);\n",
    "vector<double> y = P_2.predict(0, 10, 0.1);"
   ]
  },
  {
   "cell_type": "code",
   "execution_count": 24,
   "metadata": {},
   "outputs": [
    {
     "name": "stdout",
     "output_type": "stream",
     "text": [
      "Please Specify the number of iterations\n"
     ]
    },
    {
     "name": "stdin",
     "output_type": "stream",
     "text": [
      " 30\n"
     ]
    },
    {
     "name": "stdout",
     "output_type": "stream",
     "text": [
      "This matrix is not in diagonally dominant form. Convergence is not guaranteed!\n",
      "iteration 1: \n",
      "(0.787238, 5.98524, 47.7098)\n",
      "\n",
      "\n",
      "iteration 2: \n",
      "(-2608.52, 78.9914, 127.737)\n",
      "\n",
      "\n",
      "iteration 3: \n",
      "(-7432.73, 272.092, 266.518)\n",
      "\n",
      "\n",
      "iteration 4: \n",
      "(-16271.2, 681.561, 511.986)\n",
      "\n",
      "\n",
      "iteration 5: \n",
      "(-32386.7, 1482.01, 951.058)\n",
      "\n",
      "\n",
      "iteration 6: \n",
      "(-61696.2, 2990.09, 1741.34)\n",
      "\n",
      "\n",
      "iteration 7: \n",
      "(-114929, 5780.07, 3168.63)\n",
      "\n",
      "\n",
      "iteration 8: \n",
      "(-211540, 10893.3, 5751.16)\n",
      "\n",
      "\n",
      "iteration 9: \n",
      "(-386811, 20218, 10428.7)\n",
      "\n",
      "\n",
      "iteration 10: \n",
      "(-704717, 37178.6, 18905.3)\n",
      "\n",
      "\n",
      "iteration 11: \n",
      "(-1.28127e+06, 67984.5, 34271)\n",
      "\n",
      "\n",
      "iteration 12: \n",
      "(-2.32683e+06, 123895, 62129.3)\n",
      "\n",
      "\n",
      "iteration 13: \n",
      "(-4.22287e+06, 225329, 112641)\n",
      "\n",
      "\n",
      "iteration 14: \n",
      "(-7.66111e+06, 409311, 204232)\n",
      "\n",
      "\n",
      "iteration 15: \n",
      "(-1.38959e+07, 742979, 370312)\n",
      "\n",
      "\n",
      "iteration 16: \n",
      "(-2.52019e+07, 1.34808e+06, 671470)\n",
      "\n",
      "\n",
      "iteration 17: \n",
      "(-4.57036e+07, 2.44539e+06, 1.21757e+06)\n",
      "\n",
      "\n",
      "iteration 18: \n",
      "(-8.28803e+07, 4.43522e+06, 2.20783e+06)\n",
      "\n",
      "\n",
      "iteration 19: \n",
      "(-1.50295e+08, 8.04353e+06, 4.00352e+06)\n",
      "\n",
      "\n",
      "iteration 20: \n",
      "(-2.72541e+08, 1.45867e+07, 7.25972e+06)\n",
      "\n",
      "\n",
      "iteration 21: \n",
      "(-4.94215e+08, 2.64518e+07, 1.31643e+07)\n",
      "\n",
      "\n",
      "iteration 22: \n",
      "(-8.96188e+08, 4.79673e+07, 2.38715e+07)\n",
      "\n",
      "\n",
      "iteration 23: \n",
      "(-1.6251e+09, 8.69825e+07, 4.32872e+07)\n",
      "\n",
      "\n",
      "iteration 24: \n",
      "(-2.94688e+09, 1.57731e+08, 7.84946e+07)\n",
      "\n",
      "\n",
      "iteration 25: \n",
      "(-5.34373e+09, 2.86022e+08, 1.42338e+08)\n",
      "\n",
      "\n",
      "iteration 26: \n",
      "(-9.69004e+09, 5.18658e+08, 2.58108e+08)\n",
      "\n",
      "\n",
      "iteration 27: \n",
      "(-1.75714e+10, 9.40508e+08, 4.6804e+08)\n",
      "\n",
      "\n",
      "iteration 28: \n",
      "(-3.18631e+10, 1.70547e+09, 8.48719e+08)\n",
      "\n",
      "\n",
      "iteration 29: \n",
      "(-5.77789e+10, 3.09261e+09, 1.53902e+09)\n",
      "\n",
      "\n",
      "iteration 30: \n",
      "(-1.04773e+11, 5.60798e+09, 2.79078e+09)\n",
      "\n",
      "\n"
     ]
    }
   ],
   "source": [
    "P_2.fit(csv_2.data[0], csv_2.data[1], 2, true);\n",
    "vector<double> y = P_2.predict(0, 10, 0.1);"
   ]
  },
  {
   "cell_type": "code",
   "execution_count": 26,
   "metadata": {},
   "outputs": [
    {
     "ename": "Standard Exception",
     "evalue": "stod",
     "output_type": "error",
     "traceback": [
      "Standard Exception: stod"
     ]
    }
   ],
   "source": [
    "CSVReader csv_3 = CSVReader(\"./datasets/kaggle_Housing.csv\");\n"
   ]
  },
  {
   "cell_type": "code",
   "execution_count": null,
   "metadata": {},
   "outputs": [],
   "source": [
    "MultipleLinearRegression M();\n",
    "M.fit(csv_2.data[0], csv_2.data[1], 1, true);\n",
    "vector<double> y = M.predict(0, 10, 0.1);"
   ]
  },
  {
   "cell_type": "code",
   "execution_count": null,
   "metadata": {},
   "outputs": [],
   "source": [
    "!python3-config --includes"
   ]
  },
  {
   "cell_type": "code",
   "execution_count": null,
   "metadata": {},
   "outputs": [],
   "source": [
    "!python3-config --libs"
   ]
  },
  {
   "cell_type": "code",
   "execution_count": null,
   "metadata": {},
   "outputs": [],
   "source": [
    "#pragma cling add_include_path(\"/srv/conda/envs/notebook/include/python3.7m\")\n",
    "#pragma cling add_library_path(\"/srv/conda/envs/notebook/lib\")\n",
    "#pragma cling load(\"python3.7m\")"
   ]
  },
  {
   "cell_type": "code",
   "execution_count": null,
   "metadata": {},
   "outputs": [],
   "source": [
    "#define WITHOUT_NUMPY 1\n",
    "#include \"Matplot/matplotlibcpp.h\"\n",
    "namespace plt = matplotlibcpp;"
   ]
  },
  {
   "cell_type": "code",
   "execution_count": null,
   "metadata": {},
   "outputs": [],
   "source": [
    "int n = 5000;\n",
    "std::vector<double> x(n), y(n), z(n), w(n,2);\n",
    "for(int i=0; i<n; ++i) {\n",
    "    x.at(i) = i*i;\n",
    "    y.at(i) = sin(2*M_PI*i/360.0);\n",
    "    z.at(i) = log(i);\n",
    "}\n",
    "\n",
    "// Set the size of output image to 1200x780 pixels\n",
    "plt::figure_size(1200, 780);\n",
    "// Plot line from given x and y data. Color is selected automatically.\n",
    "plt::plot(x, y);\n",
    "// Plot a red dashed line from given x and y data.\n",
    "plt::plot(x, w,\"r--\");\n",
    "// Plot a line whose name will show up as \"log(x)\" in the legend.\n",
    "plt::named_plot(\"log(x)\", x, z);\n",
    "// Set x-axis to interval [0,1000000]\n",
    "plt::xlim(0, 1000*1000);\n",
    "// Add graph title\n",
    "plt::title(\"Sample figure\");\n",
    "// Enable legend.\n",
    "plt::legend();\n",
    "// Save the image (file format is determined by the extension)\n",
    "plt::save(\"./basic.png\");"
   ]
  },
  {
   "cell_type": "code",
   "execution_count": null,
   "metadata": {},
   "outputs": [],
   "source": [
    "// Now in a MARKDOWN cell paste this to display the plot:\n",
    "// ![title](basic.png)"
   ]
  }
 ],
 "metadata": {
  "kernelspec": {
   "display_name": "C++11",
   "language": "C++11",
   "name": "xcpp11"
  },
  "language_info": {
   "codemirror_mode": "text/x-c++src",
   "file_extension": ".cpp",
   "mimetype": "text/x-c++src",
   "name": "c++",
   "version": "11"
  }
 },
 "nbformat": 4,
 "nbformat_minor": 4
}
