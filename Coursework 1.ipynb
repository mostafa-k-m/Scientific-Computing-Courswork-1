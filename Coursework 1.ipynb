# To add a new cell, type '# %%'
# To add a new markdown cell, type '# %% [markdown]'
# %% [markdown]
# Names and Ids Here

# %%
using namespace std;

# %% [markdown]
# # Explanation of the Matrix class and its helper methods

# %%
#include "Coursework1/Matrix.h"

# %% [markdown]
# # Explanation of the SolveGaussElimination Class, its helper methods and limitatins

# %%
#include "Coursework1/SolveGaussElimination.h"

# %% [markdown]
# # Explanation of the SolveSeidle Class, its helper methods and limitatins

# %%
#include "Coursework1/SolveSeidle.h"

# %% [markdown]
# # Demonstrating the two solvers with a few examples
# %% [markdown]
# ## Example 1

# %%
vector<vector<float>> v ={{2, 1, -1}, {1, 4, 3}, {-1 ,2 ,7}};
Matrix A = Matrix(v);
vector<float> b = {0, 14, 30};

# %% [markdown]
# ### Solution using Gauss Elimination Method:

# %%
SolveGaussElimination x = SolveGaussElimination(A, b, true);

# %% [markdown]
# ### Solution using Gauss-Seidle Method:

# %%
SolveSeidle y = SolveSeidle(A, b, 30);

# %% [markdown]
# ## Example 2

# %%
vector<vector<float>> v ={{2, -1, 0}, {1, -3, 1}, {-1, 1 ,-3}};
Matrix A = Matrix(v);
vector<float> b = {2, -2, 6};

# %% [markdown]
# ### Solution using Gauss Elimination Method:

# %%
SolveGaussElimination x = SolveGaussElimination(A, b, true);

# %% [markdown]
# ### Solution using Gauss-Seidle Method:

# %%
SolveSeidle y = SolveSeidle(A, b, 30);

# %% [markdown]
# ## Example 3

# %%
vector<vector<float>> v ={{5, 6, 7}, {6, 3, 9}, {7, 9, 10}};
Matrix A = Matrix(v);
vector<float> b = {18, 18, 26};

# %% [markdown]
# ### Solution using Gauss Elimination Method:

# %%
SolveGaussElimination x = SolveGaussElimination(A, b, true);

# %% [markdown]
# ### Solution using Gauss-Seidle Method:

# %%
SolveSeidle y = SolveSeidle(A, b, 30);

# %% [markdown]
# ## Example 4

# %%
vector<vector<float>> v = {{10, 2, -1, 2}, {1, 5, 1, 0}, {1, -2, -5, 1}, {3, 0, 0, 9}};
Matrix A = Matrix(v);
vector<float> b = {-4, 1, 2, 10};

# %% [markdown]
# ### Solution using Gauss Elimination Method:

# %%
SolveGaussElimination x = SolveGaussElimination(A, b, true);

# %% [markdown]
# ### Solution using Gauss-Seidle Method:

# %%
SolveSeidle y = SolveSeidle(A, b, 30);

# %% [markdown]
# ## Example 5

# %%
vector<vector<float>> v ={{-1,1,-1,1}, {1, 1, 1, 1}, {8, 4 ,2 ,1}, {27, 9, 3, 1}};
Matrix A = Matrix(v);
vector<float> b = {1, 1, -2, 1};

# %% [markdown]
# ### Solution using Gauss Elimination Method:

# %%
SolveGaussElimination x = SolveGaussElimination(A, b, true);

# %% [markdown]
# ### Solution using Gauss-Seidle Method:

# %%
SolveSeidle y = SolveSeidle(A, b, 30);


