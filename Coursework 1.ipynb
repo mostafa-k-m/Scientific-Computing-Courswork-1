{
 "cells": [
  {
   "cell_type": "markdown",
   "metadata": {},
   "source": [
    "Names and Ids Here"
   ]
  },
  {
   "cell_type": "code",
   "execution_count": 1,
   "metadata": {},
   "outputs": [],
   "source": [
    "using namespace std;"
   ]
  },
  {
   "cell_type": "markdown",
   "metadata": {},
   "source": [
    "# Explanation of the Matrix class and its helper methods"
   ]
  },
  {
   "cell_type": "code",
   "execution_count": 2,
   "metadata": {},
   "outputs": [],
   "source": [
    "#include \"Coursework1/Matrix.hpp\""
   ]
  },
  {
   "cell_type": "markdown",
   "metadata": {},
   "source": [
    "# Explanation of the SolveGaussElimination Class, its helper methods and limitatins"
   ]
  },
  {
   "cell_type": "code",
   "execution_count": 3,
   "metadata": {},
   "outputs": [],
   "source": [
    "#include \"Coursework1/SolveGaussElimination.hpp\""
   ]
  },
  {
   "cell_type": "markdown",
   "metadata": {},
   "source": [
    "# Explanation of the SolveSeidle Class, its helper methods and limitatins"
   ]
  },
  {
   "cell_type": "code",
   "execution_count": 4,
   "metadata": {},
   "outputs": [],
   "source": [
    "#include \"Coursework1/SolveSeidle.hpp\""
   ]
  },
  {
   "cell_type": "markdown",
   "metadata": {},
   "source": [
    "# Demonstrating the two solvers with a few examples"
   ]
  },
  {
   "cell_type": "markdown",
   "metadata": {},
   "source": [
    "## Example 1"
   ]
  },
  {
   "cell_type": "code",
   "execution_count": 5,
   "metadata": {},
   "outputs": [],
   "source": [
    "vector<vector<float>> v ={{2, 1, -1}, {1, 4, 3}, {-1 ,2 ,7}};\n",
    "Matrix A = Matrix(v);\n",
    "vector<float> b = {0, 14, 30};"
   ]
  },
  {
   "cell_type": "markdown",
   "metadata": {},
   "source": [
    "### Solution using Gauss Elimination Method:"
   ]
  },
  {
   "cell_type": "code",
   "execution_count": 6,
   "metadata": {},
   "outputs": [
    {
     "name": "stdout",
     "output_type": "stream",
     "text": [
      "Matrix Rearranged\n",
      "                col 0      col 1      col 2      col 3\n",
      "\n",
      "      Row 0:          2         1        -1         0\n",
      "\n",
      "      Row 1:          1         4         3        14\n",
      "\n",
      "      Row 2:         -1         2         7        30\n",
      "\n",
      "\n",
      "\n",
      "Matrix Scaled\n",
      "                col 0      col 1      col 2      col 3\n",
      "\n",
      "      Row 0:          1       0.5      -0.5         0\n",
      "\n",
      "      Row 1:       0.25         1      0.75       3.5\n",
      "\n",
      "      Row 2:  -0.142857  0.285714         1   4.28571\n",
      "\n",
      "\n",
      "\n",
      "Matrix in Row Echelon Form\n",
      "                col 0      col 1      col 2      col 3\n",
      "\n",
      "      Row 0:          1       0.5      -0.5         0\n",
      "\n",
      "      Row 1:          0         1         1         4\n",
      "\n",
      "      Row 2:          0         0         1         5\n",
      "\n",
      "\n",
      "\n",
      "The Solution is: \n",
      "(3, -1, 5)\n"
     ]
    }
   ],
   "source": [
    "SolveGaussElimination x = SolveGaussElimination(A, b, true);"
   ]
  },
  {
   "cell_type": "markdown",
   "metadata": {},
   "source": [
    "### Solution using Gauss-Seidle Method:"
   ]
  },
  {
   "cell_type": "code",
   "execution_count": 7,
   "metadata": {},
   "outputs": [
    {
     "name": "stdout",
     "output_type": "stream",
     "text": [
      "iteration 1: \n",
      "(0, 3.5, 3.28571)\n",
      "\n",
      "\n",
      "iteration 2: \n",
      "(-0.107143, 1.0625, 3.96684)\n",
      "\n",
      "\n",
      "iteration 3: \n",
      "(1.45217, 0.16183, 4.44693)\n",
      "\n",
      "\n",
      "iteration 4: \n",
      "(2.14255, -0.370834, 4.69775)\n",
      "\n",
      "\n",
      "iteration 5: \n",
      "(2.53429, -0.656882, 4.83544)\n",
      "\n",
      "\n",
      "iteration 6: \n",
      "(2.74616, -0.813117, 4.91034)\n",
      "\n",
      "\n",
      "iteration 7: \n",
      "(2.86173, -0.898188, 4.95116)\n",
      "\n",
      "\n",
      "iteration 8: \n",
      "(2.92467, -0.944536, 4.97339)\n",
      "\n",
      "\n",
      "iteration 9: \n",
      "(2.95896, -0.969785, 4.9855)\n",
      "\n",
      "\n",
      "iteration 10: \n",
      "(2.97764, -0.98354, 4.9921)\n",
      "\n",
      "\n",
      "iteration 11: \n",
      "(2.98782, -0.991033, 4.9957)\n",
      "\n",
      "\n",
      "iteration 12: \n",
      "(2.99337, -0.995115, 4.99766)\n",
      "\n",
      "\n",
      "iteration 13: \n",
      "(2.99639, -0.997339, 4.99872)\n",
      "\n",
      "\n",
      "iteration 14: \n",
      "(2.99803, -0.99855, 4.9993)\n",
      "\n",
      "\n",
      "iteration 15: \n",
      "(2.99893, -0.999211, 4.99962)\n",
      "\n",
      "\n",
      "iteration 16: \n",
      "(2.99942, -0.99957, 4.99979)\n",
      "\n",
      "\n",
      "iteration 17: \n",
      "(2.99968, -0.999765, 4.99989)\n",
      "\n",
      "\n",
      "iteration 18: \n",
      "(2.99983, -0.999872, 4.99994)\n",
      "\n",
      "\n",
      "iteration 19: \n",
      "(2.99991, -0.99993, 4.99997)\n",
      "\n",
      "\n",
      "iteration 20: \n",
      "(2.99995, -0.999962, 4.99998)\n",
      "\n",
      "\n",
      "iteration 21: \n",
      "(2.99997, -0.999979, 4.99999)\n",
      "\n",
      "\n",
      "iteration 22: \n",
      "(2.99998, -0.999989, 4.99999)\n",
      "\n",
      "\n",
      "iteration 23: \n",
      "(2.99999, -0.999994, 5)\n",
      "\n",
      "\n",
      "iteration 24: \n",
      "(3, -0.999996, 5)\n",
      "\n",
      "\n",
      "iteration 25: \n",
      "(3, -0.999998, 5)\n",
      "\n",
      "\n",
      "iteration 26: \n",
      "(3, -0.999999, 5)\n",
      "\n",
      "\n",
      "iteration 27: \n",
      "(3, -0.999999, 5)\n",
      "\n",
      "\n",
      "iteration 28: \n",
      "(3, -1, 5)\n",
      "\n",
      "\n",
      "iteration 29: \n",
      "(3, -1, 5)\n",
      "\n",
      "\n",
      "iteration 30: \n",
      "(3, -1, 5)\n",
      "\n",
      "\n"
     ]
    }
   ],
   "source": [
    "SolveSeidle y = SolveSeidle(A, b, 30);"
   ]
  },
  {
   "cell_type": "markdown",
   "metadata": {},
   "source": [
    "## Example 2"
   ]
  },
  {
   "cell_type": "code",
   "execution_count": 8,
   "metadata": {},
   "outputs": [],
   "source": [
    "vector<vector<float>> v ={{2, -1, 0}, {1, -3, 1}, {-1, 1 ,-3}};\n",
    "Matrix A = Matrix(v);\n",
    "vector<float> b = {2, -2, 6};"
   ]
  },
  {
   "cell_type": "markdown",
   "metadata": {},
   "source": [
    "### Solution using Gauss Elimination Method:"
   ]
  },
  {
   "cell_type": "code",
   "execution_count": 9,
   "metadata": {},
   "outputs": [
    {
     "name": "stdout",
     "output_type": "stream",
     "text": [
      "Matrix Rearranged\n",
      "                col 0      col 1      col 2      col 3\n",
      "\n",
      "      Row 0:          2        -1         0         2\n",
      "\n",
      "      Row 1:          1        -3         1        -2\n",
      "\n",
      "      Row 2:         -1         1        -3         6\n",
      "\n",
      "\n",
      "\n",
      "Matrix Scaled\n",
      "                col 0      col 1      col 2      col 3\n",
      "\n",
      "      Row 0:          1      -0.5         0         1\n",
      "\n",
      "      Row 1:   0.333333        -1  0.333333 -0.666667\n",
      "\n",
      "      Row 2:  -0.333333  0.333333        -1         2\n",
      "\n",
      "\n",
      "\n",
      "Matrix in Row Echelon Form\n",
      "                col 0      col 1      col 2      col 3\n",
      "\n",
      "      Row 0:          1      -0.5         0         1\n",
      "\n",
      "      Row 1:          0         1      -0.4       1.2\n",
      "\n",
      "      Row 2:          0         0         1  -2.28571\n",
      "\n",
      "\n",
      "\n",
      "The Solution is: \n",
      "(1.14286, 0.285714, -2.28571)\n"
     ]
    }
   ],
   "source": [
    "SolveGaussElimination x = SolveGaussElimination(A, b, true);"
   ]
  },
  {
   "cell_type": "markdown",
   "metadata": {},
   "source": [
    "### Solution using Gauss-Seidle Method:"
   ]
  },
  {
   "cell_type": "code",
   "execution_count": 10,
   "metadata": {},
   "outputs": [
    {
     "name": "stdout",
     "output_type": "stream",
     "text": [
      "iteration 1: \n",
      "(1, 1, -2)\n",
      "\n",
      "\n",
      "iteration 2: \n",
      "(1.5, 0.5, -2.33333)\n",
      "\n",
      "\n",
      "iteration 3: \n",
      "(1.25, 0.305556, -2.31481)\n",
      "\n",
      "\n",
      "iteration 4: \n",
      "(1.15278, 0.279321, -2.29115)\n",
      "\n",
      "\n",
      "iteration 5: \n",
      "(1.13966, 0.282836, -2.28561)\n",
      "\n",
      "\n",
      "iteration 6: \n",
      "(1.14142, 0.28527, -2.28538)\n",
      "\n",
      "\n",
      "iteration 7: \n",
      "(1.14263, 0.285751, -2.28563)\n",
      "\n",
      "\n",
      "iteration 8: \n",
      "(1.14288, 0.285749, -2.28571)\n",
      "\n",
      "\n",
      "iteration 9: \n",
      "(1.14287, 0.285722, -2.28572)\n",
      "\n",
      "\n",
      "iteration 10: \n",
      "(1.14286, 0.285714, -2.28572)\n",
      "\n",
      "\n",
      "iteration 11: \n",
      "(1.14286, 0.285714, -2.28571)\n",
      "\n",
      "\n",
      "iteration 12: \n",
      "(1.14286, 0.285714, -2.28571)\n",
      "\n",
      "\n",
      "iteration 13: \n",
      "(1.14286, 0.285714, -2.28571)\n",
      "\n",
      "\n",
      "iteration 14: \n",
      "(1.14286, 0.285714, -2.28571)\n",
      "\n",
      "\n",
      "iteration 15: \n",
      "(1.14286, 0.285714, -2.28571)\n",
      "\n",
      "\n",
      "iteration 16: \n",
      "(1.14286, 0.285714, -2.28571)\n",
      "\n",
      "\n",
      "iteration 17: \n",
      "(1.14286, 0.285714, -2.28571)\n",
      "\n",
      "\n",
      "iteration 18: \n",
      "(1.14286, 0.285714, -2.28571)\n",
      "\n",
      "\n",
      "iteration 19: \n",
      "(1.14286, 0.285714, -2.28571)\n",
      "\n",
      "\n",
      "iteration 20: \n",
      "(1.14286, 0.285714, -2.28571)\n",
      "\n",
      "\n",
      "iteration 21: \n",
      "(1.14286, 0.285714, -2.28571)\n",
      "\n",
      "\n",
      "iteration 22: \n",
      "(1.14286, 0.285714, -2.28571)\n",
      "\n",
      "\n",
      "iteration 23: \n",
      "(1.14286, 0.285714, -2.28571)\n",
      "\n",
      "\n",
      "iteration 24: \n",
      "(1.14286, 0.285714, -2.28571)\n",
      "\n",
      "\n",
      "iteration 25: \n",
      "(1.14286, 0.285714, -2.28571)\n",
      "\n",
      "\n",
      "iteration 26: \n",
      "(1.14286, 0.285714, -2.28571)\n",
      "\n",
      "\n",
      "iteration 27: \n",
      "(1.14286, 0.285714, -2.28571)\n",
      "\n",
      "\n",
      "iteration 28: \n",
      "(1.14286, 0.285714, -2.28571)\n",
      "\n",
      "\n",
      "iteration 29: \n",
      "(1.14286, 0.285714, -2.28571)\n",
      "\n",
      "\n",
      "iteration 30: \n",
      "(1.14286, 0.285714, -2.28571)\n",
      "\n",
      "\n"
     ]
    }
   ],
   "source": [
    "SolveSeidle y = SolveSeidle(A, b, 30);"
   ]
  },
  {
   "cell_type": "markdown",
   "metadata": {},
   "source": [
    "## Example 3"
   ]
  },
  {
   "cell_type": "code",
   "execution_count": 11,
   "metadata": {},
   "outputs": [],
   "source": [
    "vector<vector<float>> v ={{5, 6, 7}, {6, 3, 9}, {7, 9, 10}};\n",
    "Matrix A = Matrix(v);\n",
    "vector<float> b = {18, 18, 26};"
   ]
  },
  {
   "cell_type": "markdown",
   "metadata": {},
   "source": [
    "### Solution using Gauss Elimination Method:"
   ]
  },
  {
   "cell_type": "code",
   "execution_count": 12,
   "metadata": {},
   "outputs": [
    {
     "name": "stdout",
     "output_type": "stream",
     "text": [
      "Matrix Rearranged\n",
      "                col 0      col 1      col 2      col 3\n",
      "\n",
      "      Row 0:          7         9        10        26\n",
      "\n",
      "      Row 1:          5         6         7        18\n",
      "\n",
      "      Row 2:          6         3         9        18\n",
      "\n",
      "\n",
      "\n",
      "Matrix Scaled\n",
      "                col 0      col 1      col 2      col 3\n",
      "\n",
      "      Row 0:        0.7       0.9         1       2.6\n",
      "\n",
      "      Row 1:   0.714286  0.857143         1   2.57143\n",
      "\n",
      "      Row 2:   0.666667  0.333333         1         2\n",
      "\n",
      "\n",
      "\n",
      "Matrix in Row Echelon Form\n",
      "                col 0      col 1      col 2      col 3\n",
      "\n",
      "      Row 0:          1   1.28571   1.42857   3.71429\n",
      "\n",
      "      Row 1: -9.73543e-07         1  0.333333   1.33333\n",
      "\n",
      "      Row 2: -2.29478e-06         0         1         1\n",
      "\n",
      "\n",
      "\n",
      "The Solution is: \n",
      "(1, 1, 1)\n"
     ]
    }
   ],
   "source": [
    "SolveGaussElimination x = SolveGaussElimination(A, b, true);"
   ]
  },
  {
   "cell_type": "markdown",
   "metadata": {},
   "source": [
    "### Solution using Gauss-Seidle Method:"
   ]
  },
  {
   "cell_type": "code",
   "execution_count": 13,
   "metadata": {},
   "outputs": [
    {
     "name": "stdout",
     "output_type": "stream",
     "text": [
      "This matrix is not in diagonally dominant form. Convergence is not guaranteed!\n"
     ]
    }
   ],
   "source": [
    "SolveSeidle y = SolveSeidle(A, b, 30);"
   ]
  },
  {
   "cell_type": "markdown",
   "metadata": {},
   "source": [
    "## Example 4"
   ]
  },
  {
   "cell_type": "code",
   "execution_count": 14,
   "metadata": {},
   "outputs": [],
   "source": [
    "vector<vector<float>> v = {{10, 2, -1, 2}, {1, 5, 1, 0}, {1, -2, -5, 1}, {3, 0, 0, 9}};\n",
    "Matrix A = Matrix(v);\n",
    "vector<float> b = {-4, 1, 2, 10};"
   ]
  },
  {
   "cell_type": "markdown",
   "metadata": {},
   "source": [
    "### Solution using Gauss Elimination Method:"
   ]
  },
  {
   "cell_type": "code",
   "execution_count": 15,
   "metadata": {},
   "outputs": [
    {
     "name": "stdout",
     "output_type": "stream",
     "text": [
      "Matrix Rearranged\n",
      "                col 0      col 1      col 2      col 3      col 4\n",
      "\n",
      "      Row 0:         10         2        -1         2        -4\n",
      "\n",
      "      Row 1:          1         5         1         0         1\n",
      "\n",
      "      Row 2:          1        -2        -5         1         2\n",
      "\n",
      "      Row 3:          3         0         0         9        10\n",
      "\n",
      "\n",
      "\n",
      "Matrix Scaled\n",
      "                col 0      col 1      col 2      col 3      col 4\n",
      "\n",
      "      Row 0:          1       0.2      -0.1       0.2      -0.4\n",
      "\n",
      "      Row 1:        0.2         1       0.2         0       0.2\n",
      "\n",
      "      Row 2:        0.2      -0.4        -1       0.2       0.4\n",
      "\n",
      "      Row 3:   0.333333         0         0         1   1.11111\n",
      "\n",
      "\n",
      "\n",
      "Matrix in Row Echelon Form\n",
      "                col 0      col 1      col 2      col 3      col 4\n",
      "\n",
      "      Row 0:          1       0.2      -0.1       0.2      -0.4\n",
      "\n",
      "      Row 1:          0         1  0.229167-0.0416667  0.291667\n",
      "\n",
      "      Row 2:          0         0         1 -0.161137 -0.691943\n",
      "\n",
      "      Row 3:          0         0         0         1   1.38272\n",
      "\n",
      "\n",
      "\n",
      "The Solution is: \n",
      "(-0.814815, 0.45679, -0.469136, 1.38272)\n"
     ]
    }
   ],
   "source": [
    "SolveGaussElimination x = SolveGaussElimination(A, b, true);"
   ]
  },
  {
   "cell_type": "markdown",
   "metadata": {},
   "source": [
    "### Solution using Gauss-Seidle Method:"
   ]
  },
  {
   "cell_type": "code",
   "execution_count": 16,
   "metadata": {},
   "outputs": [
    {
     "name": "stdout",
     "output_type": "stream",
     "text": [
      "iteration 1: \n",
      "(-0.4, 0.28, -0.592, 1.24444)\n",
      "\n",
      "\n",
      "iteration 2: \n",
      "(-0.764089, 0.471218, -0.492416, 1.36581)\n",
      "\n",
      "\n",
      "iteration 3: \n",
      "(-0.816647, 0.461813, -0.474893, 1.38333)\n",
      "\n",
      "\n",
      "iteration 4: \n",
      "(-0.816517, 0.458282, -0.469951, 1.38328)\n",
      "\n",
      "\n",
      "iteration 5: \n",
      "(-0.815308, 0.457052, -0.469226, 1.38288)\n",
      "\n",
      "\n",
      "iteration 6: \n",
      "(-0.814909, 0.456827, -0.469137, 1.38275)\n",
      "\n",
      "\n",
      "iteration 7: \n",
      "(-0.814829, 0.456793, -0.469133, 1.38272)\n",
      "\n",
      "\n",
      "iteration 8: \n",
      "(-0.814816, 0.45679, -0.469135, 1.38272)\n",
      "\n",
      "\n",
      "iteration 9: \n",
      "(-0.814815, 0.45679, -0.469136, 1.38272)\n",
      "\n",
      "\n",
      "iteration 10: \n",
      "(-0.814815, 0.45679, -0.469136, 1.38272)\n",
      "\n",
      "\n",
      "iteration 11: \n",
      "(-0.814815, 0.45679, -0.469136, 1.38272)\n",
      "\n",
      "\n",
      "iteration 12: \n",
      "(-0.814815, 0.45679, -0.469136, 1.38272)\n",
      "\n",
      "\n",
      "iteration 13: \n",
      "(-0.814815, 0.45679, -0.469136, 1.38272)\n",
      "\n",
      "\n",
      "iteration 14: \n",
      "(-0.814815, 0.45679, -0.469136, 1.38272)\n",
      "\n",
      "\n",
      "iteration 15: \n",
      "(-0.814815, 0.45679, -0.469136, 1.38272)\n",
      "\n",
      "\n",
      "iteration 16: \n",
      "(-0.814815, 0.45679, -0.469136, 1.38272)\n",
      "\n",
      "\n",
      "iteration 17: \n",
      "(-0.814815, 0.45679, -0.469136, 1.38272)\n",
      "\n",
      "\n",
      "iteration 18: \n",
      "(-0.814815, 0.45679, -0.469136, 1.38272)\n",
      "\n",
      "\n",
      "iteration 19: \n",
      "(-0.814815, 0.45679, -0.469136, 1.38272)\n",
      "\n",
      "\n",
      "iteration 20: \n",
      "(-0.814815, 0.45679, -0.469136, 1.38272)\n",
      "\n",
      "\n",
      "iteration 21: \n",
      "(-0.814815, 0.45679, -0.469136, 1.38272)\n",
      "\n",
      "\n",
      "iteration 22: \n",
      "(-0.814815, 0.45679, -0.469136, 1.38272)\n",
      "\n",
      "\n",
      "iteration 23: \n",
      "(-0.814815, 0.45679, -0.469136, 1.38272)\n",
      "\n",
      "\n",
      "iteration 24: \n",
      "(-0.814815, 0.45679, -0.469136, 1.38272)\n",
      "\n",
      "\n",
      "iteration 25: \n",
      "(-0.814815, 0.45679, -0.469136, 1.38272)\n",
      "\n",
      "\n",
      "iteration 26: \n",
      "(-0.814815, 0.45679, -0.469136, 1.38272)\n",
      "\n",
      "\n",
      "iteration 27: \n",
      "(-0.814815, 0.45679, -0.469136, 1.38272)\n",
      "\n",
      "\n",
      "iteration 28: \n",
      "(-0.814815, 0.45679, -0.469136, 1.38272)\n",
      "\n",
      "\n",
      "iteration 29: \n",
      "(-0.814815, 0.45679, -0.469136, 1.38272)\n",
      "\n",
      "\n",
      "iteration 30: \n",
      "(-0.814815, 0.45679, -0.469136, 1.38272)\n",
      "\n",
      "\n"
     ]
    }
   ],
   "source": [
    "SolveSeidle y = SolveSeidle(A, b, 30);"
   ]
  },
  {
   "cell_type": "markdown",
   "metadata": {},
   "source": [
    "## Example 5"
   ]
  },
  {
   "cell_type": "code",
   "execution_count": 17,
   "metadata": {},
   "outputs": [],
   "source": [
    "vector<vector<float>> v ={{-1,1,-1,1}, {1, 1, 1, 1}, {8, 4 ,2 ,1}, {27, 9, 3, 1}};\n",
    "Matrix A = Matrix(v);\n",
    "vector<float> b = {1, 1, -2, 1};"
   ]
  },
  {
   "cell_type": "markdown",
   "metadata": {},
   "source": [
    "### Solution using Gauss Elimination Method:"
   ]
  },
  {
   "cell_type": "code",
   "execution_count": 18,
   "metadata": {},
   "outputs": [
    {
     "name": "stdout",
     "output_type": "stream",
     "text": [
      "Matrix Rearranged\n",
      "                col 0      col 1      col 2      col 3      col 4\n",
      "\n",
      "      Row 0:         27         9         3         1         1\n",
      "\n",
      "      Row 1:          8         4         2         1        -2\n",
      "\n",
      "      Row 2:          1         1         1         1         1\n",
      "\n",
      "      Row 3:         -1         1        -1         1         1\n",
      "\n",
      "\n",
      "\n",
      "Matrix Scaled\n",
      "                col 0      col 1      col 2      col 3      col 4\n",
      "\n",
      "      Row 0:          1  0.333333  0.111111  0.037037  0.037037\n",
      "\n",
      "      Row 1:          1       0.5      0.25     0.125     -0.25\n",
      "\n",
      "      Row 2:          1         1         1         1         1\n",
      "\n",
      "      Row 3:         -1         1        -1         1         1\n",
      "\n",
      "\n",
      "\n",
      "Matrix in Row Echelon Form\n",
      "                col 0      col 1      col 2      col 3      col 4\n",
      "\n",
      "      Row 0:          1  0.333333  0.111111  0.037037  0.037037\n",
      "\n",
      "      Row 1:          0         1  0.833333  0.527778  -1.72222\n",
      "\n",
      "      Row 2:          0         0         1   1.83333   6.33333\n",
      "\n",
      "      Row 3:          0         0         0         1         4\n",
      "\n",
      "\n",
      "\n",
      "The Solution is: \n",
      "(1, -3, -1, 4)\n"
     ]
    }
   ],
   "source": [
    "SolveGaussElimination x = SolveGaussElimination(A, b, true);"
   ]
  },
  {
   "cell_type": "markdown",
   "metadata": {},
   "source": [
    "### Solution using Gauss-Seidle Method:"
   ]
  },
  {
   "cell_type": "code",
   "execution_count": 19,
   "metadata": {},
   "outputs": [
    {
     "name": "stdout",
     "output_type": "stream",
     "text": [
      "This matrix is not in diagonally dominant form. Convergence is not guaranteed!\n"
     ]
    }
   ],
   "source": [
    "SolveSeidle y = SolveSeidle(A, b, 30);"
   ]
  },
  {
   "cell_type": "markdown",
   "metadata": {},
   "source": [
    "# CSVReader class"
   ]
  },
  {
   "cell_type": "code",
   "execution_count": 20,
   "metadata": {},
   "outputs": [],
   "source": [
    "#include \"Coursework1/CSVReader.hpp\""
   ]
  },
  {
   "cell_type": "code",
   "execution_count": 21,
   "metadata": {},
   "outputs": [],
   "source": [
    "CSVReader csv = CSVReader(\"datasets/part_2/a/2_a_dataset_1.csv\");"
   ]
  },
  {
   "cell_type": "code",
   "execution_count": 26,
   "metadata": {},
   "outputs": [
    {
     "data": {
      "text/plain": [
       "2"
      ]
     },
     "execution_count": 26,
     "metadata": {},
     "output_type": "execute_result"
    }
   ],
   "source": [
    "csv.n_cols"
   ]
  },
  {
   "cell_type": "code",
   "execution_count": 22,
   "metadata": {},
   "outputs": [
    {
     "data": {
      "text/plain": [
       "{ \"x\", \"y\" }"
      ]
     },
     "execution_count": 22,
     "metadata": {},
     "output_type": "execute_result"
    }
   ],
   "source": [
    "csv.col_names"
   ]
  },
  {
   "cell_type": "code",
   "execution_count": 23,
   "metadata": {},
   "outputs": [
    {
     "data": {
      "text/plain": [
       "{ { 0.00000f, 1.00000f, 2.00000f, 3.00000f, 4.00000f, 5.00000f, 6.00000f, 7.00000f, 8.00000f, 9.00000f }, { 2.75399f, 1.89481f, 5.66772f, 8.50871f, 10.9265f, 13.5301f, 11.8353f, 17.6240f, 21.1838f, 23.9396f } }"
      ]
     },
     "execution_count": 23,
     "metadata": {},
     "output_type": "execute_result"
    }
   ],
   "source": [
    "csv.data"
   ]
  }
 ],
 "metadata": {
  "kernelspec": {
   "display_name": "C++11",
   "language": "C++11",
   "name": "xcpp11"
  },
  "language_info": {
   "codemirror_mode": "text/x-c++src",
   "file_extension": ".cpp",
   "mimetype": "text/x-c++src",
   "name": "c++",
   "version": "11"
  }
 },
 "nbformat": 4,
 "nbformat_minor": 4
}
