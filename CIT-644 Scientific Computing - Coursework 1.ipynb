{
 "cells": [
  {
   "cell_type": "markdown",
   "metadata": {},
   "source": [
    "[![Binder](binder_badge.png)](https://mybinder.org/v2/gh/mostafa-k-m/Scientific-Computing-Courswork-1/HEAD)\n",
    "\n",
    "<strong style=\"color:red\"> Please click the binder badge above to run this notebook live </strong>. Also please check our <a href=\"https://github.com/mostafa-k-m/Scientific-Computing-Courswork-1\">github repo</a> for this project.\n",
    "\n",
    "<br>\n",
    "<br>\n",
    "\n",
    "<center><img src=\"nu_logo.png\" alt=\"Drawing\" style=\"width: 200px;\"/></center>\n",
    "\n",
    "<br>\n",
    "<br>\n",
    "\n",
    "<center> Prepared by: </center>\n",
    "\n",
    "| Name      | ID |\n",
    "| ----------- | ----------- |\n",
    "| Maha | |\n",
    "| Manar Mohamed Rashad      | 18270084       |\n",
    "| Mostafa Kamal Mostafa Kamel   | 1920045        |\n",
    "| Wael Ismail Aboulezz | 202001595 |\n",
    "\n",
    "\n",
    "\\pagebreak"
   ]
  },
  {
   "cell_type": "markdown",
   "metadata": {},
   "source": [
    "# Documentation\n",
    "\n",
    "We used OOP paradigm to make a library which is imported below using `#include\"Coursework1/Coursework1lib.h\"`.\n",
    "\n",
    "## Class Diagram\n",
    "\n",
    "\n",
    "![title](class_diagram.png)\n",
    "\n",
    "## Library Dependencies: \n",
    "\n",
    "###  - CSVReader.hpp \n",
    "This File contains the `CSVReader` class whith with its helper methods and attributes that to read given datasets\n",
    "\n",
    "#### `CSVReader` Constructor Arguments:\n",
    "* `input_file_name` takes the path to the csv file as a string\n",
    "\n",
    "#### `CSVReader` Attributes: \n",
    "* `n_cols` represent number of columns in the dataset\n",
    "* `col_names` represent the names of columns\n",
    "\n",
    "#### `CSVReader` Methods: \n",
    "* `splitcomma()` converts a string to a vector of strings by splitting at commas.\n",
    "* `count_cols()` used to get the number of columns in the file.\n",
    "\n",
    "<hr>\n",
    "\n",
    "###  - Matrix.hpp\n",
    "This File contains the `Matrix` class whith with its helper methods and attributes that are used mainly to  solve both part 1 and part 2\n",
    "\n",
    "#### `Matrix` Constructor Arguments:\n",
    "* `in_mat` a vector of vectors of doubles\n",
    "\n",
    "#### `Matrix` Attributes:\n",
    "* `dim` an integer denoting the matrix dimensions\n",
    "\n",
    "#### `Matrix` Methods: \n",
    "* `augment_matrix()` is used to add the coefficient of f(x)/y among the equation.\n",
    "* `get_row ()` / `get_column()` are used to catch specific rows/columns respectively and make any calculations on them, their inputs are the row and column number respectively.\n",
    "* `swap_rows()` used to swap rows according to the greatest coefficient for pivoting, its inputs are the rows numbers that needed to be swapped.\n",
    "* `get_abs_max()` used to get the maximum coefficient in the row, its input is coefficient integer.\n",
    "* `scale_matrix()` used for scaling as dividing all coefficients in each row by the greatest coefficient in it.\n",
    "* `matrix_row_operation()` takes a coefficient multiplies it by a given row and adds the result to a second row.\n",
    "* `row_echelon_form()` helps to establish a lower triangular matrix.\n",
    "* `flag_singular()` / `flag_ill_conditioned()` are used to test the condition of the system.\n",
    "* `flag_diagonally_dominant()` used specifically for Gauss Seidel as it requires that the coefficients in the absolute values on the diagonal of the matrix are larger than the sum of other elements in their rows.\n",
    "\n",
    "<hr>\n",
    "\n",
    "### - SolverBase.hpp\n",
    "This file contains a base class called `SolverBase` that contains all steps that are shared between `SolveGaussElimination` and `SolveSeidle` . This class should be inherited in both solvers as it contains common steps in both solvers.\n",
    "\n",
    "#### `SolverBase` Attributes:\n",
    "* `solution` a vector that contains the solution for the system of equations.\n",
    "\n",
    "#### `SolverBase` Methods: \n",
    "* `get_abs_max_index()` returns the index of the absolute maximum element in a vector.\n",
    "* `find_pivot()` used to choose the pivot row.\n",
    "* `rearrange_rows()` called recursively to rearrange rows according to find_pivot.\n",
    "* `print_aug_matrix()` prints the augemented matrix in a formatted manner.\n",
    "* `convert_to_triangular()` puts the matrix in the upper triangular form.\n",
    "* `print_solution()` prints the solution to consule in formatted manner.\n",
    "* `determinant_check()` calculate the determinant value by getting the product of element on the diagonal, then checks if the value != 0.\n",
    "\n",
    "\n",
    "<hr>\n",
    "\n",
    "### - SolveSeidle.hpp \n",
    "This file contains the SolveSeidle class that implements the Gauss-Seidle method for solving equations.\n",
    "\n",
    "This class will print a warning when the given matrix is not diagonally dominant, indicating that convergence is not guaranteed. However it will proceed and attempt to find a solution.\n",
    "\n",
    "This class will only attempt a solution if `flag_singular()` and `flag_ill_conditioned()` are both true.\n",
    "\n",
    "#### `SolveSeidle` Attributes:\n",
    "* all of `SolverBase` attributes.\n",
    "* `n_iterations` an Integer. Number of iterations.\n",
    "\n",
    "#### `SolveSeidle` Methods: \n",
    "* all of `SolverBase` methods.\n",
    "\n",
    "#### `SolveSeidle` Constructor Arguments:\n",
    "* `A` a `Matrix` object. This is the matrix of coefficients.\n",
    "* `b` a vector of doubles. This the y-values.\n",
    "* `n` an Integer. Number of iterations.\n",
    "* `verbose` a boolean. if true prints the solution after every iteration. Otherwise prints the solution every fifth iteration.\n",
    "\n",
    "<hr>\n",
    "\n",
    "### - SolveGaussElimination.hpp \n",
    "This file contains the SolveSeidle class that implements the Gauss-Seidle method for solving equations.\n",
    "\n",
    "This class will only attempt a solution if `flag_singular()` and `flag_ill_conditioned()` are both true.\n",
    "\n",
    "#### `SolveGaussElimination` Constructor Arguments:\n",
    "* `A` a `Matrix` object. This is the matrix of coefficients.\n",
    "* `b` a vector of doubles. This the y-values.\n",
    "* `verbose` a boolean. if true prints the steps of Gauss Elimination methods for the problem being solbed\n",
    "\n",
    "#### `SolveGaussElimination` Attributes:\n",
    "* all of `SolverBase` attributes.\n",
    "\n",
    "#### `SolveGaussElimination` Methods: \n",
    "* all of `SolverBase` methods.\n",
    "\n",
    "<hr>\n",
    "\n",
    "### - RegressionBase.hpp \n",
    "This File contains the `RegressionBase` base class, containing common steps in `PolynomialRegression` and `MultipleLinearRegression` like calculation of root mean square error (rmse) so this class should be inherited in both regressors.\n",
    "\n",
    "#### `RegressionBase` Attributes:\n",
    "* `polynomial_coeffs` is a vector containing the coefficients obtained after solving the system of equations.\n",
    "* `m` is the degree of the polynomial in case of using polynomial regression.\n",
    "* `n` if n is equal to 1 the system of equations will be solved using the Gauss Elimination Method. if n is equal to 2 Gauss Seidle will be used instead. 1 is default.\n",
    "* `solution` a vector that stores the solution to the equation.\n",
    "\n",
    "#### `RegressionBase` Methods:\n",
    "* `sqrt()` calculates the square root of a given double.\n",
    "* `rmse()` claculates the root main square error given true values of y and predicted ones.\n",
    "\n",
    "<hr>\n",
    "\n",
    "### - PolynomialRegression.hpp \n",
    "This File contains the `PolynomialRegression` Class. This class fits a polynomial of order `m` to a given dataset and can predict pints based on the calculated polynomial.\n",
    "\n",
    "#### `PolynomialRegression` Constructor Arguments:\n",
    "* `m` the order of the polynomial required.\n",
    "\n",
    "#### `PolynomialRegression` Attributes:\n",
    "* all of `RegressionBase` attributes.\n",
    "\n",
    "#### `PolynomialRegression` Methods:\n",
    "* all of `RegressionBase` methods.\n",
    "* `row_algorithm_left()` generates each row of $\\mathbf{A}$ where $\\mathbf{A} \\times \\mathbf{x} =  \\mathbf{b}$ the size of the row is dictated by `m`\n",
    "* `row_algorithm_right()` generates each row of $\\mathbf{b}$ where $\\mathbf{A} \\times \\mathbf{x} =  \\mathbf{b}$ the size of the row is dictated by `m`\n",
    "* `fit()` takes the values of $\\mathbf{x}$ and $\\mathbf{y}$ of a given dataset, fits a polynomial using the solver specified by the argument `solver`. the argument `verbose` is a bool that controls how much information this function prints to the console.\n",
    "* `predict()` substitutes values from `start` to `end` for a given step size `step` and returns values of predicted $\\mathbf{y}$.\n",
    "\n",
    "<hr>\n",
    "\n",
    "### - MultipleLinearRegression.hpp \n",
    "This File contains the `MultipleLinearRegression` Class. This class fits a plane to two given vectors of the same size $\\mathbf{x1}$ and $\\mathbf{x2}$\n",
    "\n",
    "#### `MultipleLinearRegression` Constructor Arguments:\n",
    "* `m` the order of the polynomial required.\n",
    "\n",
    "#### `MultipleLinearRegression` Attributes:\n",
    "* all of `RegressionBase` attributes.\n",
    "\n",
    "#### `MultipleLinearRegression` Methods:\n",
    "* all of `RegressionBase` methods.\n",
    "* `element_wise_multiplication()` takes two vectors and performs element wise multiplication to produce the returned vector,\n",
    "* `sum()` returns the sum of a given vector.\n",
    "* `fit()` takes the values of $\\mathbf{x_{1}}$, $\\mathbf{x_{2}}$ and $\\mathbf{y}$ of a given dataset, fits a plane using the solver specified by the argument `solver`. the argument `verbose` is a bool that controls how much information this function prints to the console.\n",
    "* `predict()` substitutes values from $\\mathbf{x_{1}}$ and $\\mathbf{x_{2}}$ and returns values of predicted $\\mathbf{y}$.\n",
    "\n",
    "<hr>\n",
    "\n",
    "### - CubicSpline.hpp \n",
    "This File contains the `band_matrix` and `Spline` classes.\n",
    "\n",
    "#### `band_matrix` Constructor Arguments:\n",
    "* `dim`\n",
    "* `n_u`\n",
    "* `n_l`\n",
    "\n",
    "#### `band_matrix` Attributes:\n",
    "* `m_upper`\n",
    "* `m_lower`\n",
    "\n",
    "#### `band_matrix` Methods:\n",
    "* `resize()`\n",
    "* `dim()`\n",
    "* `num_upper()`\n",
    "* `num_lower()`\n",
    "* `operator()`\n",
    "* `saved_diag()`\n",
    "* `lu_decompose()`\n",
    "* `r_solve()`\n",
    "* `l_solve()`\n",
    "* `lu_solve()`\n",
    "\n",
    "#### `Spline` Constructor Arguments:\n",
    "* `x`\n",
    "* `y`\n",
    "\n",
    "#### `Spline` Attributes:\n",
    "* `m_x`\n",
    "* `m_y`\n",
    "* `m_a`\n",
    "* `m_b`\n",
    "* `m_c`\n",
    "* `m_b0`\n",
    "* `m_c0`\n",
    "* `m_left`\n",
    "* `m_right`\n",
    "* `m_left_value`\n",
    "* `m_right_value`\n",
    "* `m_force_linear_extrapolation`\n",
    "\n",
    "#### `Spline` Methods:\n",
    "* `fitSpline()`\n",
    "* `interpolateSpline()`\n",
    "* `deriv()`\n",
    "\n",
    "<hr>\n",
    "\n",
    "### - NewtonInterpolator.hpp\n",
    "This File contains the `NewtonInterpolator` class.\n",
    "\n",
    "#### `NewtonInterpolator` Constructor Arguments:\n",
    "* `x`\n",
    "* `y`\n",
    "\n",
    "#### `NewtonInterpolator` Methods:\n",
    "* `fit()`\n",
    "* `writeNewtonPolynomial()`\n",
    "* `interpolate()`\n",
    "\n",
    "## Plots in this Report\n",
    "All plots in this report are created using matplotlib-cpp. We created a header file which can be found at `Coursework1/PlottingFunctions.h` in the github repository to pgenerate the plots we need\n",
    "\n",
    "\\pagebreak"
   ]
  },
  {
   "cell_type": "markdown",
   "metadata": {},
   "source": [
    "# Reportng our work\n",
    "## Importing the Library"
   ]
  },
  {
   "cell_type": "code",
   "execution_count": 1,
   "metadata": {},
   "outputs": [],
   "source": [
    "#include \"Coursework1/Coursework1lib.h\"\n",
    "using namespace std;"
   ]
  },
  {
   "cell_type": "markdown",
   "metadata": {},
   "source": [
    "## Part 1 - Solving a System of Linear Equations:\n",
    "In this section we will test the `SolveGaussElimination` and `SolveSeidle` outlined above on for different examples. Note that Example 1 is the example included in the assignment description.\n",
    "\n",
    "We included examples that demonstrate the ability of our solvers to solve equaations of variable order. We also included examples that clearly show Guass Seidle limitatins.\n",
    "\n",
    "Guass Seidle's main criteria for convergence is that the given $\\mathbf{A}$ matrix should be diagonally dominant, i.e. the absolute elements on the diagonal of $\\mathbf{A}$ must be larger than the sum of all other elements. Otherwise convergence is not guaranteed.\n",
    "\n",
    "Therefore, although we are aware that we can perform row operations on possibly any given matrix and swap rows/columns to eventually put it in diagonally dominant form, we have chosen not do so in our `SolveSeidle` implementation as this is going to be very computationally expensive. Another reason is that it doesn't make much sense to perform these kind of operations just to use an iterative solver and get an approximated solution when we can use `SolveGaussElimination` to get an exact solution."
   ]
  },
  {
   "cell_type": "markdown",
   "metadata": {},
   "source": [
    "### Example 1\n",
    "\n",
    "$\\begin{bmatrix} 2 & 1 & -1 \\\\ 1 & 4 & 2 \\\\ -1 & 2 & 7 \\end{bmatrix}\\times \\begin{bmatrix} a_{0} \\\\ a_{1} \\\\ a_{2} \\end{bmatrix}=   \\begin{bmatrix} 0 \\\\ 14 \\\\ 30 \\end{bmatrix}$"
   ]
  },
  {
   "cell_type": "code",
   "execution_count": 2,
   "metadata": {},
   "outputs": [],
   "source": [
    "vector<vector<double>> v ={{2, 1, -1}, {1, 4, 3}, {-1 ,2 ,7}};\n",
    "Matrix A = Matrix(v);\n",
    "vector<double> b = {0, 14, 30};"
   ]
  },
  {
   "cell_type": "markdown",
   "metadata": {},
   "source": [
    "#### Solution using Gauss Elimination Method:"
   ]
  },
  {
   "cell_type": "code",
   "execution_count": 3,
   "metadata": {},
   "outputs": [
    {
     "name": "stdout",
     "output_type": "stream",
     "text": [
      "Matrix Rearranged\n",
      "                col 0      col 1      col 2      col 3\n",
      "\n",
      "      Row 0:          2         1        -1         0\n",
      "\n",
      "      Row 1:          1         4         3        14\n",
      "\n",
      "      Row 2:         -1         2         7        30\n",
      "\n",
      "\n",
      "\n",
      "Matrix Scaled\n",
      "                col 0      col 1      col 2      col 3\n",
      "\n",
      "      Row 0:          1       0.5      -0.5         0\n",
      "\n",
      "      Row 1:       0.25         1      0.75       3.5\n",
      "\n",
      "      Row 2:  -0.142857  0.285714         1   4.28571\n",
      "\n",
      "\n",
      "\n",
      "Matrix in Row Echelon Form\n",
      "                col 0      col 1      col 2      col 3\n",
      "\n",
      "      Row 0:          1       0.5      -0.5         0\n",
      "\n",
      "      Row 1:          0         1         1         4\n",
      "\n",
      "      Row 2:          0         0         1         5\n",
      "\n",
      "\n",
      "\n",
      "The Solution is: \n",
      "(3, -1, 5)\n"
     ]
    }
   ],
   "source": [
    "SolveGaussElimination x = SolveGaussElimination(A, b, true);"
   ]
  },
  {
   "cell_type": "markdown",
   "metadata": {},
   "source": [
    "#### Solution using Gauss-Seidle Method:"
   ]
  },
  {
   "cell_type": "code",
   "execution_count": 4,
   "metadata": {},
   "outputs": [
    {
     "name": "stdout",
     "output_type": "stream",
     "text": [
      "iteration 1: \n",
      "(0, 3.5, 3.28571)\n",
      "\n",
      "\n",
      "iteration 6: \n",
      "(2.74616, -0.813117, 4.91034)\n",
      "\n",
      "\n",
      "iteration 11: \n",
      "(2.98782, -0.991033, 4.9957)\n",
      "\n",
      "\n",
      "iteration 16: \n",
      "(2.99942, -0.99957, 4.99979)\n",
      "\n",
      "\n",
      "iteration 21: \n",
      "(2.99997, -0.999979, 4.99999)\n",
      "\n",
      "\n",
      "iteration 26: \n",
      "(3, -0.999999, 5)\n",
      "\n",
      "\n",
      "(3, -1, 5)\n"
     ]
    }
   ],
   "source": [
    "SolveSeidle y = SolveSeidle(A, b, 30, false);"
   ]
  },
  {
   "cell_type": "markdown",
   "metadata": {},
   "source": [
    "### Example 2\n",
    "\n",
    "$\\begin{bmatrix} 2 & -1 & 0 \\\\ 1 & -3 & 1 \\\\ -1 & 1 & -3 \\end{bmatrix}\\times \\begin{bmatrix} a_{0} \\\\ a_{1} \\\\ a_{2} \\end{bmatrix}=   \\begin{bmatrix} 2 \\\\ -2 \\\\ 6 \\end{bmatrix}$"
   ]
  },
  {
   "cell_type": "code",
   "execution_count": 5,
   "metadata": {},
   "outputs": [],
   "source": [
    "vector<vector<double>> v ={{2, -1, 0}, {1, -3, 1}, {-1, 1 ,-3}};\n",
    "Matrix A = Matrix(v);\n",
    "vector<double> b = {2, -2, 6};"
   ]
  },
  {
   "cell_type": "markdown",
   "metadata": {},
   "source": [
    "#### Solution using Gauss Elimination Method:"
   ]
  },
  {
   "cell_type": "code",
   "execution_count": 6,
   "metadata": {},
   "outputs": [
    {
     "name": "stdout",
     "output_type": "stream",
     "text": [
      "Matrix Rearranged\n",
      "                col 0      col 1      col 2      col 3\n",
      "\n",
      "      Row 0:          2        -1         0         2\n",
      "\n",
      "      Row 1:          1        -3         1        -2\n",
      "\n",
      "      Row 2:         -1         1        -3         6\n",
      "\n",
      "\n",
      "\n",
      "Matrix Scaled\n",
      "                col 0      col 1      col 2      col 3\n",
      "\n",
      "      Row 0:          1      -0.5         0         1\n",
      "\n",
      "      Row 1:   0.333333        -1  0.333333 -0.666667\n",
      "\n",
      "      Row 2:  -0.333333  0.333333        -1         2\n",
      "\n",
      "\n",
      "\n",
      "Matrix in Row Echelon Form\n",
      "                col 0      col 1      col 2      col 3\n",
      "\n",
      "      Row 0:          1      -0.5         0         1\n",
      "\n",
      "      Row 1:          0         1      -0.4       1.2\n",
      "\n",
      "      Row 2:          0         0         1  -2.28571\n",
      "\n",
      "\n",
      "\n",
      "The Solution is: \n",
      "(1.14286, 0.285714, -2.28571)\n"
     ]
    }
   ],
   "source": [
    "SolveGaussElimination x = SolveGaussElimination(A, b, true);"
   ]
  },
  {
   "cell_type": "markdown",
   "metadata": {},
   "source": [
    "#### Solution using Gauss-Seidle Method:"
   ]
  },
  {
   "cell_type": "code",
   "execution_count": 7,
   "metadata": {},
   "outputs": [
    {
     "name": "stdout",
     "output_type": "stream",
     "text": [
      "iteration 2: \n",
      "(1.5, 0.5, -2.33333)\n",
      "\n",
      "\n",
      "iteration 7: \n",
      "(1.14263, 0.285751, -2.28563)\n",
      "\n",
      "\n",
      "iteration 12: \n",
      "(1.14286, 0.285714, -2.28571)\n",
      "\n",
      "\n",
      "iteration 17: \n",
      "(1.14286, 0.285714, -2.28571)\n",
      "\n",
      "\n",
      "iteration 22: \n",
      "(1.14286, 0.285714, -2.28571)\n",
      "\n",
      "\n",
      "iteration 27: \n",
      "(1.14286, 0.285714, -2.28571)\n",
      "\n",
      "\n",
      "(1.14286, 0.285714, -2.28571)\n"
     ]
    }
   ],
   "source": [
    "SolveSeidle y = SolveSeidle(A, b, 31, false);"
   ]
  },
  {
   "cell_type": "markdown",
   "metadata": {},
   "source": [
    "### Example 3\n",
    "\n",
    "$\\begin{bmatrix} 5 & 6 & 7 \\\\ 6 & 3 & 9 \\\\ 7 & 9 & 10 \\end{bmatrix}\\times \\begin{bmatrix} a_{0} \\\\ a_{1} \\\\ a_{2} \\end{bmatrix}=   \\begin{bmatrix} 18 \\\\ 18 \\\\ 26 \\end{bmatrix}$"
   ]
  },
  {
   "cell_type": "code",
   "execution_count": 8,
   "metadata": {},
   "outputs": [],
   "source": [
    "vector<vector<double>> v ={{5, 6, 7}, {6, 3, 9}, {7, 9, 10}};\n",
    "Matrix A = Matrix(v);\n",
    "vector<double> b = {18, 18, 26};"
   ]
  },
  {
   "cell_type": "markdown",
   "metadata": {},
   "source": [
    "#### Solution using Gauss Elimination Method:"
   ]
  },
  {
   "cell_type": "code",
   "execution_count": 9,
   "metadata": {},
   "outputs": [
    {
     "name": "stdout",
     "output_type": "stream",
     "text": [
      "Matrix Rearranged\n",
      "                col 0      col 1      col 2      col 3\n",
      "\n",
      "      Row 0:          7         9        10        26\n",
      "\n",
      "      Row 1:          5         6         7        18\n",
      "\n",
      "      Row 2:          6         3         9        18\n",
      "\n",
      "\n",
      "\n",
      "Matrix Scaled\n",
      "                col 0      col 1      col 2      col 3\n",
      "\n",
      "      Row 0:        0.7       0.9         1       2.6\n",
      "\n",
      "      Row 1:   0.714286  0.857143         1   2.57143\n",
      "\n",
      "      Row 2:   0.666667  0.333333         1         2\n",
      "\n",
      "\n",
      "\n",
      "Matrix in Row Echelon Form\n",
      "                col 0      col 1      col 2      col 3\n",
      "\n",
      "      Row 0:          1   1.28571   1.42857   3.71429\n",
      "\n",
      "      Row 1:          0         1  0.333333   1.33333\n",
      "\n",
      "      Row 2:          0         0         1         1\n",
      "\n",
      "\n",
      "\n",
      "The Solution is: \n",
      "(1, 1, 1)\n"
     ]
    }
   ],
   "source": [
    "SolveGaussElimination x = SolveGaussElimination(A, b, true);"
   ]
  },
  {
   "cell_type": "markdown",
   "metadata": {},
   "source": [
    "#### Solution using Gauss-Seidle Method:"
   ]
  },
  {
   "cell_type": "code",
   "execution_count": 10,
   "metadata": {},
   "outputs": [
    {
     "name": "stdout",
     "output_type": "stream",
     "text": [
      "This matrix is not in diagonally dominant form. Convergence is not guaranteed!\n",
      "iteration 1: \n",
      "(2.57143, 0.857143, 0.888889)\n",
      "\n",
      "\n",
      "iteration 6: \n",
      "(-16.2997, 6.70171, 11.5214)\n",
      "\n",
      "\n",
      "iteration 11: \n",
      "(-58.6386, 17.0658, 36.2927)\n",
      "\n",
      "\n",
      "iteration 16: \n",
      "(-141.786, 36.1943, 85.3481)\n",
      "\n",
      "\n",
      "iteration 21: \n",
      "(-299.796, 71.9214, 178.779)\n",
      "\n",
      "\n",
      "iteration 26: \n",
      "(-597.383, 138.88, 354.851)\n",
      "\n",
      "\n",
      "(-1014.84, 232.685, 601.884)\n"
     ]
    }
   ],
   "source": [
    "SolveSeidle y = SolveSeidle(A, b, 30, false);"
   ]
  },
  {
   "cell_type": "markdown",
   "metadata": {},
   "source": [
    "## Example 4\n",
    "$\\begin{bmatrix} 10 & 2 & -1 & 2 \\\\ 1 & 5 & 1 & 0 \\\\ 1 & -2 & -5 & 1 \\\\ 3 & 0 & 0 & 9 \\end{bmatrix}\\times \\begin{bmatrix} a_{0} \\\\ a_{1} \\\\ a_{2} \\\\ a_{3} \\end{bmatrix}=   \\begin{bmatrix} -4 \\\\ 1 \\\\ 2 \\\\ 10 \\end{bmatrix}$"
   ]
  },
  {
   "cell_type": "code",
   "execution_count": 11,
   "metadata": {},
   "outputs": [],
   "source": [
    "vector<vector<double>> v = {{10, 2, -1, 2}, {1, 5, 1, 0}, {1, -2, -5, 1}, {3, 0, 0, 9}};\n",
    "Matrix A = Matrix(v);\n",
    "vector<double> b = {-4, 1, 2, 10};"
   ]
  },
  {
   "cell_type": "markdown",
   "metadata": {},
   "source": [
    "#### Solution using Gauss Elimination Method:"
   ]
  },
  {
   "cell_type": "code",
   "execution_count": 12,
   "metadata": {},
   "outputs": [
    {
     "name": "stdout",
     "output_type": "stream",
     "text": [
      "Matrix Rearranged\n",
      "                col 0      col 1      col 2      col 3      col 4\n",
      "\n",
      "      Row 0:         10         2        -1         2        -4\n",
      "\n",
      "      Row 1:          1         5         1         0         1\n",
      "\n",
      "      Row 2:          1        -2        -5         1         2\n",
      "\n",
      "      Row 3:          3         0         0         9        10\n",
      "\n",
      "\n",
      "\n",
      "Matrix Scaled\n",
      "                col 0      col 1      col 2      col 3      col 4\n",
      "\n",
      "      Row 0:          1       0.2      -0.1       0.2      -0.4\n",
      "\n",
      "      Row 1:        0.2         1       0.2         0       0.2\n",
      "\n",
      "      Row 2:        0.2      -0.4        -1       0.2       0.4\n",
      "\n",
      "      Row 3:   0.333333         0         0         1   1.11111\n",
      "\n",
      "\n",
      "\n",
      "Matrix in Row Echelon Form\n",
      "                col 0      col 1      col 2      col 3      col 4\n",
      "\n",
      "      Row 0:          1       0.2      -0.1       0.2      -0.4\n",
      "\n",
      "      Row 1:          0         1  0.229167-0.0416667  0.291667\n",
      "\n",
      "      Row 2:          0         0         1 -0.161137 -0.691943\n",
      "\n",
      "      Row 3:          0         0         0         1   1.38272\n",
      "\n",
      "\n",
      "\n",
      "The Solution is: \n",
      "(-0.814815, 0.45679, -0.469136, 1.38272)\n"
     ]
    }
   ],
   "source": [
    "SolveGaussElimination x = SolveGaussElimination(A, b, true);"
   ]
  },
  {
   "cell_type": "markdown",
   "metadata": {},
   "source": [
    "#### Solution using Gauss-Seidle Method:"
   ]
  },
  {
   "cell_type": "code",
   "execution_count": 13,
   "metadata": {},
   "outputs": [
    {
     "name": "stdout",
     "output_type": "stream",
     "text": [
      "iteration 1: \n",
      "(-0.4, 0.28, -0.592, 1.24444)\n",
      "\n",
      "\n",
      "iteration 6: \n",
      "(-0.814909, 0.456827, -0.469136, 1.38275)\n",
      "\n",
      "\n",
      "iteration 11: \n",
      "(-0.814815, 0.45679, -0.469136, 1.38272)\n",
      "\n",
      "\n",
      "iteration 16: \n",
      "(-0.814815, 0.45679, -0.469136, 1.38272)\n",
      "\n",
      "\n",
      "iteration 21: \n",
      "(-0.814815, 0.45679, -0.469136, 1.38272)\n",
      "\n",
      "\n",
      "iteration 26: \n",
      "(-0.814815, 0.45679, -0.469136, 1.38272)\n",
      "\n",
      "\n",
      "(-0.814815, 0.45679, -0.469136, 1.38272)\n"
     ]
    }
   ],
   "source": [
    "SolveSeidle y = SolveSeidle(A, b, 30, false);"
   ]
  },
  {
   "cell_type": "markdown",
   "metadata": {},
   "source": [
    "## Example 5\n",
    "\n",
    "$\\begin{bmatrix} -1 & 1 & -1 & 1 \\\\ 1 & 1 & 1 & 1 \\\\ 8 & 4 & 2 & 1 \\\\ 27 & 9 & 3 & 1 \\end{bmatrix}\\times \\begin{bmatrix} a_{0} \\\\ a_{1} \\\\ a_{2} \\\\ a_{3} \\end{bmatrix}=   \\begin{bmatrix} 1 \\\\ 1 \\\\ -2 \\\\ 1 \\end{bmatrix}$"
   ]
  },
  {
   "cell_type": "code",
   "execution_count": 14,
   "metadata": {},
   "outputs": [],
   "source": [
    "vector<vector<double>> v ={{-1,1,-1,1}, {1, 1, 1, 1}, {8, 4 ,2 ,1}, {27, 9, 3, 1}};\n",
    "Matrix A = Matrix(v);\n",
    "vector<double> b = {1, 1, -2, 1};"
   ]
  },
  {
   "cell_type": "markdown",
   "metadata": {},
   "source": [
    "#### Solution using Gauss Elimination Method:"
   ]
  },
  {
   "cell_type": "code",
   "execution_count": 15,
   "metadata": {},
   "outputs": [
    {
     "name": "stdout",
     "output_type": "stream",
     "text": [
      "Matrix Rearranged\n",
      "                col 0      col 1      col 2      col 3      col 4\n",
      "\n",
      "      Row 0:         27         9         3         1         1\n",
      "\n",
      "      Row 1:          8         4         2         1        -2\n",
      "\n",
      "      Row 2:          1         1         1         1         1\n",
      "\n",
      "      Row 3:         -1         1        -1         1         1\n",
      "\n",
      "\n",
      "\n",
      "Matrix Scaled\n",
      "                col 0      col 1      col 2      col 3      col 4\n",
      "\n",
      "      Row 0:          1  0.333333  0.111111  0.037037  0.037037\n",
      "\n",
      "      Row 1:          1       0.5      0.25     0.125     -0.25\n",
      "\n",
      "      Row 2:          1         1         1         1         1\n",
      "\n",
      "      Row 3:         -1         1        -1         1         1\n",
      "\n",
      "\n",
      "\n",
      "Matrix in Row Echelon Form\n",
      "                col 0      col 1      col 2      col 3      col 4\n",
      "\n",
      "      Row 0:          1  0.333333  0.111111  0.037037  0.037037\n",
      "\n",
      "      Row 1:          0         1  0.833333  0.527778  -1.72222\n",
      "\n",
      "      Row 2:          0         0         1   1.83333   6.33333\n",
      "\n",
      "      Row 3:          0         0         0         1         4\n",
      "\n",
      "\n",
      "\n",
      "The Solution is: \n",
      "(1, -3, -1, 4)\n"
     ]
    }
   ],
   "source": [
    "SolveGaussElimination x = SolveGaussElimination(A, b, true);"
   ]
  },
  {
   "cell_type": "markdown",
   "metadata": {},
   "source": [
    "#### Solution using Gauss-Seidle Method:"
   ]
  },
  {
   "cell_type": "code",
   "execution_count": 16,
   "metadata": {},
   "outputs": [
    {
     "name": "stdout",
     "output_type": "stream",
     "text": [
      "This matrix is not in diagonally dominant form. Convergence is not guaranteed!\n",
      "iteration 1: \n",
      "(0.037037, 0.175926, -2.21296, -1.35185)\n",
      "\n",
      "\n",
      "iteration 6: \n",
      "(-0.61628, 2.89132, -0.919571, -3.42717)\n",
      "\n",
      "\n",
      "iteration 11: \n",
      "(-0.752839, 3.00523, -0.747436, -3.5055)\n",
      "\n",
      "\n",
      "iteration 16: \n",
      "(-0.750172, 3.00018, -0.749638, -3.49999)\n",
      "\n",
      "\n",
      "iteration 21: \n",
      "(-0.749997, 2.99999, -0.750013, -3.5)\n",
      "\n",
      "\n",
      "iteration 26: \n",
      "(-0.75, 3, -0.75, -3.5)\n",
      "\n",
      "\n",
      "(-0.75, 3, -0.75, -3.5)\n"
     ]
    }
   ],
   "source": [
    "SolveSeidle y = SolveSeidle(A, b, 30, false);"
   ]
  },
  {
   "cell_type": "markdown",
   "metadata": {},
   "source": [
    "\\pagebreak\n",
    "## Part 2 - Regression:\n",
    "\n",
    "### Reading CSV Files\n",
    "in this part we will need to read CSV files so we will demonstrate the functionality of the `CSVReader` classs outlined above"
   ]
  },
  {
   "cell_type": "code",
   "execution_count": 17,
   "metadata": {},
   "outputs": [],
   "source": [
    "CSVReader csv = CSVReader(\"datasets/part_2/a/2_a_dataset_1.csv\");"
   ]
  },
  {
   "cell_type": "code",
   "execution_count": 18,
   "metadata": {},
   "outputs": [
    {
     "data": {
      "text/plain": [
       "2"
      ]
     },
     "execution_count": 18,
     "metadata": {},
     "output_type": "execute_result"
    }
   ],
   "source": [
    "csv.n_cols"
   ]
  },
  {
   "cell_type": "code",
   "execution_count": 19,
   "metadata": {},
   "outputs": [
    {
     "data": {
      "text/plain": [
       "{ { 0.0000000, 1.0000000, 2.0000000, 3.0000000, 4.0000000, 5.0000000, 6.0000000, 7.0000000, 8.0000000, 9.0000000 }, { 2.7539933, 1.8948100, 5.6677209, 8.5087095, 10.926519, 13.530086, 11.835347, 17.623997, 21.183804, 23.939619 } }"
      ]
     },
     "execution_count": 19,
     "metadata": {},
     "output_type": "execute_result"
    }
   ],
   "source": [
    "csv.data"
   ]
  },
  {
   "cell_type": "code",
   "execution_count": 20,
   "metadata": {},
   "outputs": [
    {
     "data": {
      "text/plain": [
       "{ \"x\", \"y\" }"
      ]
     },
     "execution_count": 20,
     "metadata": {},
     "output_type": "execute_result"
    }
   ],
   "source": [
    "csv.col_names"
   ]
  },
  {
   "cell_type": "markdown",
   "metadata": {},
   "source": [
    "### A. Curve Fitting\n",
    "below we will demonstrate how our `PlynomialRegression` class fits `2_a_dataset_1.csv` and `2_a_dataset_2.csv` using each solver\n",
    "\n",
    "We will also need to import our plotting dependencies"
   ]
  },
  {
   "cell_type": "code",
   "execution_count": 21,
   "metadata": {},
   "outputs": [
    {
     "name": "stdout",
     "output_type": "stream",
     "text": [
      "-I/srv/conda/envs/notebook/include/python3.7m -I/srv/conda/envs/notebook/include/python3.7m\n"
     ]
    }
   ],
   "source": [
    "!python3-config --includes"
   ]
  },
  {
   "cell_type": "code",
   "execution_count": 22,
   "metadata": {},
   "outputs": [
    {
     "name": "stdout",
     "output_type": "stream",
     "text": [
      "-lpython3.7m -lcrypt -lpthread -ldl  -lutil -lrt -lm \n"
     ]
    }
   ],
   "source": [
    "!python3-config --libs"
   ]
  },
  {
   "cell_type": "code",
   "execution_count": 23,
   "metadata": {},
   "outputs": [],
   "source": [
    "#pragma cling add_include_path(\"/srv/conda/envs/notebook/include/python3.7m\")\n",
    "#pragma cling add_library_path(\"/srv/conda/envs/notebook/lib\")\n",
    "#pragma cling load(\"python3.7m\")"
   ]
  },
  {
   "cell_type": "code",
   "execution_count": 24,
   "metadata": {},
   "outputs": [],
   "source": [
    "#define WITHOUT_NUMPY 1\n",
    "#include \"Coursework1/PlottingFunctions.h\"\n"
   ]
  },
  {
   "cell_type": "markdown",
   "metadata": {},
   "source": [
    "#### `2_a_dataset_1.csv` Using `SolveGaussElimination`"
   ]
  },
  {
   "cell_type": "code",
   "execution_count": 25,
   "metadata": {},
   "outputs": [
    {
     "name": "stdout",
     "output_type": "stream",
     "text": [
      "Matrix Rearranged\n",
      "                col 0      col 1      col 2      col 3\n",
      "\n",
      "      Row 0:        285      2025     15333   5198.74\n",
      "\n",
      "      Row 1:         45       285      2025    729.42\n",
      "\n",
      "      Row 2:         10        45       285   117.865\n",
      "\n",
      "\n",
      "\n",
      "Matrix Scaled\n",
      "                col 0      col 1      col 2      col 3\n",
      "\n",
      "      Row 0:  0.0185874  0.132068         1  0.339056\n",
      "\n",
      "      Row 1:  0.0222222  0.140741         1  0.360207\n",
      "\n",
      "      Row 2:  0.0350877  0.157895         1   0.41356\n",
      "\n",
      "\n",
      "\n",
      "Matrix in Row Echelon Form\n",
      "                col 0      col 1      col 2      col 3\n",
      "\n",
      "      Row 0:          1   7.10526      53.8   18.2412\n",
      "\n",
      "      Row 1:          0         1      11.4   2.63219\n",
      "\n",
      "      Row 2:          0         0         1 0.0915477\n",
      "\n",
      "\n",
      "\n",
      "The Solution is: \n",
      "(2.02889, 1.58855, 0.0915477)\n"
     ]
    }
   ],
   "source": [
    "PlynomialRegression P(2);\n",
    "CSVReader csv = CSVReader(\"./datasets/part_2/a/2_a_dataset_1.csv\");\n",
    "P.fit(csv.data[0], csv.data[1], 1, true);\n",
    "vector<double> y = P.predict(0, 10, 0.1);"
   ]
  },
  {
   "cell_type": "code",
   "execution_count": 26,
   "metadata": {},
   "outputs": [],
   "source": [
    "vector<double> x;\n",
    "for(double i=0; i<=10; i += 0.1) {\n",
    "    x.push_back(i);\n",
    "}\n",
    "\n",
    "PlotLineScatter Plot(x, y, csv.data[0], csv.data[1], \"charts/chart1-1.png\");\n",
    "Plot.gen_plot()"
   ]
  },
  {
   "cell_type": "markdown",
   "metadata": {},
   "source": [
    "![title](charts/chart1-1.png)"
   ]
  },
  {
   "cell_type": "code",
   "execution_count": 27,
   "metadata": {},
   "outputs": [
    {
     "data": {
      "text/plain": [
       "3.5188506"
      ]
     },
     "execution_count": 27,
     "metadata": {},
     "output_type": "execute_result"
    }
   ],
   "source": [
    "P.rmse(csv.data[1], y)"
   ]
  },
  {
   "cell_type": "markdown",
   "metadata": {},
   "source": [
    "#### `2_a_dataset_1.csv` Using `SolveSeidle`"
   ]
  },
  {
   "cell_type": "code",
   "execution_count": 28,
   "metadata": {},
   "outputs": [
    {
     "name": "stdout",
     "output_type": "stream",
     "text": [
      "Please Specify the number of iterations\n",
      "30\n",
      "This matrix is not in diagonally dominant form. Convergence is not guaranteed!\n",
      "iteration 1: \n",
      "(0.41356, 2.49407, 17.8329)\n",
      "\n",
      "\n",
      "iteration 6: \n",
      "(-23096.6, 1120.73, 651.692)\n",
      "\n",
      "\n",
      "iteration 11: \n",
      "(-479624, 25451.3, 12828.5)\n",
      "\n",
      "\n",
      "iteration 16: \n",
      "(-9.4339e+06, 504635, 251353)\n",
      "\n",
      "\n",
      "iteration 21: \n",
      "(-1.85001e+08, 9.90178e+06, 4.92785e+06)\n",
      "\n",
      "\n",
      "iteration 26: \n",
      "(-3.62731e+09, 1.94151e+08, 9.66185e+07)\n",
      "\n",
      "\n",
      "(-3.92201e+10, 2.09925e+09, 1.04468e+09)\n"
     ]
    }
   ],
   "source": [
    "P.fit(csv.data[0], csv.data[1], 2, false);\n",
    "vector<double> y = P.predict(0, 10, 0.1);"
   ]
  },
  {
   "cell_type": "code",
   "execution_count": 29,
   "metadata": {},
   "outputs": [],
   "source": [
    "vector<double> x;\n",
    "for(double i=0; i<=10; i += 0.1) {\n",
    "    x.push_back(i);\n",
    "}\n",
    "\n",
    "PlotLineScatter Plot(x, y, csv.data[0], csv.data[1], \"charts/chart1-2.png\");\n",
    "Plot.gen_plot()"
   ]
  },
  {
   "cell_type": "markdown",
   "metadata": {},
   "source": [
    "![title](charts/chart1-2.png)"
   ]
  },
  {
   "cell_type": "code",
   "execution_count": 30,
   "metadata": {},
   "outputs": [
    {
     "data": {
      "text/plain": [
       "8.7206189e+15"
      ]
     },
     "execution_count": 30,
     "metadata": {},
     "output_type": "execute_result"
    }
   ],
   "source": [
    "P.rmse(csv.data[1], y)"
   ]
  },
  {
   "cell_type": "markdown",
   "metadata": {},
   "source": [
    "\\pagebreak"
   ]
  },
  {
   "cell_type": "markdown",
   "metadata": {},
   "source": [
    "#### `2_a_dataset_2.csv` Using `SolveGaussElimination`"
   ]
  },
  {
   "cell_type": "code",
   "execution_count": 31,
   "metadata": {},
   "outputs": [
    {
     "name": "stdout",
     "output_type": "stream",
     "text": [
      "Matrix Rearranged\n",
      "                col 0      col 1      col 2      col 3\n",
      "\n",
      "      Row 0:        285      2025     15333   13874.5\n",
      "\n",
      "      Row 1:         45       285      2025   1741.22\n",
      "\n",
      "      Row 2:         10        45       285   224.363\n",
      "\n",
      "\n",
      "\n",
      "Matrix Scaled\n",
      "                col 0      col 1      col 2      col 3\n",
      "\n",
      "      Row 0:  0.0185874  0.132068         1  0.904878\n",
      "\n",
      "      Row 1:  0.0222222  0.140741         1  0.859861\n",
      "\n",
      "      Row 2:  0.0350877  0.157895         1  0.787238\n",
      "\n",
      "\n",
      "\n",
      "Matrix in Row Echelon Form\n",
      "                col 0      col 1      col 2      col 3\n",
      "\n",
      "      Row 0:          1   7.10526      53.8   48.6824\n",
      "\n",
      "      Row 1:          0         1      11.4   12.9399\n",
      "\n",
      "      Row 2:          0         0         1   1.69675\n",
      "\n",
      "\n",
      "\n",
      "The Solution is: \n",
      "(2.89269, -6.40308, 1.69675)\n"
     ]
    }
   ],
   "source": [
    "PlynomialRegression P_2(2);\n",
    "CSVReader csv_2 = CSVReader(\"./datasets/part_2/a/2_a_dataset_2.csv\");\n",
    "P_2.fit(csv_2.data[0], csv_2.data[1], 1, true);\n",
    "vector<double> y = P_2.predict(0, 10, 0.1);"
   ]
  },
  {
   "cell_type": "code",
   "execution_count": 32,
   "metadata": {},
   "outputs": [],
   "source": [
    "vector<double> x;\n",
    "for(double i=0; i<=10; i += 0.1) {\n",
    "    x.push_back(i);\n",
    "}\n",
    "\n",
    "PlotLineScatter Plot(x, y, csv_2.data[0], csv_2.data[1], \"charts/chart2-1.png\");\n",
    "Plot.gen_plot()"
   ]
  },
  {
   "cell_type": "markdown",
   "metadata": {},
   "source": [
    "![title](charts/chart2-1.png)"
   ]
  },
  {
   "cell_type": "code",
   "execution_count": 33,
   "metadata": {
    "scrolled": true
   },
   "outputs": [
    {
     "data": {
      "text/plain": [
       "11.680771"
      ]
     },
     "execution_count": 33,
     "metadata": {},
     "output_type": "execute_result"
    }
   ],
   "source": [
    "P_2.rmse(csv_2.data[1], y)"
   ]
  },
  {
   "cell_type": "markdown",
   "metadata": {},
   "source": [
    "#### `2_a_dataset_2.csv` Using `SolveSeidle`"
   ]
  },
  {
   "cell_type": "code",
   "execution_count": 34,
   "metadata": {},
   "outputs": [
    {
     "name": "stdout",
     "output_type": "stream",
     "text": [
      "Please Specify the number of iterations\n",
      "30\n",
      "This matrix is not in diagonally dominant form. Convergence is not guaranteed!\n",
      "iteration 1: \n",
      "(0.787238, 5.98524, 47.7098)\n",
      "\n",
      "\n",
      "iteration 6: \n",
      "(-61696.2, 2990.1, 1741.34)\n",
      "\n",
      "\n",
      "iteration 11: \n",
      "(-1.28127e+06, 67984.5, 34271)\n",
      "\n",
      "\n",
      "iteration 16: \n",
      "(-2.52019e+07, 1.34808e+06, 671470)\n",
      "\n",
      "\n",
      "iteration 21: \n",
      "(-4.94215e+08, 2.64518e+07, 1.31643e+07)\n",
      "\n",
      "\n",
      "iteration 26: \n",
      "(-9.69004e+09, 5.18658e+08, 2.58108e+08)\n",
      "\n",
      "\n",
      "(-1.04773e+11, 5.60798e+09, 2.79078e+09)\n"
     ]
    }
   ],
   "source": [
    "PlynomialRegression P_2(2);\n",
    "CSVReader csv_2 = CSVReader(\"./datasets/part_2/a/2_a_dataset_2.csv\");\n",
    "P_2.fit(csv_2.data[0], csv_2.data[1], 2, false);\n",
    "vector<double> y = P_2.predict(0, 10, 0.1);\n",
    "\n",
    "vector<double> x;\n",
    "for(double i=0; i<=10; i += 0.1) {\n",
    "    x.push_back(i);\n",
    "}\n",
    "\n",
    "PlotLineScatter Plot(x, y, csv_2.data[0], csv_2.data[1], \"charts/chart2-2.png\");\n",
    "Plot.gen_plot()"
   ]
  },
  {
   "cell_type": "markdown",
   "metadata": {},
   "source": [
    "![title](charts/chart2-2.png)"
   ]
  },
  {
   "cell_type": "code",
   "execution_count": 35,
   "metadata": {
    "scrolled": true
   },
   "outputs": [
    {
     "data": {
      "text/plain": [
       "6.2234378e+16"
      ]
     },
     "execution_count": 35,
     "metadata": {},
     "output_type": "execute_result"
    }
   ],
   "source": [
    "P_2.rmse(csv_2.data[1], y)"
   ]
  },
  {
   "cell_type": "markdown",
   "metadata": {},
   "source": [
    "\\pagebreak"
   ]
  },
  {
   "cell_type": "markdown",
   "metadata": {},
   "source": [
    "### B. Multivariable Linear Regression\n",
    "\n",
    "We will use our `MultipleLinearRegression` to ﬁt the house pricing dataset.\n",
    "\n",
    "#### Reading the dataset"
   ]
  },
  {
   "cell_type": "code",
   "execution_count": 36,
   "metadata": {},
   "outputs": [],
   "source": [
    "CSVReader csv_3 = CSVReader(\"./datasets/kaggle_Housing.csv\");"
   ]
  },
  {
   "cell_type": "code",
   "execution_count": 37,
   "metadata": {},
   "outputs": [
    {
     "data": {
      "text/plain": [
       "6"
      ]
     },
     "execution_count": 37,
     "metadata": {},
     "output_type": "execute_result"
    }
   ],
   "source": [
    "csv_3.n_cols"
   ]
  },
  {
   "cell_type": "code",
   "execution_count": 38,
   "metadata": {},
   "outputs": [
    {
     "data": {
      "text/plain": [
       "{ \"price\", \"lotsize\", \"bedrooms\", \"bathrms\", \"stories\", \"garagepl\" }"
      ]
     },
     "execution_count": 38,
     "metadata": {},
     "output_type": "execute_result"
    }
   ],
   "source": [
    "csv_3.col_names = {\"price\", \"lotsize\", \"bedrooms\", \"bathrms\", \"stories\", \"garagepl\"}"
   ]
  },
  {
   "cell_type": "markdown",
   "metadata": {},
   "source": [
    "#### Chosing the best two features based on the RMSE value"
   ]
  },
  {
   "cell_type": "code",
   "execution_count": 39,
   "metadata": {},
   "outputs": [
    {
     "name": "stdout",
     "output_type": "stream",
     "text": [
      "using lotsize & bedrooms: the RMSE value is 32610.7\n",
      "using lotsize & bathrms: the RMSE value is 28497\n",
      "using lotsize & stories: the RMSE value is 30007.9\n",
      "using lotsize & garagepl: the RMSE value is 34364.4\n",
      "using bedrooms & bathrms: the RMSE value is 35599.3\n",
      "using bedrooms & stories: the RMSE value is 39052.6\n",
      "using bedrooms & garagepl: the RMSE value is 38002.1\n",
      "using bathrms & stories: the RMSE value is 33981.1\n",
      "using bathrms & garagepl: the RMSE value is 33296.3\n",
      "using stories & garagepl: the RMSE value is 35207.1\n"
     ]
    }
   ],
   "source": [
    "MultipleLinearRegression M;\n",
    "for (int i=1; i < 6; ++i)\n",
    "{\n",
    "    for (int j=i+1; j<6; ++j)\n",
    "    {\n",
    "        M.fit(csv_3.data[i], csv_3.data[j],  csv_3.data[0], 1, false);\n",
    "        vector<double> y = M.predict(csv_3.data[i], csv_3.data[j]);\n",
    "        double rmse_value = M.rmse(csv_3.data[0], y);\n",
    "        cout << \"using \" << csv_3.col_names[i] << \" & \" << csv_3.col_names[j] << \": the RMSE value is \" << rmse_value << endl;\n",
    "    }\n",
    "}"
   ]
  },
  {
   "cell_type": "markdown",
   "metadata": {},
   "source": [
    "Based on the values above we choose *lotsize* & *bathrms* as our two features since they give us the lowest RMSE value.\n",
    "\n",
    "#### We will fit a plane using *lotsize* & *bathrms* below and plot the residual values"
   ]
  },
  {
   "cell_type": "code",
   "execution_count": 40,
   "metadata": {},
   "outputs": [],
   "source": [
    "M.fit(csv_3.data[1], csv_3.data[3],  csv_3.data[0], 1, false);\n",
    "vector<double> y = M.predict(csv_3.data[1], csv_3.data[3]);\n",
    "double rmse_value = M.rmse(csv_3.data[0], y);\n",
    "\n",
    "PlotResiduals Plot(csv_3.data[0], y, \"charts/residuals.png\");\n",
    "Plot.gen_plot()"
   ]
  },
  {
   "cell_type": "markdown",
   "metadata": {},
   "source": [
    "![title](charts/residuals.png)"
   ]
  },
  {
   "cell_type": "markdown",
   "metadata": {},
   "source": [
    "\\pagebreak"
   ]
  },
  {
   "cell_type": "markdown",
   "metadata": {},
   "source": [
    "## Part 3 - Interpolation\n",
    "\n",
    "### We will start by reading both given datasets"
   ]
  },
  {
   "cell_type": "code",
   "execution_count": 41,
   "metadata": {},
   "outputs": [],
   "source": [
    "std::vector<std::pair<std::string, std::vector<double>>> dataset_1 = read_csv(\"./datasets/part_3/3_dataset_1.csv\");\n",
    "std::vector<std::pair<std::string, std::vector<double>>> dataset_2 = read_csv(\"./datasets/part_3/3_dataset_2.csv\");\n",
    "\n",
    "vector<double> x1 = dataset_1.at(0).second;\n",
    "vector<double> y1 = dataset_1.at(1).second;\n",
    "vector<double> x2 = dataset_2.at(0).second;\n",
    "vector<double> y2 = dataset_2.at(1).second;"
   ]
  },
  {
   "cell_type": "markdown",
   "metadata": {},
   "source": [
    "### We will fit `NewtonInterpolator` to both datasets below and print the polynomial"
   ]
  },
  {
   "cell_type": "code",
   "execution_count": 42,
   "metadata": {},
   "outputs": [
    {
     "name": "stdout",
     "output_type": "stream",
     "text": [
      "Newton Interpolation Polynomial: 10+20x^1+1x^2-0.2x^3+1.02969e-13x^4-1.72975e-14x^5-4.80697e-15x^6-5.08368e-17x^7+4.59488e-17x^8+2.53217e-18x^9\n"
     ]
    }
   ],
   "source": [
    "vector<double> x1 = dataset_1.at(0).second;\n",
    "vector<double> y1 = dataset_1.at(1).second;\n",
    "\n",
    "NewtonInterpolator Newton;\n",
    "\n",
    "vector<double> a1 = Newton.fit(x1,y1);\n",
    "cout << \"Newton Interpolation Polynomial: \"; Newton.writeNewtonPolynomial(a1);"
   ]
  },
  {
   "cell_type": "code",
   "execution_count": 43,
   "metadata": {},
   "outputs": [
    {
     "name": "stdout",
     "output_type": "stream",
     "text": [
      "Newton Interpolation Polynomial: 1.10059+0.555967x^1-0.248617x^2-0.243468x^3-0.00947879x^4+0.0356979x^5+0.00708407x^6-0.00222214x^7-0.000773607x^8+4.02274e-05x^9+3.83602e-05x^10+2.01025e-06x^11-9.20882e-07x^12-1.17225e-07x^13+7.73236e-09x^14+2.16861e-09x^15+6.52763e-11x^16-1.25152e-11x^17-1.14218e-12x^18-2.91053e-14x^19\n"
     ]
    }
   ],
   "source": [
    "vector<double> a2 = Newton.fit(x2,y2);\n",
    "cout << \"Newton Interpolation Polynomial: \"; Newton.writeNewtonPolynomial(a2);"
   ]
  },
  {
   "cell_type": "code",
   "execution_count": 44,
   "metadata": {},
   "outputs": [],
   "source": [
    "std::vector<string> colnames(2);\n",
    "colnames[0] = \"Newton Coefficients Dataset 1\";\n",
    "colnames[1] = \"Newton Coefficients Dataset 2\";\n",
    "std::vector<vector<double>> coeff(2);\n",
    "coeff[0] = a1;\n",
    "coeff[1] = a2;\n",
    "write_csv(\"output_csvs/Newton Polynomial Coefficients.csv\",colnames,coeff);"
   ]
  },
  {
   "cell_type": "markdown",
   "metadata": {},
   "source": [
    "### We will use `NewtonInterpolator` to double and quadruple the given points in the given data set and plot the results\n",
    "The resulting pints are given in the `output_csvs` folder\n",
    "\n",
    "#### Doubling `3_dataset_1.csv` using `NewtonInterpolator`"
   ]
  },
  {
   "cell_type": "code",
   "execution_count": 45,
   "metadata": {},
   "outputs": [
    {
     "name": "stdout",
     "output_type": "stream",
     "text": [
      "x = -7.35324\n",
      "Newton Interpolation: -3.4766\n",
      "x = -1.27357\n",
      "Newton Interpolation: -13.4363\n",
      "x = -5.72844\n",
      "Newton Interpolation: -34.158\n",
      "x = 2.8193\n",
      "Newton Interpolation: 69.8527\n",
      "x = 7.57409\n",
      "Newton Interpolation: 131.948\n",
      "x = -0.144181\n",
      "Newton Interpolation: 7.13778\n",
      "x = -9.15543\n",
      "Newton Interpolation: 64.1983\n",
      "x = 0.0469531\n",
      "Newton Interpolation: 10.9412\n",
      "x = -9.6549\n",
      "Newton Interpolation: 90.1196\n",
      "x = -8.55566\n",
      "Newton Interpolation: 37.3398\n"
     ]
    }
   ],
   "source": [
    "vector<double> x1 = dataset_1.at(0).second;\n",
    "vector<double> y1 = dataset_1.at(1).second;\n",
    "\n",
    "std::vector<string> colnamesnewp(2);\n",
    "colnamesnewp[0] = \"X\";\n",
    "colnamesnewp[1] = \"Y\";\n",
    "\n",
    "vector<vector<double>> newPointsNewton2D1 = getPointsNewton(x1,y1,x1.size(),Newton,a1);\n",
    "write_csv(\"output_csvs/Newton 2 Times Dataset1.csv\",colnamesnewp,newPointsNewton2D1);\n",
    "\n",
    "PlotInterpolation Plot(x1, y1, newPointsNewton2D1[0], newPointsNewton2D1[1], \"charts/chart2.png\");\n",
    "Plot.gen_plot()"
   ]
  },
  {
   "cell_type": "markdown",
   "metadata": {},
   "source": [
    "![title](charts/chart2.png)"
   ]
  },
  {
   "cell_type": "markdown",
   "metadata": {},
   "source": [
    "#### Quadrupling `3_dataset_1.csv` using `NewtonInterpolator`"
   ]
  },
  {
   "cell_type": "code",
   "execution_count": 46,
   "metadata": {},
   "outputs": [
    {
     "name": "stdout",
     "output_type": "stream",
     "text": [
      "x = -7.35324\n",
      "Newton Interpolation: -3.4766\n",
      "x = -1.27357\n",
      "Newton Interpolation: -13.4363\n",
      "x = -5.72844\n",
      "Newton Interpolation: -34.158\n",
      "x = 2.8193\n",
      "Newton Interpolation: 69.8527\n",
      "x = 7.57409\n",
      "Newton Interpolation: 131.948\n",
      "x = -0.144181\n",
      "Newton Interpolation: 7.13778\n",
      "x = -9.15543\n",
      "Newton Interpolation: 64.1983\n",
      "x = 0.0469531\n",
      "Newton Interpolation: 10.9412\n",
      "x = -9.6549\n",
      "Newton Interpolation: 90.1196\n",
      "x = -8.55566\n",
      "Newton Interpolation: 37.3398\n",
      "x = 2.96628\n",
      "Newton Interpolation: 72.9045\n",
      "x = 7.49498\n",
      "Newton Interpolation: 131.869\n",
      "x = -0.00455605\n",
      "Newton Interpolation: 9.9089\n",
      "x = 2.35567\n",
      "Newton Interpolation: 60.0481\n",
      "x = 3.23425\n",
      "Newton Interpolation: 78.3791\n",
      "x = 4.36813\n",
      "Newton Interpolation: 99.7738\n",
      "x = -8.91581\n",
      "Newton Interpolation: 52.922\n",
      "x = -3.69746\n",
      "Newton Interpolation: -40.1683\n",
      "x = 4.26056\n",
      "Newton Interpolation: 97.8957\n",
      "x = -3.00785\n",
      "Newton Interpolation: -35.6673\n",
      "x = 8.46356\n",
      "Newton Interpolation: 129.651\n",
      "x = 4.20379\n",
      "Newton Interpolation: 96.8898\n",
      "x = -8.44705\n",
      "Newton Interpolation: 32.9556\n",
      "x = 6.64506\n",
      "Newton Interpolation: 128.373\n",
      "x = -1.6869\n",
      "Newton Interpolation: -19.9323\n",
      "x = -0.918925\n",
      "Newton Interpolation: -7.37888\n",
      "x = -4.6886\n",
      "Newton Interpolation: -41.1752\n",
      "x = -6.7033\n",
      "Newton Interpolation: -18.8902\n",
      "x = 6.88573\n",
      "Newton Interpolation: 129.833\n",
      "x = -8.67234\n",
      "Newton Interpolation: 42.2111\n"
     ]
    }
   ],
   "source": [
    "vector<double> x1 = dataset_1.at(0).second;\n",
    "vector<double> y1 = dataset_1.at(1).second;\n",
    "vector<vector<double>> newPointsNewton4D1 = getPointsNewton(x1,y1,x1.size()*3,Newton,a1);\n",
    "write_csv(\"output_csvs/Newton 4 Times Dataset1.csv\",colnamesnewp,newPointsNewton4D1);\n",
    "\n",
    "PlotInterpolation Plot(x1, y1, newPointsNewton4D1[0], newPointsNewton4D1[1], \"charts/chart3.png\");\n",
    "Plot.gen_plot()"
   ]
  },
  {
   "cell_type": "markdown",
   "metadata": {},
   "source": [
    "![title](charts/chart3.png)"
   ]
  },
  {
   "cell_type": "markdown",
   "metadata": {},
   "source": [
    "#### Doubling `3_dataset_2.csv` using `NewtonInterpolator`"
   ]
  },
  {
   "cell_type": "code",
   "execution_count": 47,
   "metadata": {},
   "outputs": [
    {
     "name": "stdout",
     "output_type": "stream",
     "text": [
      "x = -7.82099\n",
      "Newton Interpolation: 0.01227\n",
      "x = -2.40216\n",
      "Newton Interpolation: 0.147797\n",
      "x = -6.3728\n",
      "Newton Interpolation: 0.0240288\n",
      "x = 1.24584\n",
      "Newton Interpolation: 1.03316\n",
      "x = 5.4838\n",
      "Newton Interpolation: 0.050436\n",
      "x = -1.39553\n",
      "Newton Interpolation: 0.341593\n",
      "x = -9.42729\n",
      "Newton Interpolation: -0.00242728\n",
      "x = -1.22517\n",
      "Newton Interpolation: 0.403353\n",
      "x = -9.87247\n",
      "Newton Interpolation: -0.239619\n",
      "x = -8.89271\n",
      "Newton Interpolation: 0.0243353\n",
      "x = 1.37684\n",
      "Newton Interpolation: 0.920963\n",
      "x = 5.41329\n",
      "Newton Interpolation: 0.064648\n",
      "x = -1.27108\n",
      "Newton Interpolation: 0.38559\n",
      "x = 0.832597\n",
      "Newton Interpolation: 1.26192\n",
      "x = 1.61568\n",
      "Newton Interpolation: 0.685382\n",
      "x = 2.62631\n",
      "Newton Interpolation: -0.0983455\n",
      "x = -9.21372\n",
      "Newton Interpolation: 0.0468638\n",
      "x = -4.56258\n",
      "Newton Interpolation: 0.0482861\n",
      "x = 2.53044\n",
      "Newton Interpolation: -0.0704881\n",
      "x = -3.94793\n",
      "Newton Interpolation: 0.061169\n"
     ]
    }
   ],
   "source": [
    "vector<double> x2 = dataset_2.at(0).second;\n",
    "vector<double> y2 = dataset_2.at(1).second;\n",
    "vector<vector<double>> newPointsNewton2D2 = getPointsNewton(x2,y2,x2.size(),Newton,a2);\n",
    "write_csv(\"output_csvs/Newton 2 Times Dataset2.csv\",colnamesnewp,newPointsNewton2D2);\n",
    "\n",
    "PlotInterpolation Plot(x2, y2, newPointsNewton2D2[0], newPointsNewton2D2[1], \"charts/chart4.png\");\n",
    "Plot.gen_plot()"
   ]
  },
  {
   "cell_type": "markdown",
   "metadata": {},
   "source": [
    "![title](charts/chart4.png)"
   ]
  },
  {
   "cell_type": "markdown",
   "metadata": {},
   "source": [
    "#### Quadrupling `3_dataset_2.csv` using `NewtonInterpolator`"
   ]
  },
  {
   "cell_type": "code",
   "execution_count": 48,
   "metadata": {},
   "outputs": [
    {
     "name": "stdout",
     "output_type": "stream",
     "text": [
      "x = -7.82099\n",
      "Newton Interpolation: 0.01227\n",
      "x = -2.40216\n",
      "Newton Interpolation: 0.147797\n",
      "x = -6.3728\n",
      "Newton Interpolation: 0.0240288\n",
      "x = 1.24584\n",
      "Newton Interpolation: 1.03316\n",
      "x = 5.4838\n",
      "Newton Interpolation: 0.050436\n",
      "x = -1.39553\n",
      "Newton Interpolation: 0.341593\n",
      "x = -9.42729\n",
      "Newton Interpolation: -0.00242728\n",
      "x = -1.22517\n",
      "Newton Interpolation: 0.403353\n",
      "x = -9.87247\n",
      "Newton Interpolation: -0.239619\n",
      "x = -8.89271\n",
      "Newton Interpolation: 0.0243353\n",
      "x = 1.37684\n",
      "Newton Interpolation: 0.920963\n",
      "x = 5.41329\n",
      "Newton Interpolation: 0.064648\n",
      "x = -1.27108\n",
      "Newton Interpolation: 0.38559\n",
      "x = 0.832597\n",
      "Newton Interpolation: 1.26192\n",
      "x = 1.61568\n",
      "Newton Interpolation: 0.685382\n",
      "x = 2.62631\n",
      "Newton Interpolation: -0.0983455\n",
      "x = -9.21372\n",
      "Newton Interpolation: 0.0468638\n",
      "x = -4.56258\n",
      "Newton Interpolation: 0.0482861\n",
      "x = 2.53044\n",
      "Newton Interpolation: -0.0704881\n",
      "x = -3.94793\n",
      "Newton Interpolation: 0.061169\n",
      "x = 6.27659\n",
      "Newton Interpolation: 0.560015\n",
      "x = 2.47983\n",
      "Newton Interpolation: -0.0508226\n",
      "x = -8.79591\n",
      "Newton Interpolation: 0.0135965\n",
      "x = 4.65575\n",
      "Newton Interpolation: 0.00818451\n",
      "x = -2.77056\n",
      "Newton Interpolation: 0.115192\n",
      "x = -2.08606\n",
      "Newton Interpolation: 0.186477\n",
      "x = -5.44599\n",
      "Newton Interpolation: 0.0329312\n",
      "x = -7.2417\n",
      "Newton Interpolation: 0.0195496\n",
      "x = 4.87027\n",
      "Newton Interpolation: 0.0270976\n",
      "x = -8.99671\n",
      "Newton Interpolation: 0.0363538\n",
      "x = -1.64225\n",
      "Newton Interpolation: 0.270883\n",
      "x = -4.71501\n",
      "Newton Interpolation: 0.0453435\n",
      "x = -1.81695\n",
      "Newton Interpolation: 0.232151\n",
      "x = -8.49695\n",
      "Newton Interpolation: -0.00424079\n",
      "x = -8.7783\n",
      "Newton Interpolation: 0.0118335\n",
      "x = -3.63643\n",
      "Newton Interpolation: 0.0699557\n",
      "x = 5.13799\n",
      "Newton Interpolation: 0.0675253\n",
      "x = -2.30615\n",
      "Newton Interpolation: 0.158245\n",
      "x = -9.17033\n",
      "Newton Interpolation: 0.0479083\n",
      "x = 2.75894\n",
      "Newton Interpolation: -0.11726\n",
      "x = -7.92324\n",
      "Newton Interpolation: 0.00923891\n",
      "x = 1.40471\n",
      "Newton Interpolation: 0.895221\n",
      "x = 0.4288\n",
      "Newton Interpolation: 1.27431\n",
      "x = 2.01693\n",
      "Newton Interpolation: 0.275353\n",
      "x = 4.71978\n",
      "Newton Interpolation: 0.0110592\n",
      "x = -4.92558\n",
      "Newton Interpolation: 0.0413765\n",
      "x = -1.49728\n",
      "Newton Interpolation: 0.309915\n",
      "x = 4.01424\n",
      "Newton Interpolation: 0.0682795\n",
      "x = 3.94018\n",
      "Newton Interpolation: 0.0725632\n",
      "x = -3.11872\n",
      "Newton Interpolation: 0.0925036\n",
      "x = -2.24864\n",
      "Newton Interpolation: 0.164998\n",
      "x = -7.04588\n",
      "Newton Interpolation: 0.0201793\n",
      "x = -0.530163\n",
      "Newton Interpolation: 0.770173\n",
      "x = -9.45244\n",
      "Newton Interpolation: -0.0143489\n",
      "x = -1.74235\n",
      "Newton Interpolation: 0.247679\n",
      "x = 2.39596\n",
      "Newton Interpolation: -0.0106893\n",
      "x = 4.75565\n",
      "Newton Interpolation: 0.0137791\n",
      "x = 3.94894\n",
      "Newton Interpolation: 0.0722156\n",
      "x = -6.47563\n",
      "Newton Interpolation: 0.0232603\n",
      "x = -7.83939\n",
      "Newton Interpolation: 0.0117659\n"
     ]
    }
   ],
   "source": [
    "vector<double> x2 = dataset_2.at(0).second;\n",
    "vector<double> y2 = dataset_2.at(1).second;\n",
    "vector<vector<double>> newPointsNewton4D2 = getPointsNewton(x2,y2,x2.size()*3,Newton,a2);\n",
    "write_csv(\"output_csvs/Newton 4 Times Dataset2.csv\",colnamesnewp,newPointsNewton4D2);\n",
    "\n",
    "PlotInterpolation Plot(x2, y2, newPointsNewton4D2[0], newPointsNewton4D2[1], \"charts/chart5.png\");\n",
    "Plot.gen_plot()"
   ]
  },
  {
   "cell_type": "markdown",
   "metadata": {},
   "source": [
    "![title](charts/chart5.png)"
   ]
  },
  {
   "cell_type": "markdown",
   "metadata": {},
   "source": [
    "\\pagebreak\n",
    "#### Doubling `3_dataset_1.csv` using `Spline`"
   ]
  },
  {
   "cell_type": "code",
   "execution_count": 49,
   "metadata": {},
   "outputs": [
    {
     "name": "stdout",
     "output_type": "stream",
     "text": [
      "x = -7.35324\n",
      "Cubic Spline Interpolation: -3.47768\n",
      "x = -1.27357\n",
      "Cubic Spline Interpolation: -13.3258\n",
      "x = -5.72844\n",
      "Cubic Spline Interpolation: -34.1737\n",
      "x = 2.8193\n",
      "Cubic Spline Interpolation: 70.1556\n",
      "x = 7.57409\n",
      "Cubic Spline Interpolation: 125.746\n",
      "x = -0.144181\n",
      "Cubic Spline Interpolation: 7.21725\n",
      "x = -9.15543\n",
      "Cubic Spline Interpolation: 65.0448\n",
      "x = 0.0469531\n",
      "Cubic Spline Interpolation: 11.0029\n",
      "x = -9.6549\n",
      "Cubic Spline Interpolation: 90.6614\n",
      "x = -8.55566\n",
      "Cubic Spline Interpolation: 37.3083\n"
     ]
    }
   ],
   "source": [
    "vector<double> x1 = dataset_1.at(0).second;\n",
    "vector<double> y1 = dataset_1.at(1).second;\n",
    "Spline s;\n",
    "vector<vector<double>> cSpline1 = s.fitSpline(x1,y1);\n",
    "\n",
    "vector<vector<double>> newPointsSpline2D1 = getPointsSpline(x1,y1,x1.size(),s);\n",
    "write_csv(\"output_csvs/Spline 2 Times Dataset1.csv\",colnamesnewp,newPointsSpline2D1);\n",
    "\n",
    "PlotInterpolation Plot(x1, y1, newPointsSpline2D1[0], newPointsSpline2D1[1], \"charts/chart6.png\");\n",
    "Plot.gen_plot()"
   ]
  },
  {
   "cell_type": "markdown",
   "metadata": {},
   "source": [
    "![title](charts/chart6.png)\n",
    "\n",
    "\\pagebreak"
   ]
  },
  {
   "cell_type": "markdown",
   "metadata": {},
   "source": [
    "#### Quadrupling `3_dataset_1.csv` using `Spline`"
   ]
  },
  {
   "cell_type": "code",
   "execution_count": 50,
   "metadata": {},
   "outputs": [
    {
     "name": "stdout",
     "output_type": "stream",
     "text": [
      "x = -7.35324\n",
      "Cubic Spline Interpolation: -3.47768\n",
      "x = -1.27357\n",
      "Cubic Spline Interpolation: -13.3258\n",
      "x = -5.72844\n",
      "Cubic Spline Interpolation: -34.1737\n",
      "x = 2.8193\n",
      "Cubic Spline Interpolation: 70.1556\n",
      "x = 7.57409\n",
      "Cubic Spline Interpolation: 125.746\n",
      "x = -0.144181\n",
      "Cubic Spline Interpolation: 7.21725\n",
      "x = -9.15543\n",
      "Cubic Spline Interpolation: 65.0448\n",
      "x = 0.0469531\n",
      "Cubic Spline Interpolation: 11.0029\n",
      "x = -9.6549\n",
      "Cubic Spline Interpolation: 90.6614\n",
      "x = -8.55566\n",
      "Cubic Spline Interpolation: 37.3083\n",
      "x = 2.96628\n",
      "Cubic Spline Interpolation: 73.3096\n",
      "x = 7.49498\n",
      "Cubic Spline Interpolation: 125.579\n",
      "x = -0.00455605\n",
      "Cubic Spline Interpolation: 9.9758\n",
      "x = 2.35567\n",
      "Cubic Spline Interpolation: 60.0636\n",
      "x = 3.23425\n",
      "Cubic Spline Interpolation: 78.9598\n",
      "x = 4.36813\n",
      "Cubic Spline Interpolation: 100.322\n",
      "x = -8.91581\n",
      "Cubic Spline Interpolation: 53.4236\n",
      "x = -3.69746\n",
      "Cubic Spline Interpolation: -40.1641\n",
      "x = 4.26056\n",
      "Cubic Spline Interpolation: 98.5371\n",
      "x = -3.00785\n",
      "Cubic Spline Interpolation: -35.636\n",
      "x = 8.46356\n",
      "Cubic Spline Interpolation: 126.969\n",
      "x = 4.20379\n",
      "Cubic Spline Interpolation: 97.5704\n",
      "x = -8.44705\n",
      "Cubic Spline Interpolation: 32.8396\n",
      "x = 6.64506\n",
      "Cubic Spline Interpolation: 122.795\n",
      "x = -1.6869\n",
      "Cubic Spline Interpolation: -19.8334\n",
      "x = -0.918925\n",
      "Cubic Spline Interpolation: -7.26656\n",
      "x = -4.6886\n",
      "Cubic Spline Interpolation: -41.1756\n",
      "x = -6.7033\n",
      "Cubic Spline Interpolation: -18.9111\n",
      "x = 6.88573\n",
      "Cubic Spline Interpolation: 123.794\n",
      "x = -8.67234\n",
      "Cubic Spline Interpolation: 42.3205\n"
     ]
    }
   ],
   "source": [
    "vector<double> x1 = dataset_1.at(0).second;\n",
    "vector<double> y1 = dataset_1.at(1).second;\n",
    "vector<vector<double>> newPointsSpline4D1 = getPointsSpline(x1,y1,x1.size()*3,s);\n",
    "write_csv(\"output_csvs/Spline 4 Times Dataset1.csv\",colnamesnewp,newPointsSpline4D1);\n",
    "\n",
    "PlotInterpolation Plot(x1, y1, newPointsSpline4D1[0], newPointsSpline4D1[1], \"charts/chart7.png\");\n",
    "Plot.gen_plot()"
   ]
  },
  {
   "cell_type": "markdown",
   "metadata": {},
   "source": [
    "![title](charts/chart7.png)"
   ]
  },
  {
   "cell_type": "markdown",
   "metadata": {},
   "source": [
    "#### Doubling `3_dataset_2.csv` using `Spline`"
   ]
  },
  {
   "cell_type": "code",
   "execution_count": 51,
   "metadata": {},
   "outputs": [
    {
     "name": "stdout",
     "output_type": "stream",
     "text": [
      "x = -7.82099\n",
      "Cubic Spline Interpolation: 0.0160849\n",
      "x = -2.40216\n",
      "Cubic Spline Interpolation: 0.148882\n",
      "x = -6.3728\n",
      "Cubic Spline Interpolation: 0.0240312\n",
      "x = 1.24584\n",
      "Cubic Spline Interpolation: 0.549258\n",
      "x = 5.4838\n",
      "Cubic Spline Interpolation: 0.0322147\n",
      "x = -1.39553\n",
      "Cubic Spline Interpolation: 0.387296\n",
      "x = -9.42729\n",
      "Cubic Spline Interpolation: 0.0111277\n",
      "x = -1.22517\n",
      "Cubic Spline Interpolation: 0.477508\n",
      "x = -9.87247\n",
      "Cubic Spline Interpolation: 0.0101644\n",
      "x = -8.89271\n",
      "Cubic Spline Interpolation: 0.0124866\n",
      "x = 1.37684\n",
      "Cubic Spline Interpolation: 0.486327\n",
      "x = 5.41329\n",
      "Cubic Spline Interpolation: 0.0330678\n",
      "x = -1.27108\n",
      "Cubic Spline Interpolation: 0.45239\n",
      "x = 0.832597\n",
      "Cubic Spline Interpolation: 0.739015\n",
      "x = 1.61568\n",
      "Cubic Spline Interpolation: 0.374616\n",
      "x = 2.62631\n",
      "Cubic Spline Interpolation: 0.0881143\n",
      "x = -9.21372\n",
      "Cubic Spline Interpolation: 0.0116398\n",
      "x = -4.56258\n",
      "Cubic Spline Interpolation: 0.0462939\n",
      "x = 2.53044\n",
      "Cubic Spline Interpolation: 0.0989651\n",
      "x = -3.94793\n",
      "Cubic Spline Interpolation: 0.0607052\n"
     ]
    }
   ],
   "source": [
    "vector<double> x2 = dataset_2.at(0).second;\n",
    "vector<double> y2 = dataset_2.at(1).second;\n",
    "Spline s2;\n",
    "vector<vector<double>> cSpline2 = s2.fitSpline(x2,y2);\n",
    "\n",
    "vector<vector<double>> newPointsSpline2D2 = getPointsSpline(x2,y2,x2.size(),s2);\n",
    "write_csv(\"output_csvs/Spline 2 Times Dataset2.csv\",colnamesnewp,newPointsSpline2D2);\n",
    "\n",
    "PlotInterpolation Plot(x2, y2, newPointsSpline2D2[0], newPointsSpline2D2[1], \"charts/chart8.png\");\n",
    "Plot.gen_plot()"
   ]
  },
  {
   "cell_type": "markdown",
   "metadata": {},
   "source": [
    "![title](charts/chart8.png)"
   ]
  },
  {
   "cell_type": "markdown",
   "metadata": {},
   "source": [
    "#### Quadrupling `3_dataset_2.csv` using `Spline`"
   ]
  },
  {
   "cell_type": "code",
   "execution_count": 52,
   "metadata": {},
   "outputs": [
    {
     "name": "stdout",
     "output_type": "stream",
     "text": [
      "x = -7.82099\n",
      "Cubic Spline Interpolation: 0.0160849\n",
      "x = -2.40216\n",
      "Cubic Spline Interpolation: 0.148882\n",
      "x = -6.3728\n",
      "Cubic Spline Interpolation: 0.0240312\n",
      "x = 1.24584\n",
      "Cubic Spline Interpolation: 0.549258\n",
      "x = 5.4838\n",
      "Cubic Spline Interpolation: 0.0322147\n",
      "x = -1.39553\n",
      "Cubic Spline Interpolation: 0.387296\n",
      "x = -9.42729\n",
      "Cubic Spline Interpolation: 0.0111277\n",
      "x = -1.22517\n",
      "Cubic Spline Interpolation: 0.477508\n",
      "x = -9.87247\n",
      "Cubic Spline Interpolation: 0.0101644\n",
      "x = -8.89271\n",
      "Cubic Spline Interpolation: 0.0124866\n",
      "x = 1.37684\n",
      "Cubic Spline Interpolation: 0.486327\n",
      "x = 5.41329\n",
      "Cubic Spline Interpolation: 0.0330678\n",
      "x = -1.27108\n",
      "Cubic Spline Interpolation: 0.45239\n",
      "x = 0.832597\n",
      "Cubic Spline Interpolation: 0.739015\n",
      "x = 1.61568\n",
      "Cubic Spline Interpolation: 0.374616\n",
      "x = 2.62631\n",
      "Cubic Spline Interpolation: 0.0881143\n",
      "x = -9.21372\n",
      "Cubic Spline Interpolation: 0.0116398\n",
      "x = -4.56258\n",
      "Cubic Spline Interpolation: 0.0462939\n",
      "x = 2.53044\n",
      "Cubic Spline Interpolation: 0.0989651\n",
      "x = -3.94793\n",
      "Cubic Spline Interpolation: 0.0607052\n",
      "x = 6.27659\n",
      "Cubic Spline Interpolation: 0.0248143\n",
      "x = 2.47983\n",
      "Cubic Spline Interpolation: 0.10584\n",
      "x = -8.79591\n",
      "Cubic Spline Interpolation: 0.0127603\n",
      "x = 4.65575\n",
      "Cubic Spline Interpolation: 0.0434686\n",
      "x = -2.77056\n",
      "Cubic Spline Interpolation: 0.114925\n",
      "x = -2.08606\n",
      "Cubic Spline Interpolation: 0.179729\n",
      "x = -5.44599\n",
      "Cubic Spline Interpolation: 0.0326501\n",
      "x = -7.2417\n",
      "Cubic Spline Interpolation: 0.0187108\n",
      "x = 4.87027\n",
      "Cubic Spline Interpolation: 0.0403091\n",
      "x = -8.99671\n",
      "Cubic Spline Interpolation: 0.0122021\n",
      "x = -1.64225\n",
      "Cubic Spline Interpolation: 0.278717\n",
      "x = -4.71501\n",
      "Cubic Spline Interpolation: 0.0434136\n",
      "x = -1.81695\n",
      "Cubic Spline Interpolation: 0.225788\n",
      "x = -8.49695\n",
      "Cubic Spline Interpolation: 0.0136614\n",
      "x = -8.7783\n",
      "Cubic Spline Interpolation: 0.012811\n",
      "x = -3.63643\n",
      "Cubic Spline Interpolation: 0.0699828\n",
      "x = 5.13799\n",
      "Cubic Spline Interpolation: 0.0366476\n",
      "x = -2.30615\n",
      "Cubic Spline Interpolation: 0.157884\n",
      "x = -9.17033\n",
      "Cubic Spline Interpolation: 0.0117489\n",
      "x = 2.75894\n",
      "Cubic Spline Interpolation: 0.0772795\n",
      "x = -7.92324\n",
      "Cubic Spline Interpolation: 0.0156785\n",
      "x = 1.40471\n",
      "Cubic Spline Interpolation: 0.473001\n",
      "x = 0.4288\n",
      "Cubic Spline Interpolation: 0.882363\n",
      "x = 2.01693\n",
      "Cubic Spline Interpolation: 0.214244\n",
      "x = 4.71978\n",
      "Cubic Spline Interpolation: 0.042473\n",
      "x = -4.92558\n",
      "Cubic Spline Interpolation: 0.0398277\n",
      "x = -1.49728\n",
      "Cubic Spline Interpolation: 0.338558\n",
      "x = 4.01424\n",
      "Cubic Spline Interpolation: 0.0593278\n",
      "x = 3.94018\n",
      "Cubic Spline Interpolation: 0.061778\n",
      "x = -3.11872\n",
      "Cubic Spline Interpolation: 0.0916173\n",
      "x = -2.24864\n",
      "Cubic Spline Interpolation: 0.163144\n",
      "x = -7.04588\n",
      "Cubic Spline Interpolation: 0.0197446\n",
      "x = -0.530163\n",
      "Cubic Spline Interpolation: 0.842672\n",
      "x = -9.45244\n",
      "Cubic Spline Interpolation: 0.01107\n",
      "x = -1.74235\n",
      "Cubic Spline Interpolation: 0.245642\n",
      "x = 2.39596\n",
      "Cubic Spline Interpolation: 0.119142\n",
      "x = 4.75565\n",
      "Cubic Spline Interpolation: 0.0419386\n",
      "x = 3.94894\n",
      "Cubic Spline Interpolation: 0.0614965\n",
      "x = -6.47563\n",
      "Cubic Spline Interpolation: 0.0232916\n",
      "x = -7.83939\n",
      "Cubic Spline Interpolation: 0.0160106\n"
     ]
    }
   ],
   "source": [
    "vector<double> x2 = dataset_2.at(0).second;\n",
    "vector<double> y2 = dataset_2.at(1).second;\n",
    "vector<vector<double>> newPointsSpline4D2 = getPointsSpline(x2,y2,x2.size()*3,s2);\n",
    "write_csv(\"output_csvs/Spline 4 Times Dataset2.csv\",colnamesnewp,newPointsSpline4D2);\n",
    "\n",
    "PlotInterpolation Plot(x2, y2, newPointsSpline4D2[0], newPointsSpline4D2[1], \"charts/chart9.png\");\n",
    "Plot.gen_plot()"
   ]
  },
  {
   "cell_type": "markdown",
   "metadata": {},
   "source": [
    "![title](charts/chart9.png)"
   ]
  },
  {
   "cell_type": "markdown",
   "metadata": {},
   "source": [
    "#### Saving results from our implementation of the cubic spline method in CSV format"
   ]
  },
  {
   "cell_type": "code",
   "execution_count": 53,
   "metadata": {},
   "outputs": [],
   "source": [
    "vector<double> x1 = dataset_1.at(0).second;\n",
    "vector<double> y1 = dataset_1.at(1).second;\n",
    "vector<double> x2 = dataset_2.at(0).second;\n",
    "vector<double> y2 = dataset_2.at(1).second;\n",
    "\n",
    "std::vector<string> colnamesSpline1(5);\n",
    "colnamesSpline1[0] = \"Spline x Dataset 1\";\n",
    "colnamesSpline1[1] = \"Spline a Dataset 1\";\n",
    "colnamesSpline1[2] = \"Spline b Dataset 1\";\n",
    "colnamesSpline1[3] = \"Spline c Dataset 1\";\n",
    "colnamesSpline1[4] = \"Spline y Dataset 1\";\n",
    "\n",
    "write_csv(\"output_csvs/Cubic Spline Interpolator Dataset 1.csv\",colnamesSpline1,cSpline1);"
   ]
  },
  {
   "cell_type": "code",
   "execution_count": 54,
   "metadata": {},
   "outputs": [],
   "source": [
    "vector<double> x1 = dataset_1.at(0).second;\n",
    "vector<double> y1 = dataset_1.at(1).second;\n",
    "vector<double> x2 = dataset_2.at(0).second;\n",
    "vector<double> y2 = dataset_2.at(1).second;\n",
    "\n",
    "vector<vector<double>> cSpline2 = s.fitSpline(x2,y2);\n",
    "std::vector<string> colnamesSpline2(5);\n",
    "colnamesSpline2[0] = \"Spline x Dataset 2\";\n",
    "colnamesSpline2[1] = \"Spline a Dataset 2\";\n",
    "colnamesSpline2[2] = \"Spline b Dataset 2\";\n",
    "colnamesSpline2[3] = \"Spline c Dataset 2\";\n",
    "colnamesSpline2[4] = \"Spline y Dataset 2\";\n",
    "\n",
    "write_csv(\"output_csvs/Cubic Spline Interpolator Dataset 2.csv\",colnamesSpline2,cSpline2);"
   ]
  },
  {
   "cell_type": "markdown",
   "metadata": {},
   "source": [
    "### Our  comment on the diﬀerence between Newton's and cubic spline performance on each dataset.\n",
    "\n",
    "From visually inspecting the plots above we can tell the did fit both datasets better. This is due to the fact that cubic spline is more complex, it gets a more stable solution (less variations in the function after interpolation)"
   ]
  }
 ],
 "metadata": {
  "kernelspec": {
   "display_name": "C++11",
   "language": "C++11",
   "name": "xcpp11"
  },
  "language_info": {
   "codemirror_mode": "text/x-c++src",
   "file_extension": ".cpp",
   "mimetype": "text/x-c++src",
   "name": "c++",
   "version": "11"
  }
 },
 "nbformat": 4,
 "nbformat_minor": 4
}
